{
 "cells": [
  {
   "cell_type": "markdown",
   "metadata": {},
   "source": [
    "### [Fashion MNIST](https://github.com/zalandoresearch/fashion-mnist)\n",
    "\n"
   ]
  },
  {
   "cell_type": "markdown",
   "metadata": {},
   "source": [
    "https://github.com/zalandoresearch/fashion-mnist\n",
    "\n",
    "\n",
    "Performances : http://fashion-mnist.s3-website.eu-central-1.amazonaws.com/\n"
   ]
  },
  {
   "cell_type": "code",
   "execution_count": 1,
   "metadata": {
    "ExecuteTime": {
     "end_time": "2018-01-08T15:58:11.104929Z",
     "start_time": "2018-01-08T15:58:10.759677Z"
    }
   },
   "outputs": [],
   "source": [
    "import mxnet as mx\n",
    "from mxnet import gluon\n",
    "from mxnet.gluon import nn, rnn\n",
    "from tqdm import tqdm\n",
    "from mxnet import  autograd"
   ]
  },
  {
   "cell_type": "code",
   "execution_count": 2,
   "metadata": {
    "ExecuteTime": {
     "end_time": "2018-01-08T15:58:11.107809Z",
     "start_time": "2018-01-08T15:58:11.105719Z"
    }
   },
   "outputs": [],
   "source": [
    "def transform_f_mnist(data, label):\n",
    "    # height x weight x channel to channel x height x weight\n",
    "    return(mx.nd.transpose(data.astype('float32'), (2,0,1))/255, label.astype('float32'))"
   ]
  },
  {
   "cell_type": "code",
   "execution_count": 3,
   "metadata": {
    "ExecuteTime": {
     "end_time": "2018-01-08T15:58:11.548748Z",
     "start_time": "2018-01-08T15:58:11.108629Z"
    }
   },
   "outputs": [
    {
     "name": "stdout",
     "output_type": "stream",
     "text": [
      "Downloading /home/gogamza/.mxnet/datasets/fashion-mnist/t10k-images-idx3-ubyte.gz from https://apache-mxnet.s3-accelerate.dualstack.amazonaws.com/gluon/dataset/fashion-mnist/t10k-images-idx3-ubyte.gz...\n",
      "Downloading /home/gogamza/.mxnet/datasets/fashion-mnist/t10k-labels-idx1-ubyte.gz from https://apache-mxnet.s3-accelerate.dualstack.amazonaws.com/gluon/dataset/fashion-mnist/t10k-labels-idx1-ubyte.gz...\n",
      "Downloading /home/gogamza/.mxnet/datasets/fashion-mnist/train-images-idx3-ubyte.gz from https://apache-mxnet.s3-accelerate.dualstack.amazonaws.com/gluon/dataset/fashion-mnist/train-images-idx3-ubyte.gz...\n",
      "Downloading /home/gogamza/.mxnet/datasets/fashion-mnist/train-labels-idx1-ubyte.gz from https://apache-mxnet.s3-accelerate.dualstack.amazonaws.com/gluon/dataset/fashion-mnist/train-labels-idx1-ubyte.gz...\n"
     ]
    }
   ],
   "source": [
    "test_set = gluon.data.vision.FashionMNIST(train=False, transform=transform_f_mnist)\n",
    "train_set = gluon.data.vision.FashionMNIST(train=True, transform=transform_f_mnist)"
   ]
  },
  {
   "cell_type": "code",
   "execution_count": 4,
   "metadata": {
    "ExecuteTime": {
     "end_time": "2018-01-08T15:58:11.551454Z",
     "start_time": "2018-01-08T15:58:11.549641Z"
    }
   },
   "outputs": [],
   "source": [
    "test_set_iter  = gluon.data.DataLoader(test_set,  batch_size=120, shuffle=True)\n",
    "train_set_iter = gluon.data.DataLoader(train_set, batch_size=120, shuffle=True)"
   ]
  },
  {
   "cell_type": "code",
   "execution_count": 5,
   "metadata": {
    "ExecuteTime": {
     "end_time": "2018-01-08T15:58:11.733129Z",
     "start_time": "2018-01-08T15:58:11.552175Z"
    }
   },
   "outputs": [],
   "source": [
    "for i, (data_x, data_y) in enumerate(train_set_iter):\n",
    "    data_set_x = data_x\n",
    "    data_set_y = data_y\n",
    "    break"
   ]
  },
  {
   "cell_type": "code",
   "execution_count": 6,
   "metadata": {
    "ExecuteTime": {
     "end_time": "2018-01-08T15:58:11.739277Z",
     "start_time": "2018-01-08T15:58:11.733965Z"
    }
   },
   "outputs": [
    {
     "data": {
      "text/plain": [
       "(120, 1, 28, 28)"
      ]
     },
     "execution_count": 6,
     "metadata": {},
     "output_type": "execute_result"
    }
   ],
   "source": [
    "data_set_x.shape"
   ]
  },
  {
   "cell_type": "code",
   "execution_count": 7,
   "metadata": {
    "ExecuteTime": {
     "end_time": "2018-01-08T15:58:11.851606Z",
     "start_time": "2018-01-08T15:58:11.740068Z"
    }
   },
   "outputs": [],
   "source": [
    "class f_mnist(gluon.Block):\n",
    "    def __init__(self, **kwargs):\n",
    "        super(f_mnist, self).__init__(**kwargs)\n",
    "        with self.name_scope():\n",
    "            self.conv0 = nn.Conv2D(channels=64, kernel_size=5, activation='relu')\n",
    "            self.maxpool = nn.MaxPool2D()\n",
    "            self.conv1 = nn.Conv2D(channels=128, kernel_size=3, activation='relu')\n",
    "            self.avgpool = nn.GlobalAvgPool2D()\n",
    "            self.dense = nn.Dense(10)\n",
    "            \n",
    "    def forward(self, inputs):\n",
    "        x = self.conv0(inputs)\n",
    "        x = self.maxpool(x)\n",
    "        x = self.conv1(x)\n",
    "        x = self.avgpool(x)\n",
    "        return self.dense(x)\n"
   ]
  },
  {
   "cell_type": "code",
   "execution_count": 8,
   "metadata": {
    "ExecuteTime": {
     "end_time": "2018-01-08T16:02:35.146717Z",
     "start_time": "2018-01-08T16:02:35.141349Z"
    }
   },
   "outputs": [],
   "source": [
    "ctx = mx.gpu(0)"
   ]
  },
  {
   "cell_type": "code",
   "execution_count": 9,
   "metadata": {
    "ExecuteTime": {
     "end_time": "2018-01-08T16:02:35.252022Z",
     "start_time": "2018-01-08T16:02:35.151920Z"
    }
   },
   "outputs": [],
   "source": [
    "net = f_mnist()"
   ]
  },
  {
   "cell_type": "code",
   "execution_count": 10,
   "metadata": {
    "ExecuteTime": {
     "end_time": "2018-01-08T16:02:35.349444Z",
     "start_time": "2018-01-08T16:02:35.255987Z"
    }
   },
   "outputs": [],
   "source": [
    "def evaluate(net, data_iter, ctx):\n",
    "    acc = mx.metric.Accuracy()\n",
    "    for data_x, data_y in data_iter:\n",
    "        data_x = data_x.as_in_context(ctx)\n",
    "        data_y = data_y.as_in_context(ctx)\n",
    "        with autograd.predict_mode():\n",
    "            output = net(data_x)\n",
    "        predictions = mx.nd.argmax(output, axis=1)\n",
    "        acc.update(preds=predictions, labels=data_y)\n",
    "        mx.ndarray.waitall()\n",
    "    return acc.get()[1]"
   ]
  },
  {
   "cell_type": "code",
   "execution_count": 11,
   "metadata": {
    "ExecuteTime": {
     "end_time": "2018-01-08T16:02:35.468858Z",
     "start_time": "2018-01-08T16:02:35.353627Z"
    }
   },
   "outputs": [],
   "source": [
    "net.collect_params().initialize(mx.init.Xavier(), ctx=ctx)\n",
    "trainer = gluon.trainer.Trainer(net.collect_params(), 'adam')\n",
    "loss = gluon.loss.SoftmaxCrossEntropyLoss()"
   ]
  },
  {
   "cell_type": "code",
   "execution_count": 12,
   "metadata": {
    "ExecuteTime": {
     "end_time": "2018-01-08T16:02:35.573271Z",
     "start_time": "2018-01-08T16:02:35.472913Z"
    }
   },
   "outputs": [
    {
     "name": "stdout",
     "output_type": "stream",
     "text": [
      "f_mnist(\n",
      "  (conv0): Conv2D(1 -> 64, kernel_size=(5, 5), stride=(1, 1))\n",
      "  (maxpool): MaxPool2D(size=(2, 2), stride=(2, 2), padding=(0, 0), ceil_mode=False)\n",
      "  (conv1): Conv2D(64 -> 128, kernel_size=(3, 3), stride=(1, 1))\n",
      "  (avgpool): GlobalAvgPool2D(size=(1, 1), stride=(1, 1), padding=(0, 0), ceil_mode=True)\n",
      "  (dense): Dense(128 -> 10, linear)\n",
      ")\n"
     ]
    },
    {
     "data": {
      "text/plain": [
       "((120, 10), None)"
      ]
     },
     "execution_count": 12,
     "metadata": {},
     "output_type": "execute_result"
    }
   ],
   "source": [
    "net(data_set_x.as_in_context(ctx)).shape, print(net)"
   ]
  },
  {
   "cell_type": "code",
   "execution_count": 13,
   "metadata": {
    "ExecuteTime": {
     "end_time": "2018-01-08T16:20:13.491621Z",
     "start_time": "2018-01-08T16:13:03.929941Z"
    }
   },
   "outputs": [
    {
     "name": "stderr",
     "output_type": "stream",
     "text": [
      "100%|██████████| 500/500 [00:07<00:00, 65.67it/s]\n",
      "  1%|          | 5/500 [00:00<00:10, 46.17it/s]"
     ]
    },
    {
     "name": "stdout",
     "output_type": "stream",
     "text": [
      "0 : the train loss ; 1.0060115902423858, the train accracy ; 0.7541, the test accuracy ; 0.7488166666666667\n"
     ]
    },
    {
     "name": "stderr",
     "output_type": "stream",
     "text": [
      "100%|██████████| 500/500 [00:07<00:00, 64.24it/s]\n",
      "  1%|          | 5/500 [00:00<00:10, 49.45it/s]"
     ]
    },
    {
     "name": "stdout",
     "output_type": "stream",
     "text": [
      "1 : the train loss ; 0.6944653220772743, the train accracy ; 0.7618, the test accuracy ; 0.7600833333333333\n"
     ]
    },
    {
     "name": "stderr",
     "output_type": "stream",
     "text": [
      "100%|██████████| 500/500 [00:07<00:00, 64.53it/s]\n",
      "  1%|          | 5/500 [00:00<00:10, 48.03it/s]"
     ]
    },
    {
     "name": "stdout",
     "output_type": "stream",
     "text": [
      "2 : the train loss ; 0.6260994725227356, the train accracy ; 0.7924, the test accuracy ; 0.7909\n"
     ]
    },
    {
     "name": "stderr",
     "output_type": "stream",
     "text": [
      "100%|██████████| 500/500 [00:07<00:00, 65.26it/s]\n",
      "  1%|          | 5/500 [00:00<00:10, 48.72it/s]"
     ]
    },
    {
     "name": "stdout",
     "output_type": "stream",
     "text": [
      "3 : the train loss ; 0.5828451721072196, the train accracy ; 0.7892, the test accuracy ; 0.7872666666666667\n"
     ]
    },
    {
     "name": "stderr",
     "output_type": "stream",
     "text": [
      "100%|██████████| 500/500 [00:07<00:00, 65.24it/s]\n",
      "  1%|          | 5/500 [00:00<00:10, 49.13it/s]"
     ]
    },
    {
     "name": "stdout",
     "output_type": "stream",
     "text": [
      "4 : the train loss ; 0.5481005263328552, the train accracy ; 0.8166, the test accuracy ; 0.8078833333333333\n"
     ]
    },
    {
     "name": "stderr",
     "output_type": "stream",
     "text": [
      "100%|██████████| 500/500 [00:07<00:00, 63.69it/s]\n",
      "  1%|          | 5/500 [00:00<00:10, 46.90it/s]"
     ]
    },
    {
     "name": "stdout",
     "output_type": "stream",
     "text": [
      "5 : the train loss ; 0.5246402921676636, the train accracy ; 0.8218, the test accuracy ; 0.81725\n"
     ]
    },
    {
     "name": "stderr",
     "output_type": "stream",
     "text": [
      "100%|██████████| 500/500 [00:07<00:00, 64.71it/s]\n",
      "  1%|          | 5/500 [00:00<00:10, 45.27it/s]"
     ]
    },
    {
     "name": "stdout",
     "output_type": "stream",
     "text": [
      "6 : the train loss ; 0.5072098358273506, the train accracy ; 0.8333, the test accuracy ; 0.82785\n"
     ]
    },
    {
     "name": "stderr",
     "output_type": "stream",
     "text": [
      "100%|██████████| 500/500 [00:07<00:00, 63.99it/s]\n",
      "  1%|          | 5/500 [00:00<00:10, 46.25it/s]"
     ]
    },
    {
     "name": "stdout",
     "output_type": "stream",
     "text": [
      "7 : the train loss ; 0.49247391003370283, the train accracy ; 0.8264, the test accuracy ; 0.8236333333333333\n"
     ]
    },
    {
     "name": "stderr",
     "output_type": "stream",
     "text": [
      "100%|██████████| 500/500 [00:07<00:00, 64.11it/s]\n",
      "  1%|          | 5/500 [00:00<00:11, 43.90it/s]"
     ]
    },
    {
     "name": "stdout",
     "output_type": "stream",
     "text": [
      "8 : the train loss ; 0.4752144655585289, the train accracy ; 0.8382, the test accuracy ; 0.8328166666666666\n"
     ]
    },
    {
     "name": "stderr",
     "output_type": "stream",
     "text": [
      "100%|██████████| 500/500 [00:07<00:00, 64.76it/s]\n",
      "  1%|          | 5/500 [00:00<00:10, 45.07it/s]"
     ]
    },
    {
     "name": "stdout",
     "output_type": "stream",
     "text": [
      "9 : the train loss ; 0.46304767924547197, the train accracy ; 0.8446, the test accuracy ; 0.843\n"
     ]
    },
    {
     "name": "stderr",
     "output_type": "stream",
     "text": [
      "100%|██████████| 500/500 [00:07<00:00, 63.43it/s]\n",
      "  1%|          | 5/500 [00:00<00:10, 45.62it/s]"
     ]
    },
    {
     "name": "stdout",
     "output_type": "stream",
     "text": [
      "10 : the train loss ; 0.45213091200590133, the train accracy ; 0.8394, the test accuracy ; 0.8370666666666666\n"
     ]
    },
    {
     "name": "stderr",
     "output_type": "stream",
     "text": [
      "100%|██████████| 500/500 [00:07<00:00, 64.24it/s]\n",
      "  1%|          | 5/500 [00:00<00:11, 44.55it/s]"
     ]
    },
    {
     "name": "stdout",
     "output_type": "stream",
     "text": [
      "11 : the train loss ; 0.44045740461349486, the train accracy ; 0.8453, the test accuracy ; 0.8445833333333334\n"
     ]
    },
    {
     "name": "stderr",
     "output_type": "stream",
     "text": [
      "100%|██████████| 500/500 [00:07<00:00, 64.88it/s]\n",
      "  1%|          | 5/500 [00:00<00:10, 47.96it/s]"
     ]
    },
    {
     "name": "stdout",
     "output_type": "stream",
     "text": [
      "12 : the train loss ; 0.43137178349494937, the train accracy ; 0.8595, the test accuracy ; 0.8554333333333334\n"
     ]
    },
    {
     "name": "stderr",
     "output_type": "stream",
     "text": [
      "100%|██████████| 500/500 [00:07<00:00, 64.07it/s]\n",
      "  1%|          | 5/500 [00:00<00:10, 45.57it/s]"
     ]
    },
    {
     "name": "stdout",
     "output_type": "stream",
     "text": [
      "13 : the train loss ; 0.41909335854649543, the train accracy ; 0.8618, the test accuracy ; 0.8553166666666666\n"
     ]
    },
    {
     "name": "stderr",
     "output_type": "stream",
     "text": [
      "100%|██████████| 500/500 [00:07<00:00, 62.79it/s]\n",
      "  1%|          | 5/500 [00:00<00:10, 45.87it/s]"
     ]
    },
    {
     "name": "stdout",
     "output_type": "stream",
     "text": [
      "14 : the train loss ; 0.4092454485297203, the train accracy ; 0.8619, the test accuracy ; 0.8582166666666666\n"
     ]
    },
    {
     "name": "stderr",
     "output_type": "stream",
     "text": [
      "100%|██████████| 500/500 [00:07<00:00, 63.81it/s]\n",
      "  1%|          | 5/500 [00:00<00:11, 44.30it/s]"
     ]
    },
    {
     "name": "stdout",
     "output_type": "stream",
     "text": [
      "15 : the train loss ; 0.40287381428480146, the train accracy ; 0.8648, the test accuracy ; 0.8631166666666666\n"
     ]
    },
    {
     "name": "stderr",
     "output_type": "stream",
     "text": [
      "100%|██████████| 500/500 [00:07<00:00, 63.63it/s]\n",
      "  1%|          | 5/500 [00:00<00:10, 45.43it/s]"
     ]
    },
    {
     "name": "stdout",
     "output_type": "stream",
     "text": [
      "16 : the train loss ; 0.39728061586618424, the train accracy ; 0.8656, the test accuracy ; 0.8605833333333334\n"
     ]
    },
    {
     "name": "stderr",
     "output_type": "stream",
     "text": [
      "100%|██████████| 500/500 [00:07<00:00, 64.30it/s]\n",
      "  1%|          | 5/500 [00:00<00:10, 47.09it/s]"
     ]
    },
    {
     "name": "stdout",
     "output_type": "stream",
     "text": [
      "17 : the train loss ; 0.3883708582818508, the train accracy ; 0.87, the test accuracy ; 0.8675\n"
     ]
    },
    {
     "name": "stderr",
     "output_type": "stream",
     "text": [
      "100%|██████████| 500/500 [00:07<00:00, 64.61it/s]\n",
      "  1%|          | 5/500 [00:00<00:10, 47.67it/s]"
     ]
    },
    {
     "name": "stdout",
     "output_type": "stream",
     "text": [
      "18 : the train loss ; 0.3825361737310886, the train accracy ; 0.8773, the test accuracy ; 0.8717\n"
     ]
    },
    {
     "name": "stderr",
     "output_type": "stream",
     "text": [
      "100%|██████████| 500/500 [00:07<00:00, 65.54it/s]\n"
     ]
    },
    {
     "name": "stdout",
     "output_type": "stream",
     "text": [
      "19 : the train loss ; 0.3778698104023933, the train accracy ; 0.8745, the test accuracy ; 0.8718666666666667\n"
     ]
    }
   ],
   "source": [
    "epoches = 20\n",
    "for e in range(epoches):\n",
    "    train_loss = 0\n",
    "    for i, (data_x, data_y) in enumerate(tqdm(train_set_iter)):\n",
    "        data = data_x.as_in_context(ctx)\n",
    "        label = data_y.as_in_context(ctx)\n",
    "        with autograd.record():\n",
    "            output = net(data)\n",
    "            loss_ = loss(output, label)\n",
    "        loss_.backward()\n",
    "        trainer.step(data.shape[0])\n",
    "        train_loss += mx.nd.mean(loss_).asscalar()\n",
    "    train_acc = evaluate(net, test_set_iter,  ctx=ctx)\n",
    "    test_acc  = evaluate(net, train_set_iter, ctx=ctx)\n",
    "    \n",
    "    print(\"{} : the train loss ; {}, the train accracy ; {}, the test accuracy ; {}\".format(e, train_loss / len(train_set_iter), train_acc, test_acc))"
   ]
  }
 ],
 "metadata": {
  "kernelspec": {
   "display_name": "Python 3",
   "language": "python",
   "name": "python3"
  },
  "language_info": {
   "codemirror_mode": {
    "name": "ipython",
    "version": 3
   },
   "file_extension": ".py",
   "mimetype": "text/x-python",
   "name": "python",
   "nbconvert_exporter": "python",
   "pygments_lexer": "ipython3",
   "version": "3.6.3"
  }
 },
 "nbformat": 4,
 "nbformat_minor": 2
}
