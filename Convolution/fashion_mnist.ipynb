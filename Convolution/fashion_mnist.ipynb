{
 "cells": [
  {
   "cell_type": "markdown",
   "metadata": {},
   "source": [
    "### [Fashion MNIST](https://github.com/zalandoresearch/fashion-mnist)\n",
    "\n"
   ]
  },
  {
   "cell_type": "markdown",
   "metadata": {},
   "source": [
    "https://github.com/zalandoresearch/fashion-mnist\n",
    "\n"
   ]
  },
  {
   "cell_type": "code",
   "execution_count": 2,
   "metadata": {
    "ExecuteTime": {
     "end_time": "2018-01-08T15:58:11.104929Z",
     "start_time": "2018-01-08T15:58:10.759677Z"
    }
   },
   "outputs": [],
   "source": [
    "import mxnet as mx\n",
    "from mxnet import gluon\n",
    "from mxnet.gluon import nn, rnn\n",
    "from tqdm import tqdm\n",
    "from mxnet import  autograd"
   ]
  },
  {
   "cell_type": "code",
   "execution_count": 3,
   "metadata": {
    "ExecuteTime": {
     "end_time": "2018-01-08T15:58:11.107809Z",
     "start_time": "2018-01-08T15:58:11.105719Z"
    }
   },
   "outputs": [],
   "source": [
    "def transform_f_mnist(data, label):\n",
    "    # height x weight x channel to channel x height x weight\n",
    "    return(mx.nd.transpose(data.astype('float32'), (2,0,1))/255, label.astype('float32'))"
   ]
  },
  {
   "cell_type": "code",
   "execution_count": 4,
   "metadata": {
    "ExecuteTime": {
     "end_time": "2018-01-08T15:58:11.548748Z",
     "start_time": "2018-01-08T15:58:11.108629Z"
    }
   },
   "outputs": [
    {
     "name": "stdout",
     "output_type": "stream",
     "text": [
      "Downloading /home/gogamza/.mxnet/datasets/fashion-mnist/t10k-images-idx3-ubyte.gz from https://apache-mxnet.s3-accelerate.dualstack.amazonaws.com/gluon/dataset/fashion-mnist/t10k-images-idx3-ubyte.gz...\n",
      "Downloading /home/gogamza/.mxnet/datasets/fashion-mnist/t10k-labels-idx1-ubyte.gz from https://apache-mxnet.s3-accelerate.dualstack.amazonaws.com/gluon/dataset/fashion-mnist/t10k-labels-idx1-ubyte.gz...\n"
     ]
    },
    {
     "name": "stderr",
     "output_type": "stream",
     "text": [
      "/opt/venv/lib/python3.6/site-packages/mxnet/gluon/data/vision.py:118: DeprecationWarning: The binary mode of fromstring is deprecated, as it behaves surprisingly on unicode inputs. Use frombuffer instead\n",
      "  label = np.fromstring(fin.read(), dtype=np.uint8).astype(np.int32)\n",
      "/opt/venv/lib/python3.6/site-packages/mxnet/gluon/data/vision.py:122: DeprecationWarning: The binary mode of fromstring is deprecated, as it behaves surprisingly on unicode inputs. Use frombuffer instead\n",
      "  data = np.fromstring(fin.read(), dtype=np.uint8)\n"
     ]
    },
    {
     "name": "stdout",
     "output_type": "stream",
     "text": [
      "Downloading /home/gogamza/.mxnet/datasets/fashion-mnist/train-images-idx3-ubyte.gz from https://apache-mxnet.s3-accelerate.dualstack.amazonaws.com/gluon/dataset/fashion-mnist/train-images-idx3-ubyte.gz...\n",
      "Downloading /home/gogamza/.mxnet/datasets/fashion-mnist/train-labels-idx1-ubyte.gz from https://apache-mxnet.s3-accelerate.dualstack.amazonaws.com/gluon/dataset/fashion-mnist/train-labels-idx1-ubyte.gz...\n"
     ]
    }
   ],
   "source": [
    "test_set = gluon.data.vision.FashionMNIST(train=False, transform=transform_f_mnist)\n",
    "train_set = gluon.data.vision.FashionMNIST(train=True, transform=transform_f_mnist)"
   ]
  },
  {
   "cell_type": "code",
   "execution_count": 5,
   "metadata": {
    "ExecuteTime": {
     "end_time": "2018-01-08T15:58:11.551454Z",
     "start_time": "2018-01-08T15:58:11.549641Z"
    }
   },
   "outputs": [],
   "source": [
    "test_set_iter  = gluon.data.DataLoader(test_set,  batch_size=120, shuffle=True)\n",
    "train_set_iter = gluon.data.DataLoader(train_set, batch_size=120, shuffle=True)"
   ]
  },
  {
   "cell_type": "code",
   "execution_count": 6,
   "metadata": {
    "ExecuteTime": {
     "end_time": "2018-01-08T15:58:11.733129Z",
     "start_time": "2018-01-08T15:58:11.552175Z"
    }
   },
   "outputs": [],
   "source": [
    "for i, (data_x, data_y) in enumerate(train_set_iter):\n",
    "    data_set_x = data_x\n",
    "    data_set_y = data_y\n",
    "    break"
   ]
  },
  {
   "cell_type": "code",
   "execution_count": 7,
   "metadata": {
    "ExecuteTime": {
     "end_time": "2018-01-08T15:58:11.739277Z",
     "start_time": "2018-01-08T15:58:11.733965Z"
    }
   },
   "outputs": [
    {
     "data": {
      "text/plain": [
       "(120, 1, 28, 28)"
      ]
     },
     "execution_count": 7,
     "metadata": {},
     "output_type": "execute_result"
    }
   ],
   "source": [
    "data_set_x.shape"
   ]
  },
  {
   "cell_type": "code",
   "execution_count": 8,
   "metadata": {
    "ExecuteTime": {
     "end_time": "2018-01-08T15:58:11.851606Z",
     "start_time": "2018-01-08T15:58:11.740068Z"
    }
   },
   "outputs": [],
   "source": [
    "class f_mnist(gluon.Block):\n",
    "    def __init__(self, **kwargs):\n",
    "        super(f_mnist, self).__init__(**kwargs)\n",
    "        with self.name_scope():\n",
    "            self.conv0 = nn.Conv2D(channels=64, kernel_size=5, activation='relu')\n",
    "            self.maxpool = nn.MaxPool2D()\n",
    "            self.conv1 = nn.Conv2D(channels=128, kernel_size=3, activation='relu')\n",
    "            self.avgpool = nn.GlobalAvgPool2D()\n",
    "            self.dense = nn.Dense(10)\n",
    "            \n",
    "    def forward(self, inputs):\n",
    "        x = self.conv0(inputs)\n",
    "        x = self.maxpool(x)\n",
    "        x = self.conv1(x)\n",
    "        x = self.avgpool(x)\n",
    "        return self.dense(x)\n"
   ]
  },
  {
   "cell_type": "code",
   "execution_count": 9,
   "metadata": {
    "ExecuteTime": {
     "end_time": "2018-01-08T16:02:35.146717Z",
     "start_time": "2018-01-08T16:02:35.141349Z"
    }
   },
   "outputs": [],
   "source": [
    "ctx = mx.gpu(0)"
   ]
  },
  {
   "cell_type": "code",
   "execution_count": 10,
   "metadata": {
    "ExecuteTime": {
     "end_time": "2018-01-08T16:02:35.252022Z",
     "start_time": "2018-01-08T16:02:35.151920Z"
    }
   },
   "outputs": [],
   "source": [
    "net = f_mnist()"
   ]
  },
  {
   "cell_type": "code",
   "execution_count": 11,
   "metadata": {
    "ExecuteTime": {
     "end_time": "2018-01-08T16:02:35.349444Z",
     "start_time": "2018-01-08T16:02:35.255987Z"
    }
   },
   "outputs": [],
   "source": [
    "def evaluate(net, data_iter, ctx):\n",
    "    acc = mx.metric.Accuracy()\n",
    "    for data_x, data_y in data_iter:\n",
    "        data_x = data_x.as_in_context(ctx)\n",
    "        data_y = data_y.as_in_context(ctx)\n",
    "        with autograd.predict_mode():\n",
    "            output = net(data_x)\n",
    "        predictions = mx.nd.argmax(output, axis=1)\n",
    "        acc.update(preds=predictions, labels=data_y)\n",
    "        mx.ndarray.waitall()\n",
    "    return acc.get()[1]"
   ]
  },
  {
   "cell_type": "code",
   "execution_count": 12,
   "metadata": {
    "ExecuteTime": {
     "end_time": "2018-01-08T16:02:35.468858Z",
     "start_time": "2018-01-08T16:02:35.353627Z"
    }
   },
   "outputs": [],
   "source": [
    "net.collect_params().initialize(mx.init.Xavier(), ctx=ctx)\n",
    "trainer = gluon.trainer.Trainer(net.collect_params(), 'adam')\n",
    "loss = gluon.loss.SoftmaxCrossEntropyLoss()"
   ]
  },
  {
   "cell_type": "code",
   "execution_count": null,
   "metadata": {
    "ExecuteTime": {
     "end_time": "2018-01-08T16:02:35.573271Z",
     "start_time": "2018-01-08T16:02:35.472913Z"
    }
   },
   "outputs": [
    {
     "name": "stdout",
     "output_type": "stream",
     "text": [
      "f_mnist(\n",
      "  (conv0): Conv2D(1 -> 64, kernel_size=(5, 5), stride=(1, 1))\n",
      "  (maxpool): MaxPool2D(size=(2, 2), stride=(2, 2), padding=(0, 0), ceil_mode=False)\n",
      "  (conv1): Conv2D(64 -> 128, kernel_size=(3, 3), stride=(1, 1))\n",
      "  (avgpool): GlobalAvgPool2D(size=(1, 1), stride=(1, 1), padding=(0, 0), ceil_mode=True)\n",
      "  (dense): Dense(128 -> 10, linear)\n",
      ")\n"
     ]
    },
    {
     "data": {
      "text/plain": [
       "((120, 10), None)"
      ]
     },
     "execution_count": 13,
     "metadata": {},
     "output_type": "execute_result"
    }
   ],
   "source": [
    "net(data_set_x.as_in_context(ctx)).shape, print(net)"
   ]
  },
  {
   "cell_type": "code",
   "execution_count": null,
   "metadata": {
    "ExecuteTime": {
     "end_time": "2018-01-08T16:20:13.491621Z",
     "start_time": "2018-01-08T16:13:03.929941Z"
    }
   },
   "outputs": [
    {
     "name": "stderr",
     "output_type": "stream",
     "text": [
      "100%|██████████| 500/500 [00:07<00:00, 65.71it/s]\n",
      "  1%|          | 5/500 [00:00<00:09, 49.90it/s]"
     ]
    },
    {
     "name": "stdout",
     "output_type": "stream",
     "text": [
      "0 : the train loss ; 1.0270237883329392, the train accracy ; 0.7257, the test accuracy ; 0.7280833333333333\n"
     ]
    },
    {
     "name": "stderr",
     "output_type": "stream",
     "text": [
      "100%|██████████| 500/500 [00:07<00:00, 68.70it/s]\n",
      "  1%|          | 5/500 [00:00<00:10, 49.43it/s]"
     ]
    },
    {
     "name": "stdout",
     "output_type": "stream",
     "text": [
      "1 : the train loss ; 0.7183285561203957, the train accracy ; 0.7554, the test accuracy ; 0.7484\n"
     ]
    },
    {
     "name": "stderr",
     "output_type": "stream",
     "text": [
      "100%|██████████| 500/500 [00:07<00:00, 67.89it/s]\n",
      "  1%|          | 5/500 [00:00<00:10, 45.40it/s]"
     ]
    },
    {
     "name": "stdout",
     "output_type": "stream",
     "text": [
      "2 : the train loss ; 0.6464735419154167, the train accracy ; 0.7827, the test accuracy ; 0.77965\n"
     ]
    },
    {
     "name": "stderr",
     "output_type": "stream",
     "text": [
      "100%|██████████| 500/500 [00:07<00:00, 67.81it/s]\n",
      "  1%|          | 5/500 [00:00<00:10, 49.37it/s]"
     ]
    },
    {
     "name": "stdout",
     "output_type": "stream",
     "text": [
      "3 : the train loss ; 0.6005976911187172, the train accracy ; 0.8009, the test accuracy ; 0.80075\n"
     ]
    },
    {
     "name": "stderr",
     "output_type": "stream",
     "text": [
      "100%|██████████| 500/500 [00:07<00:00, 67.20it/s]\n",
      "  1%|          | 5/500 [00:00<00:10, 49.00it/s]"
     ]
    },
    {
     "name": "stdout",
     "output_type": "stream",
     "text": [
      "4 : the train loss ; 0.5630108895301819, the train accracy ; 0.8104, the test accuracy ; 0.8068166666666666\n"
     ]
    },
    {
     "name": "stderr",
     "output_type": "stream",
     "text": [
      "100%|██████████| 500/500 [00:07<00:00, 67.88it/s]\n",
      "  1%|          | 5/500 [00:00<00:09, 49.63it/s]"
     ]
    },
    {
     "name": "stdout",
     "output_type": "stream",
     "text": [
      "5 : the train loss ; 0.5364267731904984, the train accracy ; 0.8209, the test accuracy ; 0.8151166666666667\n"
     ]
    },
    {
     "name": "stderr",
     "output_type": "stream",
     "text": [
      "100%|██████████| 500/500 [00:07<00:00, 68.79it/s]\n",
      "  1%|          | 5/500 [00:00<00:09, 49.53it/s]"
     ]
    },
    {
     "name": "stdout",
     "output_type": "stream",
     "text": [
      "6 : the train loss ; 0.5170022352933884, the train accracy ; 0.823, the test accuracy ; 0.8209166666666666\n"
     ]
    },
    {
     "name": "stderr",
     "output_type": "stream",
     "text": [
      "100%|██████████| 500/500 [00:07<00:00, 69.41it/s]\n",
      "  1%|          | 5/500 [00:00<00:09, 49.66it/s]"
     ]
    },
    {
     "name": "stdout",
     "output_type": "stream",
     "text": [
      "7 : the train loss ; 0.4967726174592972, the train accracy ; 0.832, the test accuracy ; 0.8266166666666667\n"
     ]
    },
    {
     "name": "stderr",
     "output_type": "stream",
     "text": [
      "100%|██████████| 500/500 [00:07<00:00, 68.51it/s]\n",
      "  1%|          | 5/500 [00:00<00:10, 47.00it/s]"
     ]
    },
    {
     "name": "stdout",
     "output_type": "stream",
     "text": [
      "8 : the train loss ; 0.4825330807566643, the train accracy ; 0.841, the test accuracy ; 0.8345666666666667\n"
     ]
    },
    {
     "name": "stderr",
     "output_type": "stream",
     "text": [
      "100%|██████████| 500/500 [00:07<00:00, 66.68it/s]\n",
      "  1%|          | 5/500 [00:00<00:10, 49.37it/s]"
     ]
    },
    {
     "name": "stdout",
     "output_type": "stream",
     "text": [
      "9 : the train loss ; 0.4685922666192055, the train accracy ; 0.8435, the test accuracy ; 0.83725\n"
     ]
    },
    {
     "name": "stderr",
     "output_type": "stream",
     "text": [
      "100%|██████████| 500/500 [00:07<00:00, 68.32it/s]\n",
      "  1%|          | 5/500 [00:00<00:10, 49.42it/s]"
     ]
    },
    {
     "name": "stdout",
     "output_type": "stream",
     "text": [
      "10 : the train loss ; 0.45318699938058854, the train accracy ; 0.8417, the test accuracy ; 0.83445\n"
     ]
    },
    {
     "name": "stderr",
     "output_type": "stream",
     "text": [
      "100%|██████████| 500/500 [00:07<00:00, 67.73it/s]\n",
      "  1%|          | 5/500 [00:00<00:09, 49.84it/s]"
     ]
    },
    {
     "name": "stdout",
     "output_type": "stream",
     "text": [
      "11 : the train loss ; 0.4477060920894146, the train accracy ; 0.8487, the test accuracy ; 0.8439\n"
     ]
    },
    {
     "name": "stderr",
     "output_type": "stream",
     "text": [
      "100%|██████████| 500/500 [00:07<00:00, 68.29it/s]\n",
      "  1%|          | 5/500 [00:00<00:09, 49.67it/s]"
     ]
    },
    {
     "name": "stdout",
     "output_type": "stream",
     "text": [
      "12 : the train loss ; 0.43527362209558484, the train accracy ; 0.8495, the test accuracy ; 0.8425833333333334\n"
     ]
    },
    {
     "name": "stderr",
     "output_type": "stream",
     "text": [
      "100%|██████████| 500/500 [00:07<00:00, 68.65it/s]\n",
      "  1%|          | 5/500 [00:00<00:10, 46.85it/s]"
     ]
    },
    {
     "name": "stdout",
     "output_type": "stream",
     "text": [
      "13 : the train loss ; 0.4285124708712101, the train accracy ; 0.8591, the test accuracy ; 0.8549\n"
     ]
    },
    {
     "name": "stderr",
     "output_type": "stream",
     "text": [
      "100%|██████████| 500/500 [00:07<00:00, 67.44it/s]\n",
      "  1%|          | 5/500 [00:00<00:10, 48.57it/s]"
     ]
    },
    {
     "name": "stdout",
     "output_type": "stream",
     "text": [
      "14 : the train loss ; 0.41528815829753873, the train accracy ; 0.8609, the test accuracy ; 0.8547\n"
     ]
    },
    {
     "name": "stderr",
     "output_type": "stream",
     "text": [
      "100%|██████████| 500/500 [00:07<00:00, 68.29it/s]\n",
      "  1%|          | 5/500 [00:00<00:10, 49.20it/s]"
     ]
    },
    {
     "name": "stdout",
     "output_type": "stream",
     "text": [
      "15 : the train loss ; 0.4067530354857445, the train accracy ; 0.8623, the test accuracy ; 0.8592166666666666\n"
     ]
    },
    {
     "name": "stderr",
     "output_type": "stream",
     "text": [
      "100%|██████████| 500/500 [00:07<00:00, 66.35it/s]\n",
      "  1%|          | 5/500 [00:00<00:09, 49.82it/s]"
     ]
    },
    {
     "name": "stdout",
     "output_type": "stream",
     "text": [
      "16 : the train loss ; 0.3995973082482815, the train accracy ; 0.8627, the test accuracy ; 0.85565\n"
     ]
    },
    {
     "name": "stderr",
     "output_type": "stream",
     "text": [
      "100%|██████████| 500/500 [00:07<00:00, 67.86it/s]\n"
     ]
    }
   ],
   "source": [
    "epoches = 20\n",
    "for e in range(epoches):\n",
    "    train_loss = 0\n",
    "    for i, (data_x, data_y) in enumerate(tqdm(train_set_iter)):\n",
    "        data = data_x.as_in_context(ctx)\n",
    "        label = data_y.as_in_context(ctx)\n",
    "        with autograd.record():\n",
    "            output = net(data)\n",
    "            loss_ = loss(output, label)\n",
    "        loss_.backward()\n",
    "        trainer.step(data.shape[0])\n",
    "        train_loss += mx.nd.mean(loss_).asscalar()\n",
    "    train_acc = evaluate(net, test_set_iter,  ctx=ctx)\n",
    "    test_acc  = evaluate(net, train_set_iter, ctx=ctx)\n",
    "    \n",
    "    print(\"{} : the train loss ; {}, the train accracy ; {}, the test accuracy ; {}\".format(e, train_loss / len(train_set_iter), train_acc, test_acc))"
   ]
  }
 ],
 "metadata": {
  "kernelspec": {
   "display_name": "Python 3",
   "language": "python",
   "name": "python3"
  },
  "language_info": {
   "codemirror_mode": {
    "name": "ipython",
    "version": 3
   },
   "file_extension": ".py",
   "mimetype": "text/x-python",
   "name": "python",
   "nbconvert_exporter": "python",
   "pygments_lexer": "ipython3",
   "version": "3.6.3"
  }
 },
 "nbformat": 4,
 "nbformat_minor": 2
}
