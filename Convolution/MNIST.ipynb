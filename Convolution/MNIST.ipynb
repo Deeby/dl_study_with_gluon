{
 "cells": [
  {
   "cell_type": "markdown",
   "metadata": {},
   "source": [
    "# Convolutional Neural Network"
   ]
  },
  {
   "cell_type": "code",
   "execution_count": 1,
   "metadata": {},
   "outputs": [
    {
     "name": "stderr",
     "output_type": "stream",
     "text": [
      "/Users/jsh/anaconda3/lib/python3.6/site-packages/urllib3/contrib/pyopenssl.py:46: DeprecationWarning: OpenSSL.rand is deprecated - you should use os.urandom instead\n",
      "  import OpenSSL.SSL\n"
     ]
    }
   ],
   "source": [
    "import numpy as np\n",
    "import mxnet as mx\n",
    "from mxnet import nd, autograd, gluon\n",
    "import time\n",
    "import matplotlib.pyplot as plt\n",
    "\n",
    "%matplotlib inline\n",
    "mx.random.seed(1)"
   ]
  },
  {
   "cell_type": "code",
   "execution_count": 2,
   "metadata": {
    "collapsed": true
   },
   "outputs": [],
   "source": [
    "ctx = mx.cpu()"
   ]
  },
  {
   "cell_type": "code",
   "execution_count": 3,
   "metadata": {
    "collapsed": true
   },
   "outputs": [],
   "source": [
    "num_inputs = 784\n",
    "num_outputs = 10\n",
    "batch_size = 64\n",
    "num_fc = 512\n",
    "\n",
    "# (height, width, channel) -> (channel, height, width)\n",
    "def transform(data, label):\n",
    "    return nd.transpose(data.astype(np.float32), (2,0,1)) / 255, label.astype(np.float32)\n",
    "\n",
    "train_data = gluon.data.DataLoader(gluon.data.vision.MNIST(train = True, transform = transform),\n",
    "                                      batch_size, shuffle = True)\n",
    "test_data = gluon.data.DataLoader(gluon.data.vision.MNIST(train = False, transform = transform),\n",
    "                                      batch_size, shuffle = False)"
   ]
  },
  {
   "cell_type": "code",
   "execution_count": 4,
   "metadata": {
    "collapsed": true
   },
   "outputs": [],
   "source": [
    "class CNN(gluon.Block):\n",
    "    def __init__(self, num_fc, num_outputs, **kwargs):\n",
    "        super(CNN, self).__init__(**kwargs)\n",
    "        \n",
    "        with self.name_scope():\n",
    "            self.conv0 = gluon.nn.Conv2D(channels=4, kernel_size=5, activation='relu')\n",
    "            self.max0 = gluon.nn.MaxPool2D(pool_size=2, strides=2)\n",
    "            self.conv1 = gluon.nn.Conv2D(channels=8, kernel_size=5, activation='relu')\n",
    "            self.max1 = gluon.nn.MaxPool2D(pool_size=2, strides=2)\n",
    "            self.flat = gluon.nn.Flatten()\n",
    "            self.dense0 = gluon.nn.Dense(num_fc, activation=\"relu\")\n",
    "            self.dense1 = gluon.nn.Dense(num_outputs)\n",
    "            \n",
    "    def forward(self, x):\n",
    "        x = self.conv0(x)\n",
    "        x = self.max0(x)\n",
    "        x = self.conv1(x)\n",
    "        x = self.max1(x)\n",
    "        x = self.flat(x)\n",
    "        x = self.dense0(x)\n",
    "        x = self.dense1(x)\n",
    "        return x    "
   ]
  },
  {
   "cell_type": "code",
   "execution_count": 5,
   "metadata": {},
   "outputs": [
    {
     "name": "stdout",
     "output_type": "stream",
     "text": [
      "CNN(\n",
      "  (conv0): Conv2D(None -> 4, kernel_size=(5, 5), stride=(1, 1))\n",
      "  (max0): MaxPool2D(size=(2, 2), stride=(2, 2), padding=(0, 0), ceil_mode=False)\n",
      "  (conv1): Conv2D(None -> 8, kernel_size=(5, 5), stride=(1, 1))\n",
      "  (max1): MaxPool2D(size=(2, 2), stride=(2, 2), padding=(0, 0), ceil_mode=False)\n",
      "  (flat): Flatten\n",
      "  (dense0): Dense(None -> 512, Activation(relu))\n",
      "  (dense1): Dense(None -> 10, linear)\n",
      ")\n"
     ]
    }
   ],
   "source": [
    "net = CNN(num_fc=num_fc, num_outputs=num_outputs)\n",
    "print(net)"
   ]
  },
  {
   "cell_type": "code",
   "execution_count": 6,
   "metadata": {
    "collapsed": true
   },
   "outputs": [],
   "source": [
    "net.collect_params().initialize(mx.init.Xavier(), ctx = ctx)\n",
    "softmax_cross_entropy = gluon.loss.SoftmaxCrossEntropyLoss()\n",
    "trainer = gluon.Trainer(net.collect_params(), 'sgd', {'learning_rate': 0.1})"
   ]
  },
  {
   "cell_type": "code",
   "execution_count": 7,
   "metadata": {
    "collapsed": true,
    "scrolled": true
   },
   "outputs": [],
   "source": [
    "for data, label in test_data:\n",
    "    data = data.as_in_context(ctx)\n",
    "    break"
   ]
  },
  {
   "cell_type": "code",
   "execution_count": 8,
   "metadata": {
    "scrolled": true
   },
   "outputs": [
    {
     "name": "stdout",
     "output_type": "stream",
     "text": [
      "CNN(\n",
      "  (conv0): Conv2D(None -> 4, kernel_size=(5, 5), stride=(1, 1))\n",
      "  (max0): MaxPool2D(size=(2, 2), stride=(2, 2), padding=(0, 0), ceil_mode=False)\n",
      "  (conv1): Conv2D(None -> 8, kernel_size=(5, 5), stride=(1, 1))\n",
      "  (max1): MaxPool2D(size=(2, 2), stride=(2, 2), padding=(0, 0), ceil_mode=False)\n",
      "  (flat): Flatten\n",
      "  (dense0): Dense(None -> 512, Activation(relu))\n",
      "  (dense1): Dense(None -> 10, linear)\n",
      ")\n"
     ]
    }
   ],
   "source": [
    "print(net)"
   ]
  },
  {
   "cell_type": "code",
   "execution_count": 9,
   "metadata": {
    "collapsed": true
   },
   "outputs": [],
   "source": [
    "def evaluate_accuracy(dataset, net):\n",
    "    acc = mx.metric.Accuracy()\n",
    "    for data, label in dataset:\n",
    "        data = data.as_in_context(ctx)\n",
    "        label = label.as_in_context(ctx)\n",
    "        output = net(data)\n",
    "        pred = nd.argmax(output, axis=1)\n",
    "        acc.update(preds = pred, labels = label)\n",
    "    return acc.get()[1] # ('accuracy', 0.0953)"
   ]
  },
  {
   "cell_type": "code",
   "execution_count": 10,
   "metadata": {},
   "outputs": [
    {
     "name": "stdout",
     "output_type": "stream",
     "text": [
      "Epoch 0. Loss: 0.10619983041, Train_acc 0.959733333333, Test_acc 0.9606\n",
      "Epoch 1. Loss: 0.0641632130318, Train_acc 0.985, Test_acc 0.9824\n",
      "Epoch 2. Loss: 0.0518702731358, Train_acc 0.9838, Test_acc 0.981\n",
      "Epoch 3. Loss: 0.0413339389434, Train_acc 0.988066666667, Test_acc 0.9847\n",
      "Epoch 4. Loss: 0.0319808226525, Train_acc 0.98935, Test_acc 0.9828\n",
      "--- 162.86263132095337 seconds ---\n"
     ]
    }
   ],
   "source": [
    "epochs = 5\n",
    "smoothing_constant = .01\n",
    "\n",
    "start_time = time.time()\n",
    "\n",
    "for i in range(epochs):\n",
    "    for j, (data, label) in enumerate(train_data):\n",
    "        data = data.as_in_context(ctx)\n",
    "        label = label.as_in_context(ctx)\n",
    "        with autograd.record():\n",
    "            output = net(data)\n",
    "            loss = softmax_cross_entropy(output, label)\n",
    "        loss.backward()\n",
    "        trainer.step(data.shape[0])\n",
    "\n",
    "        ##########################\n",
    "        #  Keep a moving average of the losses\n",
    "        ##########################\n",
    "        curr_loss = nd.mean(loss).asscalar()\n",
    "        moving_loss = (curr_loss if ((i == 0) and (j == 0))\n",
    "                       else (1 - smoothing_constant) * moving_loss + smoothing_constant * curr_loss)\n",
    "\n",
    "    train_accuracy = evaluate_accuracy(train_data, net)    \n",
    "    test_accuracy = evaluate_accuracy(test_data, net)\n",
    "    print(\"Epoch %s. Loss: %s, Train_acc %s, Test_acc %s\" % (i, moving_loss, train_accuracy, test_accuracy))\n",
    "    \n",
    "print(\"--- %s seconds ---\" % (time.time() - start_time))"
   ]
  },
  {
   "cell_type": "markdown",
   "metadata": {},
   "source": [
    "### HybridBlock"
   ]
  },
  {
   "cell_type": "code",
   "execution_count": 11,
   "metadata": {
    "collapsed": true
   },
   "outputs": [],
   "source": [
    "class CNN_hybrid(gluon.HybridBlock):\n",
    "    def __init__(self, num_fc, num_outputs, **kwargs):\n",
    "        super(CNN_hybrid, self).__init__(**kwargs)\n",
    "        \n",
    "        with self.name_scope():\n",
    "            self.conv0 = gluon.nn.Conv2D(channels=4, kernel_size=5)\n",
    "            self.max0 = gluon.nn.MaxPool2D(pool_size=2, strides=2)\n",
    "            self.conv1 = gluon.nn.Conv2D(channels=16, kernel_size=5)\n",
    "            self.max1 = gluon.nn.MaxPool2D(pool_size=2, strides=2)\n",
    "            self.flat = gluon.nn.Flatten()\n",
    "            self.dense0 = gluon.nn.Dense(num_fc)\n",
    "            self.dense1 = gluon.nn.Dense(num_outputs)\n",
    "            \n",
    "    def hybrid_forward(self, F, x):\n",
    "        x = self.max0(F.relu(self.conv0(x)))\n",
    "        x = self.max1(F.relu(self.conv1(x)))        \n",
    "        x = self.flat(x)\n",
    "        x = F.relu(self.dense0(x))\n",
    "        x = self.dense1(x)\n",
    "        return x    "
   ]
  },
  {
   "cell_type": "code",
   "execution_count": 12,
   "metadata": {},
   "outputs": [
    {
     "name": "stdout",
     "output_type": "stream",
     "text": [
      "CNN_hybrid(\n",
      "  (conv0): Conv2D(None -> 4, kernel_size=(5, 5), stride=(1, 1))\n",
      "  (max0): MaxPool2D(size=(2, 2), stride=(2, 2), padding=(0, 0), ceil_mode=False)\n",
      "  (conv1): Conv2D(None -> 16, kernel_size=(5, 5), stride=(1, 1))\n",
      "  (max1): MaxPool2D(size=(2, 2), stride=(2, 2), padding=(0, 0), ceil_mode=False)\n",
      "  (flat): Flatten\n",
      "  (dense0): Dense(None -> 512, linear)\n",
      "  (dense1): Dense(None -> 10, linear)\n",
      ")\n"
     ]
    }
   ],
   "source": [
    "hnet = CNN_hybrid(num_fc=num_fc, num_outputs=num_outputs)\n",
    "print(hnet)"
   ]
  },
  {
   "cell_type": "code",
   "execution_count": 13,
   "metadata": {
    "collapsed": true
   },
   "outputs": [],
   "source": [
    "hnet.collect_params().initialize(mx.init.Xavier(), ctx = ctx)"
   ]
  },
  {
   "cell_type": "code",
   "execution_count": 14,
   "metadata": {
    "collapsed": true
   },
   "outputs": [],
   "source": [
    "hnet.hybridize()"
   ]
  },
  {
   "cell_type": "code",
   "execution_count": 15,
   "metadata": {
    "collapsed": true
   },
   "outputs": [],
   "source": [
    "trainerH = gluon.Trainer(hnet.collect_params(), 'sgd', {'learning_rate': 0.1})"
   ]
  },
  {
   "cell_type": "code",
   "execution_count": 16,
   "metadata": {
    "collapsed": true
   },
   "outputs": [],
   "source": [
    "### To symbolic..."
   ]
  },
  {
   "cell_type": "markdown",
   "metadata": {},
   "source": [
    "### Visualize activation"
   ]
  },
  {
   "cell_type": "code",
   "execution_count": 17,
   "metadata": {
    "collapsed": true
   },
   "outputs": [],
   "source": [
    "img = nd.transpose(data[0:1][0], (1,2,0))"
   ]
  },
  {
   "cell_type": "code",
   "execution_count": 18,
   "metadata": {},
   "outputs": [
    {
     "data": {
      "image/png": "[encoded data removed]",
      "text/plain": [
       "<matplotlib.figure.Figure at 0x1516e3f978>"
      ]
     },
     "metadata": {},
     "output_type": "display_data"
    }
   ],
   "source": [
    "plt.imshow(nd.tile(img, (1,1,3)).asnumpy())\n",
    "plt.show()"
   ]
  },
  {
   "cell_type": "code",
   "execution_count": 19,
   "metadata": {},
   "outputs": [
    {
     "name": "stdout",
     "output_type": "stream",
     "text": [
      "\n",
      "[ 5.]\n",
      "<NDArray 1 @cpu(0)> \n",
      "[ 5.]\n",
      "<NDArray 1 @cpu(0)>\n"
     ]
    }
   ],
   "source": [
    "print(label[0], nd.argmax(net(data[0:1]), axis=1))"
   ]
  },
  {
   "cell_type": "code",
   "execution_count": 20,
   "metadata": {
    "collapsed": true
   },
   "outputs": [],
   "source": [
    "# Useful function to arrange the images to be shown as a squared grid\n",
    "def viz_grid(Xs, ubound=255.0, padding=1):\n",
    "    import math\n",
    "    N, H, W, C = Xs.shape\n",
    "    grid_size = int(math.ceil(math.sqrt(N)))\n",
    "    grid_height = H * grid_size + padding * (grid_size - 1)\n",
    "    grid_width = W * grid_size + padding * (grid_size - 1)\n",
    "    grid = np.zeros((grid_height, grid_width, C))\n",
    "    next_idx = 0\n",
    "    y0, y1 = 0, H\n",
    "    for y in range(grid_size):\n",
    "        x0, x1 = 0, W\n",
    "        for x in range(grid_size):\n",
    "            if next_idx < N:\n",
    "                img = Xs[next_idx]\n",
    "                grid[y0:y1, x0:x1] = img\n",
    "                next_idx += 1\n",
    "            x0 += W + padding\n",
    "            x1 += W + padding\n",
    "        y0 += H + padding\n",
    "        y1 += H + padding\n",
    "    return grid"
   ]
  },
  {
   "cell_type": "code",
   "execution_count": 21,
   "metadata": {},
   "outputs": [
    {
     "data": {
      "text/plain": [
       "(4, 1, 5, 5)"
      ]
     },
     "execution_count": 21,
     "metadata": {},
     "output_type": "execute_result"
    }
   ],
   "source": [
    "net.conv0.weight.data().shape"
   ]
  },
  {
   "cell_type": "code",
   "execution_count": 22,
   "metadata": {},
   "outputs": [
    {
     "data": {
      "text/plain": [
       "(8, 4, 5, 5)"
      ]
     },
     "execution_count": 22,
     "metadata": {},
     "output_type": "execute_result"
    }
   ],
   "source": [
    "net.conv1.weight.data().shape"
   ]
  },
  {
   "cell_type": "code",
   "execution_count": 23,
   "metadata": {},
   "outputs": [
    {
     "name": "stdout",
     "output_type": "stream",
     "text": [
      "(1, 4, 24, 24)\n"
     ]
    }
   ],
   "source": [
    "#conv0_out = nd.split(net.conv0(data[0:1].as_in_context(ctx)), num_outputs=1, axis=0, squeeze_axis=1)\n",
    "conv0_out = net.conv0(data[0:1].as_in_context(ctx))\n",
    "print(conv0_out.shape)"
   ]
  },
  {
   "cell_type": "code",
   "execution_count": 24,
   "metadata": {},
   "outputs": [
    {
     "name": "stdout",
     "output_type": "stream",
     "text": [
      "(1, 8, 8, 8)\n"
     ]
    }
   ],
   "source": [
    "#conv1_out = nd.split(net.conv1(net.max0(net.conv0(data[0:1]))), num_outputs=1, axis=0, squeeze_axis=1)\n",
    "conv1_out = net.conv1(net.max0(net.conv0(data[0:1])))\n",
    "print(conv1_out.shape)"
   ]
  },
  {
   "cell_type": "code",
   "execution_count": 25,
   "metadata": {
    "collapsed": true
   },
   "outputs": [],
   "source": [
    "def getActivation_mnist(layer_out):\n",
    "    outs = nd.transpose(layer_out, (1, 2, 3, 0)) # N, H, W, C\n",
    "    fig = plt.figure(figsize=(4,4))   \n",
    "    ax1 = plt.subplot(111)\n",
    "    grid = viz_grid(outs.asnumpy())\n",
    "    ax1.imshow(grid[...,0])"
   ]
  },
  {
   "cell_type": "code",
   "execution_count": 26,
   "metadata": {},
   "outputs": [
    {
     "data": {
      "image/png": "[encoded data removed]",
      "text/plain": [
       "<matplotlib.figure.Figure at 0x1520e9d668>"
      ]
     },
     "metadata": {},
     "output_type": "display_data"
    }
   ],
   "source": [
    "getActivation_mnist(conv0_out)"
   ]
  },
  {
   "cell_type": "code",
   "execution_count": 27,
   "metadata": {},
   "outputs": [
    {
     "data": {
      "image/png": "[encoded data removed]",
      "text/plain": [
       "<matplotlib.figure.Figure at 0x107feb080>"
      ]
     },
     "metadata": {},
     "output_type": "display_data"
    }
   ],
   "source": [
    "getActivation_mnist(conv1_out)"
   ]
  }
 ],
 "metadata": {
  "kernelspec": {
   "display_name": "Python 3",
   "language": "python",
   "name": "python3"
  },
  "language_info": {
   "codemirror_mode": {
    "name": "ipython",
    "version": 3
   },
   "file_extension": ".py",
   "mimetype": "text/x-python",
   "name": "python",
   "nbconvert_exporter": "python",
   "pygments_lexer": "ipython3",
   "version": "3.6.2"
  }
 },
 "nbformat": 4,
 "nbformat_minor": 2
}
