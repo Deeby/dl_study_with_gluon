{
 "cells": [
  {
   "cell_type": "markdown",
   "metadata": {},
   "source": [
    "# VAE - MLP"
   ]
  },
  {
   "cell_type": "code",
   "execution_count": 1,
   "metadata": {
    "ExecuteTime": {
     "end_time": "2018-01-14T23:12:46.302023Z",
     "start_time": "2018-01-14T23:12:45.493603Z"
    }
   },
   "outputs": [
    {
     "name": "stderr",
     "output_type": "stream",
     "text": [
      "/home/kionkim/anaconda3/envs/kion_venv_mxnet/lib/python3.6/site-packages/urllib3/contrib/pyopenssl.py:46: DeprecationWarning: OpenSSL.rand is deprecated - you should use os.urandom instead\n",
      "  import OpenSSL.SSL\n"
     ]
    }
   ],
   "source": [
    "import mxnet as mx\n",
    "from mxnet import nd, autograd, gluon\n",
    "import numpy as np\n",
    "from tqdm import tqdm\n",
    "\n",
    "gpu_ctx = mx.gpu(0)\n",
    "cpu_ctx = mx.cpu(0)"
   ]
  },
  {
   "cell_type": "markdown",
   "metadata": {},
   "source": [
    "# Parameters"
   ]
  },
  {
   "cell_type": "code",
   "execution_count": 17,
   "metadata": {
    "ExecuteTime": {
     "end_time": "2018-01-14T23:17:26.319879Z",
     "start_time": "2018-01-14T23:17:26.312997Z"
    },
    "collapsed": true
   },
   "outputs": [],
   "source": [
    "FILTERS = 64\n",
    "LATENT_DIM = 2\n",
    "HIDDEN_DIM = 400\n",
    "INTPUT_DIM = 28 * 28\n",
    "OUTPUT_DIM = 28 * 28\n",
    "BATCH_SIZE = 100\n",
    "IMG_CHNS = 1"
   ]
  },
  {
   "cell_type": "markdown",
   "metadata": {},
   "source": [
    "# Define functions"
   ]
  },
  {
   "cell_type": "code",
   "execution_count": 18,
   "metadata": {
    "ExecuteTime": {
     "end_time": "2018-01-14T23:17:27.542727Z",
     "start_time": "2018-01-14T23:17:27.485263Z"
    },
    "collapsed": true
   },
   "outputs": [],
   "source": [
    "def vae_loss(x, x_gen, z_mean, log_z_var):\n",
    "    x = nd.flatten(x)\n",
    "    x_gen = nd.flatten(x_gen)\n",
    "    #print('x shape = {}'.format(x.shape))\n",
    "    #print('x_gen sahpe = {}'.format(x_gen.shape))\n",
    "    # D_KL(q(z|X) || p(z))\n",
    "    kl_loss = -0.5 * nd.sum(1 + log_z_var - nd.square(z_mean) - nd.exp(log_z_var), axis = 1)\n",
    "    # E(log p(X|z))\n",
    "    log_loss = - nd.sum(x* nd.log(x_gen + 1e-6)+ (1-x)*nd.log(1-x_gen + 1e-6), axis=1)\n",
    "    return nd.sum(kl_loss + log_loss)\n",
    "\n",
    "def sample_z(args):\n",
    "    mean, log_var, batch_size, latent_dim = args\n",
    "    eps = nd.random_normal(shape = (batch_size, latent_dim), loc = 0., scale = 1., ctx = gpu_ctx)\n",
    "    #print(eps[0:5].asnumpy())\n",
    "    #print(log_var.shape)\n",
    "    #print(mean.shape)\n",
    "    #print(eps.shape)\n",
    "    return mean + nd.exp(log_var / 2) * eps\n",
    "\n",
    "class sample_layer(gluon.Block):\n",
    "    def __init__(self, *args):\n",
    "        super(sample_layer, self).__init__(*args)\n",
    "        self.args = args\n",
    "\n",
    "    def forward(self, x):\n",
    "        return sample_z(self.args)"
   ]
  },
  {
   "cell_type": "markdown",
   "metadata": {},
   "source": [
    "# Load Dataset\n",
    "* transform 함수는 한개의 data에 대해 적용됨\n",
    "* BATCH SIZE는 무시하고 dimension 변환\n"
   ]
  },
  {
   "cell_type": "code",
   "execution_count": 19,
   "metadata": {
    "ExecuteTime": {
     "end_time": "2018-01-14T23:17:29.336585Z",
     "start_time": "2018-01-14T23:17:28.363855Z"
    },
    "collapsed": true
   },
   "outputs": [],
   "source": [
    "mnist = mx.test_utils.get_mnist()\n",
    "\n",
    "def transform(data, label):\n",
    "    #print(data.shape)\n",
    "    res = nd.transpose(data, (2, 0, 1))\n",
    "    res = res.astype(np.float32) / 255\n",
    "    return res, label\n",
    "\n",
    "# lambda data, label: (data.astype(np.float32)/255, label)\n",
    "train_data = mx.gluon.data.DataLoader( \\\n",
    "                 mx.gluon.data.vision.MNIST( \\\n",
    "                     train = True, \\\n",
    "                     transform = transform), \\\n",
    "                     BATCH_SIZE, shuffle = True)\n",
    "\n",
    "test_data = mx.gluon.data.DataLoader( \\\n",
    "                 mx.gluon.data.vision.MNIST( \\\n",
    "                     train = False, transform = transform), \\\n",
    "                     BATCH_SIZE, shuffle=False)"
   ]
  },
  {
   "cell_type": "markdown",
   "metadata": {},
   "source": [
    "# Define Encoder"
   ]
  },
  {
   "cell_type": "code",
   "execution_count": 20,
   "metadata": {
    "ExecuteTime": {
     "end_time": "2018-01-14T23:17:29.351639Z",
     "start_time": "2018-01-14T23:17:29.338073Z"
    },
    "collapsed": true
   },
   "outputs": [],
   "source": [
    "class Encoder(gluon.Block):\n",
    "    def __init__(self, filters, latent_dim, **kwarg):\n",
    "        super(Encoder, self).__init__(**kwarg)\n",
    "        with self.name_scope():\n",
    "            # in_channel: 나중에 판단\n",
    "            # layout: NCHW\n",
    "            self.dense_1 = gluon.nn.Dense(units = HIDDEN_DIM, activation = 'relu')\n",
    "            self.dense_2 = gluon.nn.Dense(units = 2 * latent_dim, activation = None)\n",
    "            \n",
    "    def forward(self, x):\n",
    "        #print(\"input shape : {}\".format(x.shape))\n",
    "        x = self.dense_1(x)\n",
    "        #print(\"conv2D_1 shape : {}\".format(x.shape))\n",
    "        x = self.dense_2(x)\n",
    "        return x"
   ]
  },
  {
   "cell_type": "markdown",
   "metadata": {},
   "source": [
    "## check encoder dimensions"
   ]
  },
  {
   "cell_type": "code",
   "execution_count": 37,
   "metadata": {
    "ExecuteTime": {
     "end_time": "2018-01-15T02:14:07.461327Z",
     "start_time": "2018-01-15T02:14:07.437323Z"
    }
   },
   "outputs": [
    {
     "name": "stdout",
     "output_type": "stream",
     "text": [
      "Encoder(\n",
      "  (dense_1): Dense(None -> 400, Activation(relu))\n",
      "  (dense_2): Dense(None -> 4, linear)\n",
      ")\n"
     ]
    },
    {
     "data": {
      "text/plain": [
       "(1, 4)"
      ]
     },
     "execution_count": 37,
     "metadata": {},
     "output_type": "execute_result"
    }
   ],
   "source": [
    "enc = Encoder(FILTERS, LATENT_DIM)\n",
    "print(enc)\n",
    "enc.collect_params().initialize(mx.init.Xavier(), ctx = gpu_ctx)\n",
    "test_input = nd.random_normal(0,1,(1, 1, 28, 28), ctx = gpu_ctx)\n",
    "enc(test_input).shape"
   ]
  },
  {
   "cell_type": "markdown",
   "metadata": {},
   "source": [
    "# Define Decoder\n",
    "* in_units는 설정하지 않음\n",
    "* 여러 block을 사용할 것이므로, name_scope를 꼭 사용"
   ]
  },
  {
   "cell_type": "code",
   "execution_count": 38,
   "metadata": {
    "ExecuteTime": {
     "end_time": "2018-01-15T02:14:10.920832Z",
     "start_time": "2018-01-15T02:14:10.895929Z"
    },
    "collapsed": true
   },
   "outputs": [],
   "source": [
    "class Decoder(gluon.Block):\n",
    "    def __init__(self, hidden_dim, output_dim, **kwargs):\n",
    "        super(Decoder, self).__init__(**kwargs)\n",
    "        with self.name_scope():\n",
    "            self.dense_1 = gluon.nn.Dense(units = hidden_dim, activation = 'relu')\n",
    "            # Output을 0과 1 사이로 맞추었으므로..\n",
    "            self.dense_2 = gluon.nn.Dense(units = output_dim, activation = 'sigmoid')\n",
    "    \n",
    "    def forward(self, x):\n",
    "        x = self.dense_1(x)\n",
    "        #print('after dense1....%s'%str(x.shape))\n",
    "        x = self.dense_2(x)\n",
    "        #print('after dense2.... %s'%str(x.shape))\n",
    "        return x"
   ]
  },
  {
   "cell_type": "markdown",
   "metadata": {},
   "source": [
    "## Check decoder dimensions\n",
    "* 4-dim으로 reshape NCHW\n",
    "* decoder의 input으로 (-1, HIDDEN_DIM)으로 변환해서 넣어주어야 함 (data.reshape(-1, HIDDEN_DIM) 이용)"
   ]
  },
  {
   "cell_type": "code",
   "execution_count": 39,
   "metadata": {
    "ExecuteTime": {
     "end_time": "2018-01-15T02:14:13.252849Z",
     "start_time": "2018-01-15T02:14:13.231753Z"
    },
    "scrolled": true
   },
   "outputs": [
    {
     "name": "stdout",
     "output_type": "stream",
     "text": [
      "Decoder(\n",
      "  (dense_1): Dense(None -> 400, Activation(relu))\n",
      "  (dense_2): Dense(None -> 784, Activation(sigmoid))\n",
      ")\n"
     ]
    },
    {
     "data": {
      "text/plain": [
       "(1, 784)"
      ]
     },
     "execution_count": 39,
     "metadata": {},
     "output_type": "execute_result"
    }
   ],
   "source": [
    "dec = Decoder(HIDDEN_DIM, OUTPUT_DIM)\n",
    "print(dec)\n",
    "dec.collect_params().initialize(mx.init.Xavier(magnitude=2.24), ctx = gpu_ctx)\n",
    "# Simulate dimension\n",
    "test_input = nd.random_normal(0,1,shape= LATENT_DIM, ctx = gpu_ctx)\n",
    "test_input = test_input.reshape((-1, LATENT_DIM))\n",
    "dec(test_input).shape"
   ]
  },
  {
   "cell_type": "code",
   "execution_count": 40,
   "metadata": {
    "ExecuteTime": {
     "end_time": "2018-01-15T02:14:15.138438Z",
     "start_time": "2018-01-15T02:14:15.091723Z"
    },
    "collapsed": true
   },
   "outputs": [],
   "source": [
    "# Batch size가 필요함\n",
    "# name_scope를 사용해야 함\n",
    "class VAE(gluon.Block):\n",
    "    def __init__(self, batch_size, filters, latent_dim, output_dim, **kwargs):\n",
    "        super(VAE, self).__init__(**kwargs)\n",
    "        with self.name_scope():\n",
    "            self.enc = Encoder(filters, latent_dim)\n",
    "            self.dec = Decoder(filters, output_dim)\n",
    "            self.latent_dim = latent_dim\n",
    "            \n",
    "        \n",
    "    def forward(self, x):\n",
    "        x = self.enc(x)\n",
    "        #print('x\\'s shape after enc = {}'.format(x.shape))\n",
    "        z_mean = x.slice(begin = (None, 0), end = (None, self.latent_dim))\n",
    "        log_z_var = x.slice(begin = (None, self.latent_dim), end = (None, 2 * self.latent_dim))\n",
    "        z = sample_z([self.z_mean, self.log_z_var, x.shape[0], self.latent_dim])\n",
    "        #print('z\\'s shape = {}'.format(z.shape))\n",
    "        #print('z_mean\\'s shape = {}'.format(self.log_z_var.shape))\n",
    "        #print('log_z_var\\'s shape = {}'.format(self.log_z_var.shape))\n",
    "        x_gen = self.dec(z)\n",
    "        #print('x_gen dim = {}'.format(x_gen.shape))\n",
    "        return x_gen, self.z_mean, self.log_z_var"
   ]
  },
  {
   "cell_type": "code",
   "execution_count": 41,
   "metadata": {
    "ExecuteTime": {
     "end_time": "2018-01-15T02:14:17.440595Z",
     "start_time": "2018-01-15T02:14:17.433890Z"
    }
   },
   "outputs": [
    {
     "name": "stdout",
     "output_type": "stream",
     "text": [
      "VAE(\n",
      "  (enc): Encoder(\n",
      "    (dense_1): Dense(None -> 400, Activation(relu))\n",
      "    (dense_2): Dense(None -> 4, linear)\n",
      "  )\n",
      "  (dec): Decoder(\n",
      "    (dense_1): Dense(None -> 64, Activation(relu))\n",
      "    (dense_2): Dense(None -> 784, Activation(sigmoid))\n",
      "  )\n",
      ")\n"
     ]
    }
   ],
   "source": [
    "vae = VAE(BATCH_SIZE, FILTERS, LATENT_DIM, OUTPUT_DIM)\n",
    "print(vae)"
   ]
  },
  {
   "cell_type": "markdown",
   "metadata": {},
   "source": [
    "## Check VAE dimensions"
   ]
  },
  {
   "cell_type": "code",
   "execution_count": 42,
   "metadata": {
    "ExecuteTime": {
     "end_time": "2018-01-15T02:14:19.370311Z",
     "start_time": "2018-01-15T02:14:19.340311Z"
    }
   },
   "outputs": [
    {
     "data": {
      "text/plain": [
       "(\n",
       " [[ 0.50072432  0.53404367  0.51174909 ...,  0.47527841  0.51740128\n",
       "    0.45105585]\n",
       "  [ 0.50125831  0.52684432  0.51332206 ...,  0.48932841  0.51698178\n",
       "    0.47030318]\n",
       "  [ 0.49649507  0.50544107  0.49534464 ...,  0.47902498  0.49667391\n",
       "    0.47498697]\n",
       "  ..., \n",
       "  [ 0.50014102  0.51350743  0.50412863 ...,  0.4892951   0.50658947\n",
       "    0.47969908]\n",
       "  [ 0.50094867  0.52741194  0.51177913 ...,  0.48528475  0.51588839\n",
       "    0.4658047 ]\n",
       "  [ 0.49863046  0.50732017  0.49859101 ...,  0.48593891  0.50078434\n",
       "    0.48114085]]\n",
       " <NDArray 100x784 @gpu(0)>, \n",
       " [[ 0.05453879 -1.49322665]]\n",
       " <NDArray 1x2 @gpu(0)>, \n",
       " [[-0.96607125 -0.75843072]]\n",
       " <NDArray 1x2 @gpu(0)>)"
      ]
     },
     "execution_count": 42,
     "metadata": {},
     "output_type": "execute_result"
    }
   ],
   "source": [
    "# Simulate dimension\n",
    "test_input = nd.random_normal(0,1,shape= (1, 28 * 28), ctx = gpu_ctx)\n",
    "vae.collect_params().initialize(mx.init.Xavier(magnitude= 2.24), ctx = gpu_ctx)\n",
    "vae(test_input)"
   ]
  },
  {
   "cell_type": "markdown",
   "metadata": {},
   "source": [
    "# Define Trainer"
   ]
  },
  {
   "cell_type": "code",
   "execution_count": 43,
   "metadata": {
    "ExecuteTime": {
     "end_time": "2018-01-15T02:14:21.237870Z",
     "start_time": "2018-01-15T02:14:21.233585Z"
    },
    "collapsed": true
   },
   "outputs": [],
   "source": [
    "trainer = gluon.Trainer(vae.collect_params(), 'adam', {'learning_rate': .001})"
   ]
  },
  {
   "cell_type": "markdown",
   "metadata": {},
   "source": [
    "# Training"
   ]
  },
  {
   "cell_type": "code",
   "execution_count": 44,
   "metadata": {
    "ExecuteTime": {
     "end_time": "2018-01-15T02:31:35.913224Z",
     "start_time": "2018-01-15T02:14:23.232413Z"
    }
   },
   "outputs": [
    {
     "name": "stderr",
     "output_type": "stream",
     "text": [
      "  1%|          | 1/100 [00:10<17:17, 10.48s/it]"
     ]
    },
    {
     "name": "stdout",
     "output_type": "stream",
     "text": [
      "epoch: 0, cur_loss = [ 54359.109375]\n"
     ]
    },
    {
     "name": "stderr",
     "output_type": "stream",
     "text": [
      "  2%|▏         | 2/100 [00:21<17:32, 10.73s/it]"
     ]
    },
    {
     "name": "stdout",
     "output_type": "stream",
     "text": [
      "epoch: 1, cur_loss = [ 54170.609375]\n"
     ]
    },
    {
     "name": "stderr",
     "output_type": "stream",
     "text": [
      "  3%|▎         | 3/100 [00:31<16:59, 10.51s/it]"
     ]
    },
    {
     "name": "stdout",
     "output_type": "stream",
     "text": [
      "epoch: 2, cur_loss = [ 53949.26171875]\n"
     ]
    },
    {
     "name": "stderr",
     "output_type": "stream",
     "text": [
      "  4%|▍         | 4/100 [00:41<16:44, 10.46s/it]"
     ]
    },
    {
     "name": "stdout",
     "output_type": "stream",
     "text": [
      "epoch: 3, cur_loss = [ 53652.140625]\n"
     ]
    },
    {
     "name": "stderr",
     "output_type": "stream",
     "text": [
      "  5%|▌         | 5/100 [00:53<16:47, 10.61s/it]"
     ]
    },
    {
     "name": "stdout",
     "output_type": "stream",
     "text": [
      "epoch: 4, cur_loss = [ 53380.5703125]\n"
     ]
    },
    {
     "name": "stderr",
     "output_type": "stream",
     "text": [
      "  6%|▌         | 6/100 [01:04<16:49, 10.74s/it]"
     ]
    },
    {
     "name": "stdout",
     "output_type": "stream",
     "text": [
      "epoch: 5, cur_loss = [ 52939.03125]\n"
     ]
    },
    {
     "name": "stderr",
     "output_type": "stream",
     "text": [
      "  7%|▋         | 7/100 [01:15<16:37, 10.73s/it]"
     ]
    },
    {
     "name": "stdout",
     "output_type": "stream",
     "text": [
      "epoch: 6, cur_loss = [ 52662.1328125]\n"
     ]
    },
    {
     "name": "stderr",
     "output_type": "stream",
     "text": [
      "  8%|▊         | 8/100 [01:24<16:11, 10.56s/it]"
     ]
    },
    {
     "name": "stdout",
     "output_type": "stream",
     "text": [
      "epoch: 7, cur_loss = [ 52165.62890625]\n"
     ]
    },
    {
     "name": "stderr",
     "output_type": "stream",
     "text": [
      "  9%|▉         | 9/100 [01:34<15:51, 10.45s/it]"
     ]
    },
    {
     "name": "stdout",
     "output_type": "stream",
     "text": [
      "epoch: 8, cur_loss = [ 51120.2890625]\n"
     ]
    },
    {
     "name": "stderr",
     "output_type": "stream",
     "text": [
      " 10%|█         | 10/100 [01:43<15:30, 10.34s/it]"
     ]
    },
    {
     "name": "stdout",
     "output_type": "stream",
     "text": [
      "epoch: 9, cur_loss = [ 50415.65234375]\n"
     ]
    },
    {
     "name": "stderr",
     "output_type": "stream",
     "text": [
      " 11%|█         | 11/100 [01:54<15:27, 10.42s/it]"
     ]
    },
    {
     "name": "stdout",
     "output_type": "stream",
     "text": [
      "epoch: 10, cur_loss = [ 50286.8828125]\n"
     ]
    },
    {
     "name": "stderr",
     "output_type": "stream",
     "text": [
      " 12%|█▏        | 12/100 [02:05<15:16, 10.42s/it]"
     ]
    },
    {
     "name": "stdout",
     "output_type": "stream",
     "text": [
      "epoch: 11, cur_loss = [ 49301.0546875]\n"
     ]
    },
    {
     "name": "stderr",
     "output_type": "stream",
     "text": [
      " 13%|█▎        | 13/100 [02:15<15:06, 10.42s/it]"
     ]
    },
    {
     "name": "stdout",
     "output_type": "stream",
     "text": [
      "epoch: 12, cur_loss = [ 47961.3828125]\n"
     ]
    },
    {
     "name": "stderr",
     "output_type": "stream",
     "text": [
      " 14%|█▍        | 14/100 [02:26<14:59, 10.46s/it]"
     ]
    },
    {
     "name": "stdout",
     "output_type": "stream",
     "text": [
      "epoch: 13, cur_loss = [ 47457.6640625]\n"
     ]
    },
    {
     "name": "stderr",
     "output_type": "stream",
     "text": [
      " 15%|█▌        | 15/100 [02:36<14:49, 10.46s/it]"
     ]
    },
    {
     "name": "stdout",
     "output_type": "stream",
     "text": [
      "epoch: 14, cur_loss = [ 46820.66796875]\n"
     ]
    },
    {
     "name": "stderr",
     "output_type": "stream",
     "text": [
      " 16%|█▌        | 16/100 [02:47<14:41, 10.50s/it]"
     ]
    },
    {
     "name": "stdout",
     "output_type": "stream",
     "text": [
      "epoch: 15, cur_loss = [ 45987.8515625]\n"
     ]
    },
    {
     "name": "stderr",
     "output_type": "stream",
     "text": [
      " 17%|█▋        | 17/100 [02:58<14:30, 10.49s/it]"
     ]
    },
    {
     "name": "stdout",
     "output_type": "stream",
     "text": [
      "epoch: 16, cur_loss = [ 44908.9609375]\n"
     ]
    },
    {
     "name": "stderr",
     "output_type": "stream",
     "text": [
      " 18%|█▊        | 18/100 [03:08<14:17, 10.46s/it]"
     ]
    },
    {
     "name": "stdout",
     "output_type": "stream",
     "text": [
      "epoch: 17, cur_loss = [ 44297.05078125]\n"
     ]
    },
    {
     "name": "stderr",
     "output_type": "stream",
     "text": [
      " 19%|█▉        | 19/100 [03:18<14:04, 10.42s/it]"
     ]
    },
    {
     "name": "stdout",
     "output_type": "stream",
     "text": [
      "epoch: 18, cur_loss = [ 42501.671875]\n"
     ]
    },
    {
     "name": "stderr",
     "output_type": "stream",
     "text": [
      " 20%|██        | 20/100 [03:28<13:54, 10.43s/it]"
     ]
    },
    {
     "name": "stdout",
     "output_type": "stream",
     "text": [
      "epoch: 19, cur_loss = [ 41822.734375]\n"
     ]
    },
    {
     "name": "stderr",
     "output_type": "stream",
     "text": [
      " 21%|██        | 21/100 [03:39<13:46, 10.46s/it]"
     ]
    },
    {
     "name": "stdout",
     "output_type": "stream",
     "text": [
      "epoch: 20, cur_loss = [ 40685.79296875]\n"
     ]
    },
    {
     "name": "stderr",
     "output_type": "stream",
     "text": [
      " 22%|██▏       | 22/100 [03:50<13:36, 10.46s/it]"
     ]
    },
    {
     "name": "stdout",
     "output_type": "stream",
     "text": [
      "epoch: 21, cur_loss = [ 39439.3984375]\n"
     ]
    },
    {
     "name": "stderr",
     "output_type": "stream",
     "text": [
      " 23%|██▎       | 23/100 [04:00<13:25, 10.47s/it]"
     ]
    },
    {
     "name": "stdout",
     "output_type": "stream",
     "text": [
      "epoch: 22, cur_loss = [ 39257.19140625]\n"
     ]
    },
    {
     "name": "stderr",
     "output_type": "stream",
     "text": [
      " 24%|██▍       | 24/100 [04:10<13:13, 10.45s/it]"
     ]
    },
    {
     "name": "stdout",
     "output_type": "stream",
     "text": [
      "epoch: 23, cur_loss = [ 38301.2734375]\n"
     ]
    },
    {
     "name": "stderr",
     "output_type": "stream",
     "text": [
      " 25%|██▌       | 25/100 [04:21<13:03, 10.45s/it]"
     ]
    },
    {
     "name": "stdout",
     "output_type": "stream",
     "text": [
      "epoch: 24, cur_loss = [ 37106.6015625]\n"
     ]
    },
    {
     "name": "stderr",
     "output_type": "stream",
     "text": [
      " 26%|██▌       | 26/100 [04:31<12:52, 10.44s/it]"
     ]
    },
    {
     "name": "stdout",
     "output_type": "stream",
     "text": [
      "epoch: 25, cur_loss = [ 36375.7890625]\n"
     ]
    },
    {
     "name": "stderr",
     "output_type": "stream",
     "text": [
      " 27%|██▋       | 27/100 [04:41<12:41, 10.44s/it]"
     ]
    },
    {
     "name": "stdout",
     "output_type": "stream",
     "text": [
      "epoch: 26, cur_loss = [ 35652.44140625]\n"
     ]
    },
    {
     "name": "stderr",
     "output_type": "stream",
     "text": [
      " 28%|██▊       | 28/100 [04:52<12:31, 10.44s/it]"
     ]
    },
    {
     "name": "stdout",
     "output_type": "stream",
     "text": [
      "epoch: 27, cur_loss = [ 35500.62890625]\n"
     ]
    },
    {
     "name": "stderr",
     "output_type": "stream",
     "text": [
      " 29%|██▉       | 29/100 [05:02<12:19, 10.42s/it]"
     ]
    },
    {
     "name": "stdout",
     "output_type": "stream",
     "text": [
      "epoch: 28, cur_loss = [ 34364.6875]\n"
     ]
    },
    {
     "name": "stderr",
     "output_type": "stream",
     "text": [
      " 30%|███       | 30/100 [05:13<12:11, 10.44s/it]"
     ]
    },
    {
     "name": "stdout",
     "output_type": "stream",
     "text": [
      "epoch: 29, cur_loss = [ 32894.453125]\n"
     ]
    },
    {
     "name": "stderr",
     "output_type": "stream",
     "text": [
      " 31%|███       | 31/100 [05:23<12:00, 10.44s/it]"
     ]
    },
    {
     "name": "stdout",
     "output_type": "stream",
     "text": [
      "epoch: 30, cur_loss = [ 32098.08789062]\n"
     ]
    },
    {
     "name": "stderr",
     "output_type": "stream",
     "text": [
      " 32%|███▏      | 32/100 [05:33<11:49, 10.43s/it]"
     ]
    },
    {
     "name": "stdout",
     "output_type": "stream",
     "text": [
      "epoch: 31, cur_loss = [ 31721.37890625]\n"
     ]
    },
    {
     "name": "stderr",
     "output_type": "stream",
     "text": [
      " 33%|███▎      | 33/100 [05:43<11:37, 10.41s/it]"
     ]
    },
    {
     "name": "stdout",
     "output_type": "stream",
     "text": [
      "epoch: 32, cur_loss = [ 31715.0234375]\n"
     ]
    },
    {
     "name": "stderr",
     "output_type": "stream",
     "text": [
      " 34%|███▍      | 34/100 [05:54<11:27, 10.42s/it]"
     ]
    },
    {
     "name": "stdout",
     "output_type": "stream",
     "text": [
      "epoch: 33, cur_loss = [ 31848.88476562]\n"
     ]
    },
    {
     "name": "stderr",
     "output_type": "stream",
     "text": [
      " 35%|███▌      | 35/100 [06:04<11:17, 10.42s/it]"
     ]
    },
    {
     "name": "stdout",
     "output_type": "stream",
     "text": [
      "epoch: 34, cur_loss = [ 30300.81640625]\n"
     ]
    },
    {
     "name": "stderr",
     "output_type": "stream",
     "text": [
      " 36%|███▌      | 36/100 [06:15<11:07, 10.44s/it]"
     ]
    },
    {
     "name": "stdout",
     "output_type": "stream",
     "text": [
      "epoch: 35, cur_loss = [ 29511.86523438]\n"
     ]
    },
    {
     "name": "stderr",
     "output_type": "stream",
     "text": [
      " 37%|███▋      | 37/100 [06:25<10:56, 10.42s/it]"
     ]
    },
    {
     "name": "stdout",
     "output_type": "stream",
     "text": [
      "epoch: 36, cur_loss = [ 29730.4921875]\n"
     ]
    },
    {
     "name": "stderr",
     "output_type": "stream",
     "text": [
      " 38%|███▊      | 38/100 [06:35<10:45, 10.41s/it]"
     ]
    },
    {
     "name": "stdout",
     "output_type": "stream",
     "text": [
      "epoch: 37, cur_loss = [ 29122.77734375]\n"
     ]
    },
    {
     "name": "stderr",
     "output_type": "stream",
     "text": [
      " 39%|███▉      | 39/100 [06:45<10:34, 10.40s/it]"
     ]
    },
    {
     "name": "stdout",
     "output_type": "stream",
     "text": [
      "epoch: 38, cur_loss = [ 29420.00390625]\n"
     ]
    },
    {
     "name": "stderr",
     "output_type": "stream",
     "text": [
      " 40%|████      | 40/100 [06:55<10:23, 10.40s/it]"
     ]
    },
    {
     "name": "stdout",
     "output_type": "stream",
     "text": [
      "epoch: 39, cur_loss = [ 28942.47460938]\n"
     ]
    },
    {
     "name": "stderr",
     "output_type": "stream",
     "text": [
      " 41%|████      | 41/100 [07:06<10:13, 10.40s/it]"
     ]
    },
    {
     "name": "stdout",
     "output_type": "stream",
     "text": [
      "epoch: 40, cur_loss = [ 28622.65625]\n"
     ]
    },
    {
     "name": "stderr",
     "output_type": "stream",
     "text": [
      " 42%|████▏     | 42/100 [07:16<10:03, 10.40s/it]"
     ]
    },
    {
     "name": "stdout",
     "output_type": "stream",
     "text": [
      "epoch: 41, cur_loss = [ 28342.0703125]\n"
     ]
    },
    {
     "name": "stderr",
     "output_type": "stream",
     "text": [
      " 43%|████▎     | 43/100 [07:27<09:53, 10.40s/it]"
     ]
    },
    {
     "name": "stdout",
     "output_type": "stream",
     "text": [
      "epoch: 42, cur_loss = [ 27721.10546875]\n"
     ]
    },
    {
     "name": "stderr",
     "output_type": "stream",
     "text": [
      " 44%|████▍     | 44/100 [07:38<09:43, 10.42s/it]"
     ]
    },
    {
     "name": "stdout",
     "output_type": "stream",
     "text": [
      "epoch: 43, cur_loss = [ 28052.984375]\n"
     ]
    },
    {
     "name": "stderr",
     "output_type": "stream",
     "text": [
      " 45%|████▌     | 45/100 [07:47<09:31, 10.40s/it]"
     ]
    },
    {
     "name": "stdout",
     "output_type": "stream",
     "text": [
      "epoch: 44, cur_loss = [ 27011.6171875]\n"
     ]
    },
    {
     "name": "stderr",
     "output_type": "stream",
     "text": [
      " 46%|████▌     | 46/100 [07:57<09:20, 10.38s/it]"
     ]
    },
    {
     "name": "stdout",
     "output_type": "stream",
     "text": [
      "epoch: 45, cur_loss = [ 28091.55664062]\n"
     ]
    },
    {
     "name": "stderr",
     "output_type": "stream",
     "text": [
      " 47%|████▋     | 47/100 [08:07<09:10, 10.38s/it]"
     ]
    },
    {
     "name": "stdout",
     "output_type": "stream",
     "text": [
      "epoch: 46, cur_loss = [ 27535.74414062]\n"
     ]
    },
    {
     "name": "stderr",
     "output_type": "stream",
     "text": [
      " 48%|████▊     | 48/100 [08:18<09:00, 10.39s/it]"
     ]
    },
    {
     "name": "stdout",
     "output_type": "stream",
     "text": [
      "epoch: 47, cur_loss = [ 26826.19140625]\n"
     ]
    },
    {
     "name": "stderr",
     "output_type": "stream",
     "text": [
      " 49%|████▉     | 49/100 [08:28<08:49, 10.38s/it]"
     ]
    },
    {
     "name": "stdout",
     "output_type": "stream",
     "text": [
      "epoch: 48, cur_loss = [ 27435.171875]\n"
     ]
    },
    {
     "name": "stderr",
     "output_type": "stream",
     "text": [
      " 50%|█████     | 50/100 [08:38<08:38, 10.38s/it]"
     ]
    },
    {
     "name": "stdout",
     "output_type": "stream",
     "text": [
      "epoch: 49, cur_loss = [ 26742.7890625]\n"
     ]
    },
    {
     "name": "stderr",
     "output_type": "stream",
     "text": [
      " 51%|█████     | 51/100 [08:49<08:28, 10.38s/it]"
     ]
    },
    {
     "name": "stdout",
     "output_type": "stream",
     "text": [
      "epoch: 50, cur_loss = [ 26405.05078125]\n"
     ]
    },
    {
     "name": "stderr",
     "output_type": "stream",
     "text": [
      " 52%|█████▏    | 52/100 [08:58<08:16, 10.35s/it]"
     ]
    },
    {
     "name": "stdout",
     "output_type": "stream",
     "text": [
      "epoch: 51, cur_loss = [ 26571.28125]\n"
     ]
    },
    {
     "name": "stderr",
     "output_type": "stream",
     "text": [
      " 53%|█████▎    | 53/100 [09:08<08:06, 10.36s/it]"
     ]
    },
    {
     "name": "stdout",
     "output_type": "stream",
     "text": [
      "epoch: 52, cur_loss = [ 26008.25]\n"
     ]
    },
    {
     "name": "stderr",
     "output_type": "stream",
     "text": [
      " 54%|█████▍    | 54/100 [09:19<07:56, 10.36s/it]"
     ]
    },
    {
     "name": "stdout",
     "output_type": "stream",
     "text": [
      "epoch: 53, cur_loss = [ 25442.76171875]\n"
     ]
    },
    {
     "name": "stderr",
     "output_type": "stream",
     "text": [
      " 55%|█████▌    | 55/100 [09:30<07:47, 10.38s/it]"
     ]
    },
    {
     "name": "stdout",
     "output_type": "stream",
     "text": [
      "epoch: 54, cur_loss = [ 25296.77734375]\n"
     ]
    },
    {
     "name": "stderr",
     "output_type": "stream",
     "text": [
      " 56%|█████▌    | 56/100 [09:41<07:36, 10.38s/it]"
     ]
    },
    {
     "name": "stdout",
     "output_type": "stream",
     "text": [
      "epoch: 55, cur_loss = [ 25474.38867188]\n"
     ]
    },
    {
     "name": "stderr",
     "output_type": "stream",
     "text": [
      " 57%|█████▋    | 57/100 [09:52<07:26, 10.39s/it]"
     ]
    },
    {
     "name": "stdout",
     "output_type": "stream",
     "text": [
      "epoch: 56, cur_loss = [ 26098.41796875]\n"
     ]
    },
    {
     "name": "stderr",
     "output_type": "stream",
     "text": [
      " 58%|█████▊    | 58/100 [10:03<07:16, 10.40s/it]"
     ]
    },
    {
     "name": "stdout",
     "output_type": "stream",
     "text": [
      "epoch: 57, cur_loss = [ 25842.3046875]\n"
     ]
    },
    {
     "name": "stderr",
     "output_type": "stream",
     "text": [
      " 59%|█████▉    | 59/100 [10:13<07:06, 10.40s/it]"
     ]
    },
    {
     "name": "stdout",
     "output_type": "stream",
     "text": [
      "epoch: 58, cur_loss = [ 25062.54296875]\n"
     ]
    },
    {
     "name": "stderr",
     "output_type": "stream",
     "text": [
      " 60%|██████    | 60/100 [10:23<06:55, 10.40s/it]"
     ]
    },
    {
     "name": "stdout",
     "output_type": "stream",
     "text": [
      "epoch: 59, cur_loss = [ 25951.27929688]\n"
     ]
    },
    {
     "name": "stderr",
     "output_type": "stream",
     "text": [
      " 61%|██████    | 61/100 [10:34<06:45, 10.40s/it]"
     ]
    },
    {
     "name": "stdout",
     "output_type": "stream",
     "text": [
      "epoch: 60, cur_loss = [ 25564.33984375]\n"
     ]
    },
    {
     "name": "stderr",
     "output_type": "stream",
     "text": [
      " 62%|██████▏   | 62/100 [10:45<06:35, 10.41s/it]"
     ]
    },
    {
     "name": "stdout",
     "output_type": "stream",
     "text": [
      "epoch: 61, cur_loss = [ 24821.01171875]\n"
     ]
    },
    {
     "name": "stderr",
     "output_type": "stream",
     "text": [
      " 63%|██████▎   | 63/100 [10:54<06:24, 10.39s/it]"
     ]
    },
    {
     "name": "stdout",
     "output_type": "stream",
     "text": [
      "epoch: 62, cur_loss = [ 25521.89648438]\n"
     ]
    },
    {
     "name": "stderr",
     "output_type": "stream",
     "text": [
      " 64%|██████▍   | 64/100 [11:03<06:13, 10.37s/it]"
     ]
    },
    {
     "name": "stdout",
     "output_type": "stream",
     "text": [
      "epoch: 63, cur_loss = [ 24921.72265625]\n"
     ]
    },
    {
     "name": "stderr",
     "output_type": "stream",
     "text": [
      " 65%|██████▌   | 65/100 [11:14<06:03, 10.38s/it]"
     ]
    },
    {
     "name": "stdout",
     "output_type": "stream",
     "text": [
      "epoch: 64, cur_loss = [ 24728.19921875]\n"
     ]
    },
    {
     "name": "stderr",
     "output_type": "stream",
     "text": [
      " 66%|██████▌   | 66/100 [11:25<05:53, 10.38s/it]"
     ]
    },
    {
     "name": "stdout",
     "output_type": "stream",
     "text": [
      "epoch: 65, cur_loss = [ 24582.1171875]\n"
     ]
    },
    {
     "name": "stderr",
     "output_type": "stream",
     "text": [
      " 67%|██████▋   | 67/100 [11:35<05:42, 10.39s/it]"
     ]
    },
    {
     "name": "stdout",
     "output_type": "stream",
     "text": [
      "epoch: 66, cur_loss = [ 25322.7265625]\n"
     ]
    },
    {
     "name": "stderr",
     "output_type": "stream",
     "text": [
      " 68%|██████▊   | 68/100 [11:46<05:32, 10.39s/it]"
     ]
    },
    {
     "name": "stdout",
     "output_type": "stream",
     "text": [
      "epoch: 67, cur_loss = [ 24006.60742188]\n"
     ]
    },
    {
     "name": "stderr",
     "output_type": "stream",
     "text": [
      " 69%|██████▉   | 69/100 [11:56<05:21, 10.38s/it]"
     ]
    },
    {
     "name": "stdout",
     "output_type": "stream",
     "text": [
      "epoch: 68, cur_loss = [ 25192.89453125]\n"
     ]
    },
    {
     "name": "stderr",
     "output_type": "stream",
     "text": [
      " 70%|███████   | 70/100 [12:06<05:11, 10.38s/it]"
     ]
    },
    {
     "name": "stdout",
     "output_type": "stream",
     "text": [
      "epoch: 69, cur_loss = [ 24266.02148438]\n"
     ]
    },
    {
     "name": "stderr",
     "output_type": "stream",
     "text": [
      " 71%|███████   | 71/100 [12:16<05:00, 10.38s/it]"
     ]
    },
    {
     "name": "stdout",
     "output_type": "stream",
     "text": [
      "epoch: 70, cur_loss = [ 24463.640625]\n"
     ]
    },
    {
     "name": "stderr",
     "output_type": "stream",
     "text": [
      " 72%|███████▏  | 72/100 [12:26<04:50, 10.37s/it]"
     ]
    },
    {
     "name": "stdout",
     "output_type": "stream",
     "text": [
      "epoch: 71, cur_loss = [ 24857.49609375]\n"
     ]
    },
    {
     "name": "stderr",
     "output_type": "stream",
     "text": [
      " 73%|███████▎  | 73/100 [12:37<04:40, 10.37s/it]"
     ]
    },
    {
     "name": "stdout",
     "output_type": "stream",
     "text": [
      "epoch: 72, cur_loss = [ 23805.328125]\n"
     ]
    },
    {
     "name": "stderr",
     "output_type": "stream",
     "text": [
      " 74%|███████▍  | 74/100 [12:46<04:29, 10.36s/it]"
     ]
    },
    {
     "name": "stdout",
     "output_type": "stream",
     "text": [
      "epoch: 73, cur_loss = [ 24759.90429688]\n"
     ]
    },
    {
     "name": "stderr",
     "output_type": "stream",
     "text": [
      " 75%|███████▌  | 75/100 [12:56<04:18, 10.35s/it]"
     ]
    },
    {
     "name": "stdout",
     "output_type": "stream",
     "text": [
      "epoch: 74, cur_loss = [ 23623.5546875]\n"
     ]
    },
    {
     "name": "stderr",
     "output_type": "stream",
     "text": [
      " 76%|███████▌  | 76/100 [13:05<04:08, 10.34s/it]"
     ]
    },
    {
     "name": "stdout",
     "output_type": "stream",
     "text": [
      "epoch: 75, cur_loss = [ 23443.78515625]\n"
     ]
    },
    {
     "name": "stderr",
     "output_type": "stream",
     "text": [
      " 77%|███████▋  | 77/100 [13:17<03:58, 10.35s/it]"
     ]
    },
    {
     "name": "stdout",
     "output_type": "stream",
     "text": [
      "epoch: 76, cur_loss = [ 23916.80859375]\n"
     ]
    },
    {
     "name": "stderr",
     "output_type": "stream",
     "text": [
      " 78%|███████▊  | 78/100 [13:27<03:47, 10.35s/it]"
     ]
    },
    {
     "name": "stdout",
     "output_type": "stream",
     "text": [
      "epoch: 77, cur_loss = [ 23701.44921875]\n"
     ]
    },
    {
     "name": "stderr",
     "output_type": "stream",
     "text": [
      " 79%|███████▉  | 79/100 [13:39<03:37, 10.37s/it]"
     ]
    },
    {
     "name": "stdout",
     "output_type": "stream",
     "text": [
      "epoch: 78, cur_loss = [ 23898.36328125]\n"
     ]
    },
    {
     "name": "stderr",
     "output_type": "stream",
     "text": [
      " 80%|████████  | 80/100 [13:49<03:27, 10.37s/it]"
     ]
    },
    {
     "name": "stdout",
     "output_type": "stream",
     "text": [
      "epoch: 79, cur_loss = [ 23936.6484375]\n"
     ]
    },
    {
     "name": "stderr",
     "output_type": "stream",
     "text": [
      " 81%|████████  | 81/100 [13:59<03:16, 10.37s/it]"
     ]
    },
    {
     "name": "stdout",
     "output_type": "stream",
     "text": [
      "epoch: 80, cur_loss = [ 23921.2890625]\n"
     ]
    },
    {
     "name": "stderr",
     "output_type": "stream",
     "text": [
      " 82%|████████▏ | 82/100 [14:10<03:06, 10.37s/it]"
     ]
    },
    {
     "name": "stdout",
     "output_type": "stream",
     "text": [
      "epoch: 81, cur_loss = [ 23365.49609375]\n"
     ]
    },
    {
     "name": "stderr",
     "output_type": "stream",
     "text": [
      " 83%|████████▎ | 83/100 [14:19<02:56, 10.36s/it]"
     ]
    },
    {
     "name": "stdout",
     "output_type": "stream",
     "text": [
      "epoch: 82, cur_loss = [ 23627.54296875]\n"
     ]
    },
    {
     "name": "stderr",
     "output_type": "stream",
     "text": [
      " 84%|████████▍ | 84/100 [14:29<02:45, 10.35s/it]"
     ]
    },
    {
     "name": "stdout",
     "output_type": "stream",
     "text": [
      "epoch: 83, cur_loss = [ 23214.140625]\n"
     ]
    },
    {
     "name": "stderr",
     "output_type": "stream",
     "text": [
      " 85%|████████▌ | 85/100 [14:39<02:35, 10.35s/it]"
     ]
    },
    {
     "name": "stdout",
     "output_type": "stream",
     "text": [
      "epoch: 84, cur_loss = [ 24204.58984375]\n"
     ]
    },
    {
     "name": "stderr",
     "output_type": "stream",
     "text": [
      " 86%|████████▌ | 86/100 [14:49<02:24, 10.35s/it]"
     ]
    },
    {
     "name": "stdout",
     "output_type": "stream",
     "text": [
      "epoch: 85, cur_loss = [ 23763.06640625]\n"
     ]
    },
    {
     "name": "stderr",
     "output_type": "stream",
     "text": [
      " 87%|████████▋ | 87/100 [15:00<02:14, 10.35s/it]"
     ]
    },
    {
     "name": "stdout",
     "output_type": "stream",
     "text": [
      "epoch: 86, cur_loss = [ 23753.01171875]\n"
     ]
    },
    {
     "name": "stderr",
     "output_type": "stream",
     "text": [
      " 88%|████████▊ | 88/100 [15:10<02:04, 10.34s/it]"
     ]
    },
    {
     "name": "stdout",
     "output_type": "stream",
     "text": [
      "epoch: 87, cur_loss = [ 22961.82617188]\n"
     ]
    },
    {
     "name": "stderr",
     "output_type": "stream",
     "text": [
      " 89%|████████▉ | 89/100 [15:20<01:53, 10.35s/it]"
     ]
    },
    {
     "name": "stdout",
     "output_type": "stream",
     "text": [
      "epoch: 88, cur_loss = [ 23352.99804688]\n"
     ]
    },
    {
     "name": "stderr",
     "output_type": "stream",
     "text": [
      " 90%|█████████ | 90/100 [15:30<01:43, 10.33s/it]"
     ]
    },
    {
     "name": "stdout",
     "output_type": "stream",
     "text": [
      "epoch: 89, cur_loss = [ 23325.95703125]\n"
     ]
    },
    {
     "name": "stderr",
     "output_type": "stream",
     "text": [
      " 91%|█████████ | 91/100 [15:40<01:33, 10.34s/it]"
     ]
    },
    {
     "name": "stdout",
     "output_type": "stream",
     "text": [
      "epoch: 90, cur_loss = [ 23221.5234375]\n"
     ]
    },
    {
     "name": "stderr",
     "output_type": "stream",
     "text": [
      " 92%|█████████▏| 92/100 [15:50<01:22, 10.33s/it]"
     ]
    },
    {
     "name": "stdout",
     "output_type": "stream",
     "text": [
      "epoch: 91, cur_loss = [ 23300.984375]\n"
     ]
    },
    {
     "name": "stderr",
     "output_type": "stream",
     "text": [
      " 93%|█████████▎| 93/100 [16:00<01:12, 10.33s/it]"
     ]
    },
    {
     "name": "stdout",
     "output_type": "stream",
     "text": [
      "epoch: 92, cur_loss = [ 23110.57421875]\n"
     ]
    },
    {
     "name": "stderr",
     "output_type": "stream",
     "text": [
      " 94%|█████████▍| 94/100 [16:10<01:01, 10.33s/it]"
     ]
    },
    {
     "name": "stdout",
     "output_type": "stream",
     "text": [
      "epoch: 93, cur_loss = [ 23181.03515625]\n"
     ]
    },
    {
     "name": "stderr",
     "output_type": "stream",
     "text": [
      " 95%|█████████▌| 95/100 [16:20<00:51, 10.32s/it]"
     ]
    },
    {
     "name": "stdout",
     "output_type": "stream",
     "text": [
      "epoch: 94, cur_loss = [ 22445.27734375]\n"
     ]
    },
    {
     "name": "stderr",
     "output_type": "stream",
     "text": [
      " 96%|█████████▌| 96/100 [16:31<00:41, 10.33s/it]"
     ]
    },
    {
     "name": "stdout",
     "output_type": "stream",
     "text": [
      "epoch: 95, cur_loss = [ 24208.43359375]\n"
     ]
    },
    {
     "name": "stderr",
     "output_type": "stream",
     "text": [
      " 97%|█████████▋| 97/100 [16:42<00:30, 10.33s/it]"
     ]
    },
    {
     "name": "stdout",
     "output_type": "stream",
     "text": [
      "epoch: 96, cur_loss = [ 22875.3046875]\n"
     ]
    },
    {
     "name": "stderr",
     "output_type": "stream",
     "text": [
      " 98%|█████████▊| 98/100 [16:52<00:20, 10.33s/it]"
     ]
    },
    {
     "name": "stdout",
     "output_type": "stream",
     "text": [
      "epoch: 97, cur_loss = [ 22959.1328125]\n"
     ]
    },
    {
     "name": "stderr",
     "output_type": "stream",
     "text": [
      " 99%|█████████▉| 99/100 [17:03<00:10, 10.33s/it]"
     ]
    },
    {
     "name": "stdout",
     "output_type": "stream",
     "text": [
      "epoch: 98, cur_loss = [ 23000.57421875]\n"
     ]
    },
    {
     "name": "stderr",
     "output_type": "stream",
     "text": [
      "100%|██████████| 100/100 [17:12<00:00, 10.33s/it]"
     ]
    },
    {
     "name": "stdout",
     "output_type": "stream",
     "text": [
      "epoch: 99, cur_loss = [ 23168.34179688]\n"
     ]
    },
    {
     "name": "stderr",
     "output_type": "stream",
     "text": [
      "\n"
     ]
    }
   ],
   "source": [
    "EPOCHS = 100\n",
    "\n",
    "los = []\n",
    "for e in tqdm(range(EPOCHS)):\n",
    "    for i, (data, label) in enumerate(train_data):\n",
    "        x = data.as_in_context(gpu_ctx)\n",
    "        \n",
    "    with autograd.record():\n",
    "        if i == 0:\n",
    "            print('...start algorithm')\n",
    "        x_gen, z_mean, log_z_var = vae(x)\n",
    "        loss = vae_loss(x, x_gen, z_mean, log_z_var)\n",
    "    loss.backward()\n",
    "    trainer.step(data.shape[0])\n",
    "    tqdm.write('epoch: {}, cur_loss = {}'.format(e, loss.asnumpy()))\n",
    "    los.append(loss.asnumpy())"
   ]
  },
  {
   "cell_type": "markdown",
   "metadata": {},
   "source": [
    "## Save model"
   ]
  },
  {
   "cell_type": "code",
   "execution_count": 46,
   "metadata": {
    "ExecuteTime": {
     "end_time": "2018-01-15T03:13:45.843737Z",
     "start_time": "2018-01-15T03:13:45.832563Z"
    },
    "collapsed": true
   },
   "outputs": [],
   "source": [
    "# Path to save parameters\n",
    "model_prefix = 'vae_gluon.params'\n",
    "vae.save_params(model_prefix)"
   ]
  },
  {
   "cell_type": "markdown",
   "metadata": {},
   "source": [
    "# Predict"
   ]
  },
  {
   "cell_type": "markdown",
   "metadata": {},
   "source": [
    "## Load model"
   ]
  },
  {
   "cell_type": "code",
   "execution_count": 47,
   "metadata": {
    "ExecuteTime": {
     "end_time": "2018-01-15T03:13:47.005800Z",
     "start_time": "2018-01-15T03:13:47.001520Z"
    },
    "collapsed": true
   },
   "outputs": [],
   "source": [
    "NUM_TEST = 10"
   ]
  },
  {
   "cell_type": "code",
   "execution_count": 48,
   "metadata": {
    "ExecuteTime": {
     "end_time": "2018-01-15T03:13:48.618966Z",
     "start_time": "2018-01-15T03:13:48.610232Z"
    },
    "collapsed": true
   },
   "outputs": [],
   "source": [
    "vae2 = VAE(NUM_TEST, FILTERS, LATENT_DIM, OUTPUT_DIM)\n",
    "vae2.load_params(model_prefix, ctx=gpu_ctx)"
   ]
  },
  {
   "cell_type": "code",
   "execution_count": 58,
   "metadata": {
    "ExecuteTime": {
     "end_time": "2018-01-15T03:18:06.267908Z",
     "start_time": "2018-01-15T03:18:06.159711Z"
    }
   },
   "outputs": [
    {
     "data": {
      "text/html": [
       "\n",
       "<div class=\"bk-root\">\n",
       "    <div class=\"bk-plotdiv\" id=\"f8fb88bb-d034-45a9-8cd1-395ce35de9ba\"></div>\n",
       "</div>"
      ]
     },
     "metadata": {},
     "output_type": "display_data"
    },
    {
     "data": {
      "application/javascript": [
       "(function(root) {\n",
       "  function embed_document(root) {\n",
       "    var docs_json = {\"03c04be1-9966-431a-81e3-a30f5a87c6fc\":{\"roots\":{\"references\":[{\"attributes\":{\"plot\":null,\"text\":\"\"},\"id\":\"db59bded-8c09-4332-907f-163dda95c35e\",\"type\":\"Title\"},{\"attributes\":{},\"id\":\"64a37b51-0f94-4d84-a250-7d251afd88a3\",\"type\":\"BasicTicker\"},{\"attributes\":{\"fill_color\":{\"value\":\"#1f77b4\"},\"line_color\":{\"value\":\"#1f77b4\"},\"x\":{\"field\":\"x\"},\"y\":{\"field\":\"y\"}},\"id\":\"10077199-8bfc-4653-af81-85d40fdb98f4\",\"type\":\"Circle\"},{\"attributes\":{},\"id\":\"41a1c8c9-836e-40c4-857d-8971cfd6fba6\",\"type\":\"BasicTickFormatter\"},{\"attributes\":{\"dimension\":1,\"plot\":{\"id\":\"8edd649a-1d9a-4280-b027-792be75fb2a4\",\"subtype\":\"Figure\",\"type\":\"Plot\"},\"ticker\":{\"id\":\"64a37b51-0f94-4d84-a250-7d251afd88a3\",\"type\":\"BasicTicker\"}},\"id\":\"898f56b9-e184-4910-8cd3-90653e3c1439\",\"type\":\"Grid\"},{\"attributes\":{\"plot\":{\"id\":\"8edd649a-1d9a-4280-b027-792be75fb2a4\",\"subtype\":\"Figure\",\"type\":\"Plot\"},\"ticker\":{\"id\":\"8d855e57-2e21-42bb-95ed-7c0a10557f01\",\"type\":\"BasicTicker\"}},\"id\":\"8018683e-7361-47c3-b4e8-4c5ae7217ff5\",\"type\":\"Grid\"},{\"attributes\":{\"bottom_units\":\"screen\",\"fill_alpha\":{\"value\":0.5},\"fill_color\":{\"value\":\"lightgrey\"},\"left_units\":\"screen\",\"level\":\"overlay\",\"line_alpha\":{\"value\":1.0},\"line_color\":{\"value\":\"black\"},\"line_dash\":[4,4],\"line_width\":{\"value\":2},\"plot\":null,\"render_mode\":\"css\",\"right_units\":\"screen\",\"top_units\":\"screen\"},\"id\":\"d1770bfc-ecf4-4867-b465-b06a5210723b\",\"type\":\"BoxAnnotation\"},{\"attributes\":{\"overlay\":{\"id\":\"d1770bfc-ecf4-4867-b465-b06a5210723b\",\"type\":\"BoxAnnotation\"}},\"id\":\"773fc5df-7fc9-4447-9f06-6a9140eddb61\",\"type\":\"BoxZoomTool\"},{\"attributes\":{\"callback\":null,\"column_names\":[\"x\",\"y\"],\"data\":{\"x\":{\"__ndarray__\":\"eP6Vv6+TYb9XwYs/2iTIuyhHlr+5A2m/3pFNQMvifL9vjlo+pCr5vzK45D8PmpPAocFKP8Uazb8ILUe/Yw+wP/rtar9f20g+DrcOQIYqyD1hBoi/SOozv1YylD8thyXAgsqYv6v8bj+Bph3A5ZwFwCDnRcBALYO/PlubvwY7rL/yKQ/AIbYmQBpklT3zVme/lCgeP6JOlL6+Nuq/Oa0gvmc2T8DTBQC/pSmHP/ISmL8XSYM/k+hfwOnqOECYMQTAOc0oP0nq8L8/f6HAhGfYvw9pf8BwowPAGlaGP5pR7DzdRmW/B3wFQAhqzL5rHic+O/W+vs5UEcCWEaA/VhpUv9UkIEAJ+Dg/UQnUvyC+BcDYpIS/PiFkP2apXsDRyxk/HDvuPjyfp79vtUo++03Nv0Rzgb/bZi0+DObLPiVOab9T1FM/cJ/EPn64mMB/TTU+ZpXzO/eIK8B2G2Y/JATVP81Xgj+xkuw+m7FTPxaQAEDu9I+/SCQQv8gXkL5nCyG/DnE3v47quL/1QThA6JOYPw==\",\"dtype\":\"float32\",\"shape\":[100]},\"y\":{\"__ndarray__\":\"tqqmQNjyz0CztdBALsPmQK2etED0IMJAbEsFQXOnk0BwF8RAboCOQH7JrUAsQoNALAHhQESXpkA5isFAplO3QFaMpEDSAtxAPwTbQCRph0Bmpi9AhhK6QDykykBBpIZAeEqdQHgMzkD88qpArCvMQMyRkUC+zVtAZj+wQLyQx0Bv7qBA0vEHQbIJhEDaErJAjravQFwq1kDmhKNANofAQHAljEA5K65AztPbQBhIeEA2l25AiNxTQFxQBkGka3FAEKvMQPheFUD2yZJAMI56QPYdm0BsqohA1yHrQDZCp0CkBaFAWnnTQI77kEDUvsdA39qIQJWJg0DsldZAOBycQM9PvUCP7rlAQFJmQMQnhEAEMMBAiDDsQBZO0EB6AM1AStq+QI1mnkCmfKhASkCzQIayp0Ds3eBAupuIQG66nkBmtadAUnyTQICdhEBUc6ZAPtKrQO6WsEDkKM5A1FutQO70nkB4dshA/sW1QFQmB0HooqpAj4ucQIpmkEDEHsRAsHuqQMmOzkCc7gFBCgvTQA==\",\"dtype\":\"float32\",\"shape\":[100]}}},\"id\":\"031947e9-7750-4eda-b7b1-64e677de3330\",\"type\":\"ColumnDataSource\"},{\"attributes\":{},\"id\":\"00adf469-7a29-4f5f-8008-2499a1c60f15\",\"type\":\"PanTool\"},{\"attributes\":{\"below\":[{\"id\":\"d733e622-dd3e-4b94-912d-11e1d85f5ebf\",\"type\":\"LinearAxis\"}],\"left\":[{\"id\":\"1a459e68-f241-4599-8706-41b682483c29\",\"type\":\"LinearAxis\"}],\"renderers\":[{\"id\":\"d733e622-dd3e-4b94-912d-11e1d85f5ebf\",\"type\":\"LinearAxis\"},{\"id\":\"8018683e-7361-47c3-b4e8-4c5ae7217ff5\",\"type\":\"Grid\"},{\"id\":\"1a459e68-f241-4599-8706-41b682483c29\",\"type\":\"LinearAxis\"},{\"id\":\"898f56b9-e184-4910-8cd3-90653e3c1439\",\"type\":\"Grid\"},{\"id\":\"d1770bfc-ecf4-4867-b465-b06a5210723b\",\"type\":\"BoxAnnotation\"},{\"id\":\"1a90556e-f6d7-42e1-9296-938a8152aaa9\",\"type\":\"GlyphRenderer\"}],\"title\":{\"id\":\"db59bded-8c09-4332-907f-163dda95c35e\",\"type\":\"Title\"},\"toolbar\":{\"id\":\"2be8754d-9e4e-483c-993e-b3e01cdbbba1\",\"type\":\"Toolbar\"},\"x_range\":{\"id\":\"e4ea3bb8-f62f-497f-ad91-1a073ae63a30\",\"type\":\"DataRange1d\"},\"x_scale\":{\"id\":\"3218f508-9d80-46a7-9a0d-b44b73a8bdd7\",\"type\":\"LinearScale\"},\"y_range\":{\"id\":\"1421f241-141c-4bb3-8060-85d32855d543\",\"type\":\"DataRange1d\"},\"y_scale\":{\"id\":\"b47b16df-a939-4677-9598-ef27145d226a\",\"type\":\"LinearScale\"}},\"id\":\"8edd649a-1d9a-4280-b027-792be75fb2a4\",\"subtype\":\"Figure\",\"type\":\"Plot\"},{\"attributes\":{},\"id\":\"3218f508-9d80-46a7-9a0d-b44b73a8bdd7\",\"type\":\"LinearScale\"},{\"attributes\":{},\"id\":\"fbee8205-0b67-4b06-b2e8-5ae9693191f6\",\"type\":\"SaveTool\"},{\"attributes\":{\"active_drag\":\"auto\",\"active_inspect\":\"auto\",\"active_scroll\":\"auto\",\"active_tap\":\"auto\",\"tools\":[{\"id\":\"00adf469-7a29-4f5f-8008-2499a1c60f15\",\"type\":\"PanTool\"},{\"id\":\"948cc93e-ace2-4b38-aeff-d4915885c3b9\",\"type\":\"WheelZoomTool\"},{\"id\":\"773fc5df-7fc9-4447-9f06-6a9140eddb61\",\"type\":\"BoxZoomTool\"},{\"id\":\"fbee8205-0b67-4b06-b2e8-5ae9693191f6\",\"type\":\"SaveTool\"},{\"id\":\"b3628c48-ff1c-481f-a323-f6e6e413946c\",\"type\":\"ResetTool\"},{\"id\":\"8b76db1d-f3ba-4f96-ad1e-b367b6b60ac7\",\"type\":\"HelpTool\"}]},\"id\":\"2be8754d-9e4e-483c-993e-b3e01cdbbba1\",\"type\":\"Toolbar\"},{\"attributes\":{},\"id\":\"b3628c48-ff1c-481f-a323-f6e6e413946c\",\"type\":\"ResetTool\"},{\"attributes\":{},\"id\":\"8b76db1d-f3ba-4f96-ad1e-b367b6b60ac7\",\"type\":\"HelpTool\"},{\"attributes\":{\"callback\":null},\"id\":\"1421f241-141c-4bb3-8060-85d32855d543\",\"type\":\"DataRange1d\"},{\"attributes\":{},\"id\":\"948cc93e-ace2-4b38-aeff-d4915885c3b9\",\"type\":\"WheelZoomTool\"},{\"attributes\":{\"source\":{\"id\":\"031947e9-7750-4eda-b7b1-64e677de3330\",\"type\":\"ColumnDataSource\"}},\"id\":\"b1e40d39-bbed-4762-9c93-03ecd5b2a5cd\",\"type\":\"CDSView\"},{\"attributes\":{\"formatter\":{\"id\":\"41a1c8c9-836e-40c4-857d-8971cfd6fba6\",\"type\":\"BasicTickFormatter\"},\"plot\":{\"id\":\"8edd649a-1d9a-4280-b027-792be75fb2a4\",\"subtype\":\"Figure\",\"type\":\"Plot\"},\"ticker\":{\"id\":\"8d855e57-2e21-42bb-95ed-7c0a10557f01\",\"type\":\"BasicTicker\"}},\"id\":\"d733e622-dd3e-4b94-912d-11e1d85f5ebf\",\"type\":\"LinearAxis\"},{\"attributes\":{},\"id\":\"f0841c90-5114-46f1-9b18-5e40237b4659\",\"type\":\"BasicTickFormatter\"},{\"attributes\":{},\"id\":\"8d855e57-2e21-42bb-95ed-7c0a10557f01\",\"type\":\"BasicTicker\"},{\"attributes\":{\"data_source\":{\"id\":\"031947e9-7750-4eda-b7b1-64e677de3330\",\"type\":\"ColumnDataSource\"},\"glyph\":{\"id\":\"10077199-8bfc-4653-af81-85d40fdb98f4\",\"type\":\"Circle\"},\"hover_glyph\":null,\"muted_glyph\":null,\"nonselection_glyph\":{\"id\":\"437b436c-e655-4936-9415-e03669bb3dde\",\"type\":\"Circle\"},\"selection_glyph\":null,\"view\":{\"id\":\"b1e40d39-bbed-4762-9c93-03ecd5b2a5cd\",\"type\":\"CDSView\"}},\"id\":\"1a90556e-f6d7-42e1-9296-938a8152aaa9\",\"type\":\"GlyphRenderer\"},{\"attributes\":{},\"id\":\"b47b16df-a939-4677-9598-ef27145d226a\",\"type\":\"LinearScale\"},{\"attributes\":{\"formatter\":{\"id\":\"f0841c90-5114-46f1-9b18-5e40237b4659\",\"type\":\"BasicTickFormatter\"},\"plot\":{\"id\":\"8edd649a-1d9a-4280-b027-792be75fb2a4\",\"subtype\":\"Figure\",\"type\":\"Plot\"},\"ticker\":{\"id\":\"64a37b51-0f94-4d84-a250-7d251afd88a3\",\"type\":\"BasicTicker\"}},\"id\":\"1a459e68-f241-4599-8706-41b682483c29\",\"type\":\"LinearAxis\"},{\"attributes\":{\"callback\":null},\"id\":\"e4ea3bb8-f62f-497f-ad91-1a073ae63a30\",\"type\":\"DataRange1d\"},{\"attributes\":{\"fill_alpha\":{\"value\":0.1},\"fill_color\":{\"value\":\"#1f77b4\"},\"line_alpha\":{\"value\":0.1},\"line_color\":{\"value\":\"#1f77b4\"},\"x\":{\"field\":\"x\"},\"y\":{\"field\":\"y\"}},\"id\":\"437b436c-e655-4936-9415-e03669bb3dde\",\"type\":\"Circle\"}],\"root_ids\":[\"8edd649a-1d9a-4280-b027-792be75fb2a4\"]},\"title\":\"Bokeh Application\",\"version\":\"0.12.10\"}};\n",
       "    var render_items = [{\"docid\":\"03c04be1-9966-431a-81e3-a30f5a87c6fc\",\"elementid\":\"f8fb88bb-d034-45a9-8cd1-395ce35de9ba\",\"modelid\":\"8edd649a-1d9a-4280-b027-792be75fb2a4\"}];\n",
       "\n",
       "    root.Bokeh.embed.embed_items(docs_json, render_items);\n",
       "  }\n",
       "\n",
       "  if (root.Bokeh !== undefined) {\n",
       "    embed_document(root);\n",
       "  } else {\n",
       "    var attempts = 0;\n",
       "    var timer = setInterval(function(root) {\n",
       "      if (root.Bokeh !== undefined) {\n",
       "        embed_document(root);\n",
       "        clearInterval(timer);\n",
       "      }\n",
       "      attempts++;\n",
       "      if (attempts > 100) {\n",
       "        console.log(\"Bokeh: ERROR: Unable to embed document because BokehJS library is missing\")\n",
       "        clearInterval(timer);\n",
       "      }\n",
       "    }, 10, root)\n",
       "  }\n",
       "})(window);"
      ],
      "application/vnd.bokehjs_exec.v0+json": ""
     },
     "metadata": {
      "application/vnd.bokehjs_exec.v0+json": {
       "id": "8edd649a-1d9a-4280-b027-792be75fb2a4"
      }
     },
     "output_type": "display_data"
    }
   ],
   "source": [
    "p = figure()\n",
    "p.circle(vae.z_mean[:, 0].asnumpy(), vae.z_mean[:, 1].asnumpy())\n",
    "\n",
    "show(p)"
   ]
  },
  {
   "cell_type": "code",
   "execution_count": 57,
   "metadata": {
    "ExecuteTime": {
     "end_time": "2018-01-15T03:17:00.235745Z",
     "start_time": "2018-01-15T03:16:59.623497Z"
    }
   },
   "outputs": [
    {
     "data": {
      "text/html": [
       "\n",
       "    <div class=\"bk-root\">\n",
       "        <a href=\"https://bokeh.pydata.org\" target=\"_blank\" class=\"bk-logo bk-logo-small bk-logo-notebook\"></a>\n",
       "        <span id=\"9bb6341d-ba06-4d44-9e77-95546c7f789e\">Loading BokehJS ...</span>\n",
       "    </div>"
      ]
     },
     "metadata": {},
     "output_type": "display_data"
    },
    {
     "data": {
      "application/javascript": [
       "\n",
       "(function(root) {\n",
       "  function now() {\n",
       "    return new Date();\n",
       "  }\n",
       "\n",
       "  var force = true;\n",
       "\n",
       "  if (typeof (root._bokeh_onload_callbacks) === \"undefined\" || force === true) {\n",
       "    root._bokeh_onload_callbacks = [];\n",
       "    root._bokeh_is_loading = undefined;\n",
       "  }\n",
       "\n",
       "  var JS_MIME_TYPE = 'application/javascript';\n",
       "  var HTML_MIME_TYPE = 'text/html';\n",
       "  var EXEC_MIME_TYPE = 'application/vnd.bokehjs_exec.v0+json';\n",
       "  var CLASS_NAME = 'output_bokeh rendered_html';\n",
       "\n",
       "  /**\n",
       "   * Render data to the DOM node\n",
       "   */\n",
       "  function render(props, node) {\n",
       "    var script = document.createElement(\"script\");\n",
       "    node.appendChild(script);\n",
       "  }\n",
       "\n",
       "  /**\n",
       "   * Handle when an output is cleared or removed\n",
       "   */\n",
       "  function handleClearOutput(event, handle) {\n",
       "    var cell = handle.cell;\n",
       "\n",
       "    var id = cell.output_area._bokeh_element_id;\n",
       "    var server_id = cell.output_area._bokeh_server_id;\n",
       "    // Clean up Bokeh references\n",
       "    if (id !== undefined) {\n",
       "      Bokeh.index[id].model.document.clear();\n",
       "      delete Bokeh.index[id];\n",
       "    }\n",
       "\n",
       "    if (server_id !== undefined) {\n",
       "      // Clean up Bokeh references\n",
       "      var cmd = \"from bokeh.io.state import curstate; print(curstate().uuid_to_server['\" + server_id + \"'].get_sessions()[0].document.roots[0]._id)\";\n",
       "      cell.notebook.kernel.execute(cmd, {\n",
       "        iopub: {\n",
       "          output: function(msg) {\n",
       "            var element_id = msg.content.text.trim();\n",
       "            Bokeh.index[element_id].model.document.clear();\n",
       "            delete Bokeh.index[element_id];\n",
       "          }\n",
       "        }\n",
       "      });\n",
       "      // Destroy server and session\n",
       "      var cmd = \"import bokeh.io.notebook as ion; ion.destroy_server('\" + server_id + \"')\";\n",
       "      cell.notebook.kernel.execute(cmd);\n",
       "    }\n",
       "  }\n",
       "\n",
       "  /**\n",
       "   * Handle when a new output is added\n",
       "   */\n",
       "  function handleAddOutput(event, handle) {\n",
       "    var output_area = handle.output_area;\n",
       "    var output = handle.output;\n",
       "\n",
       "    // limit handleAddOutput to display_data with EXEC_MIME_TYPE content only\n",
       "    if ((output.output_type != \"display_data\") || (!output.data.hasOwnProperty(EXEC_MIME_TYPE))) {\n",
       "      return\n",
       "    }\n",
       "\n",
       "    var toinsert = output_area.element.find(`.${CLASS_NAME.split(' ')[0]}`);\n",
       "\n",
       "    if (output.metadata[EXEC_MIME_TYPE][\"id\"] !== undefined) {\n",
       "      toinsert[0].firstChild.textContent = output.data[JS_MIME_TYPE];\n",
       "      // store reference to embed id on output_area\n",
       "      output_area._bokeh_element_id = output.metadata[EXEC_MIME_TYPE][\"id\"];\n",
       "    }\n",
       "    if (output.metadata[EXEC_MIME_TYPE][\"server_id\"] !== undefined) {\n",
       "      var bk_div = document.createElement(\"div\");\n",
       "      bk_div.innerHTML = output.data[HTML_MIME_TYPE];\n",
       "      var script_attrs = bk_div.children[0].attributes;\n",
       "      for (var i = 0; i < script_attrs.length; i++) {\n",
       "        toinsert[0].firstChild.setAttribute(script_attrs[i].name, script_attrs[i].value);\n",
       "      }\n",
       "      // store reference to server id on output_area\n",
       "      output_area._bokeh_server_id = output.metadata[EXEC_MIME_TYPE][\"server_id\"];\n",
       "    }\n",
       "  }\n",
       "\n",
       "  function register_renderer(events, OutputArea) {\n",
       "\n",
       "    function append_mime(data, metadata, element) {\n",
       "      // create a DOM node to render to\n",
       "      var toinsert = this.create_output_subarea(\n",
       "        metadata,\n",
       "        CLASS_NAME,\n",
       "        EXEC_MIME_TYPE\n",
       "      );\n",
       "      this.keyboard_manager.register_events(toinsert);\n",
       "      // Render to node\n",
       "      var props = {data: data, metadata: metadata[EXEC_MIME_TYPE]};\n",
       "      render(props, toinsert[0]);\n",
       "      element.append(toinsert);\n",
       "      return toinsert\n",
       "    }\n",
       "\n",
       "    /* Handle when an output is cleared or removed */\n",
       "    events.on('clear_output.CodeCell', handleClearOutput);\n",
       "    events.on('delete.Cell', handleClearOutput);\n",
       "\n",
       "    /* Handle when a new output is added */\n",
       "    events.on('output_added.OutputArea', handleAddOutput);\n",
       "\n",
       "    /**\n",
       "     * Register the mime type and append_mime function with output_area\n",
       "     */\n",
       "    OutputArea.prototype.register_mime_type(EXEC_MIME_TYPE, append_mime, {\n",
       "      /* Is output safe? */\n",
       "      safe: true,\n",
       "      /* Index of renderer in `output_area.display_order` */\n",
       "      index: 0\n",
       "    });\n",
       "  }\n",
       "\n",
       "  // register the mime type if in Jupyter Notebook environment and previously unregistered\n",
       "  if (root.Jupyter !== undefined) {\n",
       "    var events = require('base/js/events');\n",
       "    var OutputArea = require('notebook/js/outputarea').OutputArea;\n",
       "\n",
       "    if (OutputArea.prototype.mime_types().indexOf(EXEC_MIME_TYPE) == -1) {\n",
       "      register_renderer(events, OutputArea);\n",
       "    }\n",
       "  }\n",
       "\n",
       "  \n",
       "  if (typeof (root._bokeh_timeout) === \"undefined\" || force === true) {\n",
       "    root._bokeh_timeout = Date.now() + 5000;\n",
       "    root._bokeh_failed_load = false;\n",
       "  }\n",
       "\n",
       "  var NB_LOAD_WARNING = {'data': {'text/html':\n",
       "     \"<div style='background-color: #fdd'>\\n\"+\n",
       "     \"<p>\\n\"+\n",
       "     \"BokehJS does not appear to have successfully loaded. If loading BokehJS from CDN, this \\n\"+\n",
       "     \"may be due to a slow or bad network connection. Possible fixes:\\n\"+\n",
       "     \"</p>\\n\"+\n",
       "     \"<ul>\\n\"+\n",
       "     \"<li>re-rerun `output_notebook()` to attempt to load from CDN again, or</li>\\n\"+\n",
       "     \"<li>use INLINE resources instead, as so:</li>\\n\"+\n",
       "     \"</ul>\\n\"+\n",
       "     \"<code>\\n\"+\n",
       "     \"from bokeh.resources import INLINE\\n\"+\n",
       "     \"output_notebook(resources=INLINE)\\n\"+\n",
       "     \"</code>\\n\"+\n",
       "     \"</div>\"}};\n",
       "\n",
       "  function display_loaded() {\n",
       "    var el = document.getElementById(\"9bb6341d-ba06-4d44-9e77-95546c7f789e\");\n",
       "    if (el != null) {\n",
       "      el.textContent = \"BokehJS is loading...\";\n",
       "    }\n",
       "    if (root.Bokeh !== undefined) {\n",
       "      if (el != null) {\n",
       "        el.textContent = \"BokehJS \" + root.Bokeh.version + \" successfully loaded.\";\n",
       "      }\n",
       "    } else if (Date.now() < root._bokeh_timeout) {\n",
       "      setTimeout(display_loaded, 100)\n",
       "    }\n",
       "  }\n",
       "\n",
       "\n",
       "  function run_callbacks() {\n",
       "    try {\n",
       "      root._bokeh_onload_callbacks.forEach(function(callback) { callback() });\n",
       "    }\n",
       "    finally {\n",
       "      delete root._bokeh_onload_callbacks\n",
       "    }\n",
       "    console.info(\"Bokeh: all callbacks have finished\");\n",
       "  }\n",
       "\n",
       "  function load_libs(js_urls, callback) {\n",
       "    root._bokeh_onload_callbacks.push(callback);\n",
       "    if (root._bokeh_is_loading > 0) {\n",
       "      console.log(\"Bokeh: BokehJS is being loaded, scheduling callback at\", now());\n",
       "      return null;\n",
       "    }\n",
       "    if (js_urls == null || js_urls.length === 0) {\n",
       "      run_callbacks();\n",
       "      return null;\n",
       "    }\n",
       "    console.log(\"Bokeh: BokehJS not loaded, scheduling load and callback at\", now());\n",
       "    root._bokeh_is_loading = js_urls.length;\n",
       "    for (var i = 0; i < js_urls.length; i++) {\n",
       "      var url = js_urls[i];\n",
       "      var s = document.createElement('script');\n",
       "      s.src = url;\n",
       "      s.async = false;\n",
       "      s.onreadystatechange = s.onload = function() {\n",
       "        root._bokeh_is_loading--;\n",
       "        if (root._bokeh_is_loading === 0) {\n",
       "          console.log(\"Bokeh: all BokehJS libraries loaded\");\n",
       "          run_callbacks()\n",
       "        }\n",
       "      };\n",
       "      s.onerror = function() {\n",
       "        console.warn(\"failed to load library \" + url);\n",
       "      };\n",
       "      console.log(\"Bokeh: injecting script tag for BokehJS library: \", url);\n",
       "      document.getElementsByTagName(\"head\")[0].appendChild(s);\n",
       "    }\n",
       "  };var element = document.getElementById(\"9bb6341d-ba06-4d44-9e77-95546c7f789e\");\n",
       "  if (element == null) {\n",
       "    console.log(\"Bokeh: ERROR: autoload.js configured with elementid '9bb6341d-ba06-4d44-9e77-95546c7f789e' but no matching script tag was found. \")\n",
       "    return false;\n",
       "  }\n",
       "\n",
       "  var js_urls = [\"https://cdn.pydata.org/bokeh/release/bokeh-0.12.10.min.js\", \"https://cdn.pydata.org/bokeh/release/bokeh-widgets-0.12.10.min.js\", \"https://cdn.pydata.org/bokeh/release/bokeh-tables-0.12.10.min.js\", \"https://cdn.pydata.org/bokeh/release/bokeh-gl-0.12.10.min.js\"];\n",
       "\n",
       "  var inline_js = [\n",
       "    function(Bokeh) {\n",
       "      Bokeh.set_log_level(\"info\");\n",
       "    },\n",
       "    \n",
       "    function(Bokeh) {\n",
       "      \n",
       "    },\n",
       "    function(Bokeh) {\n",
       "      console.log(\"Bokeh: injecting CSS: https://cdn.pydata.org/bokeh/release/bokeh-0.12.10.min.css\");\n",
       "      Bokeh.embed.inject_css(\"https://cdn.pydata.org/bokeh/release/bokeh-0.12.10.min.css\");\n",
       "      console.log(\"Bokeh: injecting CSS: https://cdn.pydata.org/bokeh/release/bokeh-widgets-0.12.10.min.css\");\n",
       "      Bokeh.embed.inject_css(\"https://cdn.pydata.org/bokeh/release/bokeh-widgets-0.12.10.min.css\");\n",
       "      console.log(\"Bokeh: injecting CSS: https://cdn.pydata.org/bokeh/release/bokeh-tables-0.12.10.min.css\");\n",
       "      Bokeh.embed.inject_css(\"https://cdn.pydata.org/bokeh/release/bokeh-tables-0.12.10.min.css\");\n",
       "    }\n",
       "  ];\n",
       "\n",
       "  function run_inline_js() {\n",
       "    \n",
       "    if ((root.Bokeh !== undefined) || (force === true)) {\n",
       "      for (var i = 0; i < inline_js.length; i++) {\n",
       "        inline_js[i].call(root, root.Bokeh);\n",
       "      }if (force === true) {\n",
       "        display_loaded();\n",
       "      }} else if (Date.now() < root._bokeh_timeout) {\n",
       "      setTimeout(run_inline_js, 100);\n",
       "    } else if (!root._bokeh_failed_load) {\n",
       "      console.log(\"Bokeh: BokehJS failed to load within specified timeout.\");\n",
       "      root._bokeh_failed_load = true;\n",
       "    } else if (force !== true) {\n",
       "      var cell = $(document.getElementById(\"9bb6341d-ba06-4d44-9e77-95546c7f789e\")).parents('.cell').data().cell;\n",
       "      cell.output_area.append_execute_result(NB_LOAD_WARNING)\n",
       "    }\n",
       "\n",
       "  }\n",
       "\n",
       "  if (root._bokeh_is_loading === 0) {\n",
       "    console.log(\"Bokeh: BokehJS loaded, going straight to plotting\");\n",
       "    run_inline_js();\n",
       "  } else {\n",
       "    load_libs(js_urls, function() {\n",
       "      console.log(\"Bokeh: BokehJS plotting callback run at\", now());\n",
       "      run_inline_js();\n",
       "    });\n",
       "  }\n",
       "}(window));"
      ],
      "application/vnd.bokehjs_load.v0+json": "\n(function(root) {\n  function now() {\n    return new Date();\n  }\n\n  var force = true;\n\n  if (typeof (root._bokeh_onload_callbacks) === \"undefined\" || force === true) {\n    root._bokeh_onload_callbacks = [];\n    root._bokeh_is_loading = undefined;\n  }\n\n  \n\n  \n  if (typeof (root._bokeh_timeout) === \"undefined\" || force === true) {\n    root._bokeh_timeout = Date.now() + 5000;\n    root._bokeh_failed_load = false;\n  }\n\n  var NB_LOAD_WARNING = {'data': {'text/html':\n     \"<div style='background-color: #fdd'>\\n\"+\n     \"<p>\\n\"+\n     \"BokehJS does not appear to have successfully loaded. If loading BokehJS from CDN, this \\n\"+\n     \"may be due to a slow or bad network connection. Possible fixes:\\n\"+\n     \"</p>\\n\"+\n     \"<ul>\\n\"+\n     \"<li>re-rerun `output_notebook()` to attempt to load from CDN again, or</li>\\n\"+\n     \"<li>use INLINE resources instead, as so:</li>\\n\"+\n     \"</ul>\\n\"+\n     \"<code>\\n\"+\n     \"from bokeh.resources import INLINE\\n\"+\n     \"output_notebook(resources=INLINE)\\n\"+\n     \"</code>\\n\"+\n     \"</div>\"}};\n\n  function display_loaded() {\n    var el = document.getElementById(\"9bb6341d-ba06-4d44-9e77-95546c7f789e\");\n    if (el != null) {\n      el.textContent = \"BokehJS is loading...\";\n    }\n    if (root.Bokeh !== undefined) {\n      if (el != null) {\n        el.textContent = \"BokehJS \" + root.Bokeh.version + \" successfully loaded.\";\n      }\n    } else if (Date.now() < root._bokeh_timeout) {\n      setTimeout(display_loaded, 100)\n    }\n  }\n\n\n  function run_callbacks() {\n    try {\n      root._bokeh_onload_callbacks.forEach(function(callback) { callback() });\n    }\n    finally {\n      delete root._bokeh_onload_callbacks\n    }\n    console.info(\"Bokeh: all callbacks have finished\");\n  }\n\n  function load_libs(js_urls, callback) {\n    root._bokeh_onload_callbacks.push(callback);\n    if (root._bokeh_is_loading > 0) {\n      console.log(\"Bokeh: BokehJS is being loaded, scheduling callback at\", now());\n      return null;\n    }\n    if (js_urls == null || js_urls.length === 0) {\n      run_callbacks();\n      return null;\n    }\n    console.log(\"Bokeh: BokehJS not loaded, scheduling load and callback at\", now());\n    root._bokeh_is_loading = js_urls.length;\n    for (var i = 0; i < js_urls.length; i++) {\n      var url = js_urls[i];\n      var s = document.createElement('script');\n      s.src = url;\n      s.async = false;\n      s.onreadystatechange = s.onload = function() {\n        root._bokeh_is_loading--;\n        if (root._bokeh_is_loading === 0) {\n          console.log(\"Bokeh: all BokehJS libraries loaded\");\n          run_callbacks()\n        }\n      };\n      s.onerror = function() {\n        console.warn(\"failed to load library \" + url);\n      };\n      console.log(\"Bokeh: injecting script tag for BokehJS library: \", url);\n      document.getElementsByTagName(\"head\")[0].appendChild(s);\n    }\n  };var element = document.getElementById(\"9bb6341d-ba06-4d44-9e77-95546c7f789e\");\n  if (element == null) {\n    console.log(\"Bokeh: ERROR: autoload.js configured with elementid '9bb6341d-ba06-4d44-9e77-95546c7f789e' but no matching script tag was found. \")\n    return false;\n  }\n\n  var js_urls = [\"https://cdn.pydata.org/bokeh/release/bokeh-0.12.10.min.js\", \"https://cdn.pydata.org/bokeh/release/bokeh-widgets-0.12.10.min.js\", \"https://cdn.pydata.org/bokeh/release/bokeh-tables-0.12.10.min.js\", \"https://cdn.pydata.org/bokeh/release/bokeh-gl-0.12.10.min.js\"];\n\n  var inline_js = [\n    function(Bokeh) {\n      Bokeh.set_log_level(\"info\");\n    },\n    \n    function(Bokeh) {\n      \n    },\n    function(Bokeh) {\n      console.log(\"Bokeh: injecting CSS: https://cdn.pydata.org/bokeh/release/bokeh-0.12.10.min.css\");\n      Bokeh.embed.inject_css(\"https://cdn.pydata.org/bokeh/release/bokeh-0.12.10.min.css\");\n      console.log(\"Bokeh: injecting CSS: https://cdn.pydata.org/bokeh/release/bokeh-widgets-0.12.10.min.css\");\n      Bokeh.embed.inject_css(\"https://cdn.pydata.org/bokeh/release/bokeh-widgets-0.12.10.min.css\");\n      console.log(\"Bokeh: injecting CSS: https://cdn.pydata.org/bokeh/release/bokeh-tables-0.12.10.min.css\");\n      Bokeh.embed.inject_css(\"https://cdn.pydata.org/bokeh/release/bokeh-tables-0.12.10.min.css\");\n    }\n  ];\n\n  function run_inline_js() {\n    \n    if ((root.Bokeh !== undefined) || (force === true)) {\n      for (var i = 0; i < inline_js.length; i++) {\n        inline_js[i].call(root, root.Bokeh);\n      }if (force === true) {\n        display_loaded();\n      }} else if (Date.now() < root._bokeh_timeout) {\n      setTimeout(run_inline_js, 100);\n    } else if (!root._bokeh_failed_load) {\n      console.log(\"Bokeh: BokehJS failed to load within specified timeout.\");\n      root._bokeh_failed_load = true;\n    } else if (force !== true) {\n      var cell = $(document.getElementById(\"9bb6341d-ba06-4d44-9e77-95546c7f789e\")).parents('.cell').data().cell;\n      cell.output_area.append_execute_result(NB_LOAD_WARNING)\n    }\n\n  }\n\n  if (root._bokeh_is_loading === 0) {\n    console.log(\"Bokeh: BokehJS loaded, going straight to plotting\");\n    run_inline_js();\n  } else {\n    load_libs(js_urls, function() {\n      console.log(\"Bokeh: BokehJS plotting callback run at\", now());\n      run_inline_js();\n    });\n  }\n}(window));"
     },
     "metadata": {},
     "output_type": "display_data"
    }
   ],
   "source": [
    "from bokeh.plotting import figure, show\n",
    "from bokeh.io import output_notebook\n",
    "output_notebook()\n",
    "from bokeh.models import Range1d"
   ]
  },
  {
   "cell_type": "markdown",
   "metadata": {},
   "source": [
    "## Get original image"
   ]
  },
  {
   "cell_type": "code",
   "execution_count": 49,
   "metadata": {
    "ExecuteTime": {
     "end_time": "2018-01-15T03:13:49.614406Z",
     "start_time": "2018-01-15T03:13:49.555033Z"
    },
    "collapsed": true
   },
   "outputs": [],
   "source": [
    "for i, (data) in enumerate(test_data):\n",
    "    original_image = data[0][0:NUM_TEST, :, :, :]\n",
    "    if i == 1:\n",
    "        break"
   ]
  },
  {
   "cell_type": "markdown",
   "metadata": {},
   "source": [
    "## Reconstruct image\n",
    "  * vae2의 결과물은 [x_gen, z_mean, z_log_var]의 list형태"
   ]
  },
  {
   "cell_type": "code",
   "execution_count": 50,
   "metadata": {
    "ExecuteTime": {
     "end_time": "2018-01-15T03:13:50.402335Z",
     "start_time": "2018-01-15T03:13:50.394021Z"
    },
    "collapsed": true
   },
   "outputs": [],
   "source": [
    "result = vae2(original_image.as_in_context(gpu_ctx))\n",
    "result = nd.reshape(result[0], (10, 28, 28)).asnumpy()\n",
    "original = original_image.asnumpy()"
   ]
  },
  {
   "cell_type": "code",
   "execution_count": 51,
   "metadata": {
    "ExecuteTime": {
     "end_time": "2018-01-15T03:13:52.176366Z",
     "start_time": "2018-01-15T03:13:51.250460Z"
    }
   },
   "outputs": [
    {
     "data": {
      "image/png": "[encoded data removed]",
      "text/plain": [
       "<matplotlib.figure.Figure at 0x7ff67fb5a278>"
      ]
     },
     "metadata": {},
     "output_type": "display_data"
    }
   ],
   "source": [
    "import matplotlib.pyplot as plt\n",
    "%matplotlib inline\n",
    "\n",
    "n_samples = original_image.shape[0]\n",
    "\n",
    "_, axarr = plt.subplots(2, n_samples, figsize=(16,4))\n",
    "\n",
    "for i, x in enumerate(original):\n",
    "    axarr[0,i].imshow(x.reshape((28,28)), cmap='Greys')\n",
    "    if i==0:\n",
    "        axarr[0,i].set_title('original')\n",
    "    #axarr[0,i].axis('off')\n",
    "    axarr[0,i].get_xaxis().set_ticks([])\n",
    "    axarr[0,i].get_yaxis().set_ticks([])\n",
    "    axarr[1,i].imshow(result[i].reshape((28,28)), cmap='Greys')\n",
    "    if i==0:\n",
    "        axarr[1,i].set_title('reconstruction')\n",
    "    #axarr[1,i].axis('off')\n",
    "    axarr[1,i].get_xaxis().set_ticks([])\n",
    "    axarr[1,i].get_yaxis().set_ticks([])\n",
    "plt.show()"
   ]
  },
  {
   "cell_type": "code",
   "execution_count": 78,
   "metadata": {
    "ExecuteTime": {
     "end_time": "2018-01-14T11:30:46.825749Z",
     "start_time": "2018-01-14T11:30:46.779483Z"
    }
   },
   "outputs": [
    {
     "name": "stdout",
     "output_type": "stream",
     "text": [
      "after dense1....(1, 128)\n",
      "after dense2.... (1, 784)\n"
     ]
    },
    {
     "ename": "MXNetError",
     "evalue": "[20:30:46] src/operator/tensor/./matrix_op-inl.h:310: Check failed: shp.ndim() == param.axes.ndim() (2 vs. 4) \n\nStack trace returned 10 entries:\n[bt] (0) /home/kionkim/anaconda3/envs/kion_venv_mxnet/lib/python3.6/site-packages/mxnet/libmxnet.so(+0x28965c) [0x7f7d75daa65c]\n[bt] (1) /home/kionkim/anaconda3/envs/kion_venv_mxnet/lib/python3.6/site-packages/mxnet/libmxnet.so(+0x226b868) [0x7f7d77d8c868]\n[bt] (2) /home/kionkim/anaconda3/envs/kion_venv_mxnet/lib/python3.6/site-packages/mxnet/libmxnet.so(+0x24d573f) [0x7f7d77ff673f]\n[bt] (3) /home/kionkim/anaconda3/envs/kion_venv_mxnet/lib/python3.6/site-packages/mxnet/libmxnet.so(+0x24c1be9) [0x7f7d77fe2be9]\n[bt] (4) /home/kionkim/anaconda3/envs/kion_venv_mxnet/lib/python3.6/site-packages/mxnet/libmxnet.so(+0x24026bb) [0x7f7d77f236bb]\n[bt] (5) /home/kionkim/anaconda3/envs/kion_venv_mxnet/lib/python3.6/site-packages/mxnet/libmxnet.so(MXImperativeInvokeEx+0x63) [0x7f7d77f23bf3]\n[bt] (6) /home/kionkim/anaconda3/envs/kion_venv_mxnet/lib/python3.6/lib-dynload/../../libffi.so.6(ffi_call_unix64+0x4c) [0x7f7daf864ec0]\n[bt] (7) /home/kionkim/anaconda3/envs/kion_venv_mxnet/lib/python3.6/lib-dynload/../../libffi.so.6(ffi_call+0x22d) [0x7f7daf86487d]\n[bt] (8) /home/kionkim/anaconda3/envs/kion_venv_mxnet/lib/python3.6/lib-dynload/_ctypes.cpython-36m-x86_64-linux-gnu.so(_ctypes_callproc+0x2ce) [0x7f7dafa7982e]\n[bt] (9) /home/kionkim/anaconda3/envs/kion_venv_mxnet/lib/python3.6/lib-dynload/_ctypes.cpython-36m-x86_64-linux-gnu.so(+0x12265) [0x7f7dafa7a265]\n",
     "output_type": "error",
     "traceback": [
      "\u001b[0;31m---------------------------------------------------------------------------\u001b[0m",
      "\u001b[0;31mMXNetError\u001b[0m                                Traceback (most recent call last)",
      "\u001b[0;32m<ipython-input-78-036ffcb7f689>\u001b[0m in \u001b[0;36m<module>\u001b[0;34m()\u001b[0m\n\u001b[1;32m      5\u001b[0m \u001b[0mt_i\u001b[0m \u001b[0;34m=\u001b[0m \u001b[0mtest_input\u001b[0m\u001b[0;34m.\u001b[0m\u001b[0mreshape\u001b[0m\u001b[0;34m(\u001b[0m\u001b[0;34m(\u001b[0m\u001b[0;34m-\u001b[0m\u001b[0;36m1\u001b[0m\u001b[0;34m,\u001b[0m \u001b[0mLATENT_DIM\u001b[0m\u001b[0;34m)\u001b[0m\u001b[0;34m)\u001b[0m\u001b[0;34m\u001b[0m\u001b[0m\n\u001b[1;32m      6\u001b[0m \u001b[0mtest_gen\u001b[0m \u001b[0;34m=\u001b[0m \u001b[0mdec\u001b[0m\u001b[0;34m(\u001b[0m\u001b[0mt_i\u001b[0m\u001b[0;34m)\u001b[0m\u001b[0;34m\u001b[0m\u001b[0m\n\u001b[0;32m----> 7\u001b[0;31m \u001b[0mt_g\u001b[0m \u001b[0;34m=\u001b[0m \u001b[0mnd\u001b[0m\u001b[0;34m.\u001b[0m\u001b[0mtranspose\u001b[0m\u001b[0;34m(\u001b[0m\u001b[0mtest_gen\u001b[0m\u001b[0;34m,\u001b[0m \u001b[0;34m(\u001b[0m\u001b[0;36m0\u001b[0m\u001b[0;34m,\u001b[0m \u001b[0;36m2\u001b[0m\u001b[0;34m,\u001b[0m \u001b[0;36m3\u001b[0m\u001b[0;34m,\u001b[0m \u001b[0;36m1\u001b[0m\u001b[0;34m)\u001b[0m\u001b[0;34m)\u001b[0m\u001b[0;34m\u001b[0m\u001b[0m\n\u001b[0m\u001b[1;32m      8\u001b[0m \u001b[0mim\u001b[0m \u001b[0;34m=\u001b[0m \u001b[0mnd\u001b[0m\u001b[0;34m.\u001b[0m\u001b[0mtranspose\u001b[0m\u001b[0;34m(\u001b[0m\u001b[0mt_g\u001b[0m\u001b[0;34m,\u001b[0m\u001b[0;34m(\u001b[0m\u001b[0;36m1\u001b[0m\u001b[0;34m,\u001b[0m\u001b[0;36m0\u001b[0m\u001b[0;34m,\u001b[0m\u001b[0;36m2\u001b[0m\u001b[0;34m,\u001b[0m\u001b[0;36m3\u001b[0m\u001b[0;34m)\u001b[0m\u001b[0;34m)\u001b[0m\u001b[0;34m\u001b[0m\u001b[0m\n\u001b[1;32m      9\u001b[0m \u001b[0mim\u001b[0m \u001b[0;34m=\u001b[0m \u001b[0mnd\u001b[0m\u001b[0;34m.\u001b[0m\u001b[0mreshape\u001b[0m\u001b[0;34m(\u001b[0m\u001b[0mim\u001b[0m\u001b[0;34m,\u001b[0m\u001b[0;34m(\u001b[0m\u001b[0;36m28\u001b[0m\u001b[0;34m,\u001b[0m \u001b[0;36m28\u001b[0m\u001b[0;34m,\u001b[0m\u001b[0;36m1\u001b[0m\u001b[0;34m)\u001b[0m\u001b[0;34m)\u001b[0m\u001b[0;34m\u001b[0m\u001b[0m\n",
      "\u001b[0;32m~/anaconda3/envs/kion_venv_mxnet/lib/python3.6/site-packages/mxnet/ndarray/register.py\u001b[0m in \u001b[0;36mtranspose\u001b[0;34m(data, axes, out, name, **kwargs)\u001b[0m\n",
      "\u001b[0;32m~/anaconda3/envs/kion_venv_mxnet/lib/python3.6/site-packages/mxnet/_ctypes/ndarray.py\u001b[0m in \u001b[0;36m_imperative_invoke\u001b[0;34m(handle, ndargs, keys, vals, out)\u001b[0m\n\u001b[1;32m     90\u001b[0m         \u001b[0mc_str_array\u001b[0m\u001b[0;34m(\u001b[0m\u001b[0mkeys\u001b[0m\u001b[0;34m)\u001b[0m\u001b[0;34m,\u001b[0m\u001b[0;34m\u001b[0m\u001b[0m\n\u001b[1;32m     91\u001b[0m         \u001b[0mc_str_array\u001b[0m\u001b[0;34m(\u001b[0m\u001b[0;34m[\u001b[0m\u001b[0mstr\u001b[0m\u001b[0;34m(\u001b[0m\u001b[0ms\u001b[0m\u001b[0;34m)\u001b[0m \u001b[0;32mfor\u001b[0m \u001b[0ms\u001b[0m \u001b[0;32min\u001b[0m \u001b[0mvals\u001b[0m\u001b[0;34m]\u001b[0m\u001b[0;34m)\u001b[0m\u001b[0;34m,\u001b[0m\u001b[0;34m\u001b[0m\u001b[0m\n\u001b[0;32m---> 92\u001b[0;31m         ctypes.byref(out_stypes)))\n\u001b[0m\u001b[1;32m     93\u001b[0m \u001b[0;34m\u001b[0m\u001b[0m\n\u001b[1;32m     94\u001b[0m     \u001b[0;32mif\u001b[0m \u001b[0moriginal_output\u001b[0m \u001b[0;32mis\u001b[0m \u001b[0;32mnot\u001b[0m \u001b[0;32mNone\u001b[0m\u001b[0;34m:\u001b[0m\u001b[0;34m\u001b[0m\u001b[0m\n",
      "\u001b[0;32m~/anaconda3/envs/kion_venv_mxnet/lib/python3.6/site-packages/mxnet/base.py\u001b[0m in \u001b[0;36mcheck_call\u001b[0;34m(ret)\u001b[0m\n\u001b[1;32m    144\u001b[0m     \"\"\"\n\u001b[1;32m    145\u001b[0m     \u001b[0;32mif\u001b[0m \u001b[0mret\u001b[0m \u001b[0;34m!=\u001b[0m \u001b[0;36m0\u001b[0m\u001b[0;34m:\u001b[0m\u001b[0;34m\u001b[0m\u001b[0m\n\u001b[0;32m--> 146\u001b[0;31m         \u001b[0;32mraise\u001b[0m \u001b[0mMXNetError\u001b[0m\u001b[0;34m(\u001b[0m\u001b[0mpy_str\u001b[0m\u001b[0;34m(\u001b[0m\u001b[0m_LIB\u001b[0m\u001b[0;34m.\u001b[0m\u001b[0mMXGetLastError\u001b[0m\u001b[0;34m(\u001b[0m\u001b[0;34m)\u001b[0m\u001b[0;34m)\u001b[0m\u001b[0;34m)\u001b[0m\u001b[0;34m\u001b[0m\u001b[0m\n\u001b[0m\u001b[1;32m    147\u001b[0m \u001b[0;34m\u001b[0m\u001b[0m\n\u001b[1;32m    148\u001b[0m \u001b[0;34m\u001b[0m\u001b[0m\n",
      "\u001b[0;31mMXNetError\u001b[0m: [20:30:46] src/operator/tensor/./matrix_op-inl.h:310: Check failed: shp.ndim() == param.axes.ndim() (2 vs. 4) \n\nStack trace returned 10 entries:\n[bt] (0) /home/kionkim/anaconda3/envs/kion_venv_mxnet/lib/python3.6/site-packages/mxnet/libmxnet.so(+0x28965c) [0x7f7d75daa65c]\n[bt] (1) /home/kionkim/anaconda3/envs/kion_venv_mxnet/lib/python3.6/site-packages/mxnet/libmxnet.so(+0x226b868) [0x7f7d77d8c868]\n[bt] (2) /home/kionkim/anaconda3/envs/kion_venv_mxnet/lib/python3.6/site-packages/mxnet/libmxnet.so(+0x24d573f) [0x7f7d77ff673f]\n[bt] (3) /home/kionkim/anaconda3/envs/kion_venv_mxnet/lib/python3.6/site-packages/mxnet/libmxnet.so(+0x24c1be9) [0x7f7d77fe2be9]\n[bt] (4) /home/kionkim/anaconda3/envs/kion_venv_mxnet/lib/python3.6/site-packages/mxnet/libmxnet.so(+0x24026bb) [0x7f7d77f236bb]\n[bt] (5) /home/kionkim/anaconda3/envs/kion_venv_mxnet/lib/python3.6/site-packages/mxnet/libmxnet.so(MXImperativeInvokeEx+0x63) [0x7f7d77f23bf3]\n[bt] (6) /home/kionkim/anaconda3/envs/kion_venv_mxnet/lib/python3.6/lib-dynload/../../libffi.so.6(ffi_call_unix64+0x4c) [0x7f7daf864ec0]\n[bt] (7) /home/kionkim/anaconda3/envs/kion_venv_mxnet/lib/python3.6/lib-dynload/../../libffi.so.6(ffi_call+0x22d) [0x7f7daf86487d]\n[bt] (8) /home/kionkim/anaconda3/envs/kion_venv_mxnet/lib/python3.6/lib-dynload/_ctypes.cpython-36m-x86_64-linux-gnu.so(_ctypes_callproc+0x2ce) [0x7f7dafa7982e]\n[bt] (9) /home/kionkim/anaconda3/envs/kion_venv_mxnet/lib/python3.6/lib-dynload/_ctypes.cpython-36m-x86_64-linux-gnu.so(+0x12265) [0x7f7dafa7a265]\n"
     ]
    }
   ],
   "source": [
    "import matplotlib.pyplot as plt\n",
    "%matplotlib inline\n",
    "\n",
    "test_input = nd.random_normal(loc = 0,scale = 2,shape= LATENT_DIM, ctx = gpu_ctx)\n",
    "t_i = test_input.reshape((-1, LATENT_DIM))\n",
    "test_gen = dec(t_i)\n",
    "t_g = nd.transpose(test_gen, (0, 2, 3, 1))\n",
    "im = nd.transpose(t_g,(1,0,2,3))\n",
    "im = nd.reshape(im,(28, 28,1))\n",
    "imtiles = nd.tile(im, (1,1,3))\n",
    "plt.imshow(imtiles.asnumpy())\n",
    "plt.show()"
   ]
  },
  {
   "cell_type": "code",
   "execution_count": 28,
   "metadata": {
    "ExecuteTime": {
     "end_time": "2018-01-14T03:55:08.487869Z",
     "start_time": "2018-01-14T03:55:08.457055Z"
    }
   },
   "outputs": [
    {
     "data": {
      "text/plain": [
       "\n",
       "[[[[ 0.50028056  0.50006336  0.50001007  0.50009346  0.49996209  0.50000113\n",
       "     0.49992168  0.49999869  0.50012594  0.50015461  0.49982446  0.49991751\n",
       "     0.50012875  0.49998283  0.500054    0.50003207  0.49995345  0.50020087\n",
       "     0.50006247  0.50009751  0.50001132  0.50002122  0.50020128  0.50011408\n",
       "     0.50015682  0.50007886  0.50016648  0.49989346]\n",
       "   [ 0.50011837  0.50011653  0.50027168  0.50032485  0.50028926  0.50001252\n",
       "     0.50006485  0.49996322  0.50024915  0.50002694  0.50019926  0.50000727\n",
       "     0.50022888  0.50010306  0.50001353  0.50021893  0.5002014   0.4999401\n",
       "     0.50021875  0.49995762  0.50036168  0.50027966  0.49988237  0.50007564\n",
       "     0.50023842  0.50001597  0.50022185  0.50012606]\n",
       "   [ 0.50005227  0.49979421  0.50009608  0.49971488  0.50017655  0.50009847\n",
       "     0.5001843   0.49974751  0.50009674  0.49989203  0.50011927  0.49963233\n",
       "     0.50005466  0.50025785  0.49996638  0.49961466  0.49995768  0.49970406\n",
       "     0.50039279  0.49965215  0.50003338  0.50002873  0.50033277  0.49984068\n",
       "     0.50003922  0.50007296  0.50001836  0.50009447]\n",
       "   [ 0.50006235  0.50024301  0.50039572  0.50014114  0.5001747   0.50009507\n",
       "     0.50031072  0.50009489  0.50038058  0.50032836  0.50025034  0.49987289\n",
       "     0.5002054   0.50024503  0.50007218  0.49971768  0.50036728  0.50035596\n",
       "     0.5002737   0.5001545   0.50017071  0.49999452  0.50039792  0.4998872\n",
       "     0.50003654  0.50000119  0.50017905  0.50004572]\n",
       "   [ 0.50035399  0.49978521  0.50010669  0.49967     0.50016695  0.50026405\n",
       "     0.50000536  0.49977717  0.49997258  0.49985364  0.49966767  0.49981576\n",
       "     0.50025159  0.50033194  0.50000763  0.49978957  0.50039321  0.50019783\n",
       "     0.49979433  0.49988738  0.50003093  0.49996573  0.50000042  0.49989006\n",
       "     0.5002355   0.4999727   0.50026888  0.49990788]\n",
       "   [ 0.50019675  0.50040197  0.49979851  0.50036258  0.50006616  0.50013363\n",
       "     0.50007373  0.50038266  0.50041044  0.50033748  0.50030917  0.50017381\n",
       "     0.50031871  0.50029504  0.50005448  0.50014824  0.5003081   0.50015718\n",
       "     0.50002432  0.50027078  0.50036895  0.49999166  0.49993145  0.49994415\n",
       "     0.50019068  0.50008613  0.50003618  0.49988869]\n",
       "   [ 0.50018346  0.50012612  0.49985054  0.49969238  0.50020897  0.50021923\n",
       "     0.50011861  0.49980813  0.49997497  0.49985841  0.5002116   0.4996669\n",
       "     0.50000983  0.50023609  0.50026655  0.49977306  0.49985138  0.50005573\n",
       "     0.499773    0.50001538  0.50004745  0.50005293  0.50025797  0.4996556\n",
       "     0.50000668  0.49993932  0.50001436  0.49991876]\n",
       "   [ 0.50018996  0.50005788  0.50002223  0.49977943  0.50020593  0.50002736\n",
       "     0.50025594  0.49970752  0.50019783  0.5001139   0.50021523  0.49981236\n",
       "     0.50040513  0.50006032  0.50033057  0.49989513  0.50051111  0.50011045\n",
       "     0.50033569  0.50016826  0.50034618  0.50013578  0.50023454  0.50031805\n",
       "     0.50020921  0.49990466  0.50003994  0.49998307]\n",
       "   [ 0.50017321  0.49986604  0.49991906  0.49988917  0.50010717  0.50003129\n",
       "     0.49987599  0.49971864  0.50035053  0.50028372  0.49962619  0.49998248\n",
       "     0.50049549  0.50004745  0.49987808  0.49982023  0.50004154  0.4999401\n",
       "     0.49980101  0.49972484  0.50017738  0.50002152  0.50001615  0.50001502\n",
       "     0.50006276  0.5001356   0.50021476  0.49993134]\n",
       "   [ 0.50025171  0.50022322  0.49991691  0.49996209  0.50048506  0.4999373\n",
       "     0.49989608  0.50006378  0.50040507  0.50029755  0.50020355  0.50043476\n",
       "     0.50050306  0.50018543  0.50009644  0.50031614  0.50057334  0.50025719\n",
       "     0.49977848  0.50003028  0.50022233  0.50012809  0.50029474  0.50017613\n",
       "     0.50012463  0.50015801  0.50022602  0.5000295 ]\n",
       "   [ 0.50010556  0.49986389  0.50027978  0.49960211  0.50017583  0.500256\n",
       "     0.50022328  0.49952975  0.49991775  0.50019056  0.50048727  0.49969709\n",
       "     0.500251    0.50020295  0.50012809  0.49995887  0.49980095  0.49982005\n",
       "     0.49997473  0.49989483  0.50000286  0.49993825  0.5002284   0.49977896\n",
       "     0.49995488  0.50021595  0.50019491  0.49984336]\n",
       "   [ 0.50032407  0.5000363   0.50023729  0.49999714  0.50032514  0.50029403\n",
       "     0.50027817  0.50003952  0.50024414  0.50016147  0.50034094  0.49984103\n",
       "     0.50049222  0.50026494  0.50040555  0.5001086   0.50036132  0.50031096\n",
       "     0.50044382  0.50015795  0.50053596  0.49991301  0.50037134  0.49988833\n",
       "     0.5001424   0.50003606  0.49991947  0.49995321]\n",
       "   [ 0.50037849  0.50011581  0.49978456  0.49954414  0.50036067  0.50011635\n",
       "     0.49979672  0.49971536  0.50040281  0.50014436  0.49971306  0.49982554\n",
       "     0.49996972  0.50032401  0.50012833  0.49983436  0.5003401   0.50004923\n",
       "     0.50035846  0.49979338  0.50035131  0.50005656  0.50008529  0.50000024\n",
       "     0.5002988   0.50000399  0.50022584  0.49985364]\n",
       "   [ 0.5002296   0.50028121  0.50027746  0.5002569   0.50052798  0.5000819\n",
       "     0.50017762  0.50018156  0.50036877  0.5001601   0.50020903  0.50039911\n",
       "     0.50070375  0.4999702   0.49993777  0.50038427  0.50030226  0.50029171\n",
       "     0.5002948   0.50004089  0.50017893  0.50003332  0.49972215  0.49999523\n",
       "     0.5003373   0.50012177  0.50007975  0.50010288]\n",
       "   [ 0.50017077  0.49989358  0.50017917  0.49940848  0.49976504  0.5002529\n",
       "     0.50011498  0.49972454  0.5000385   0.49997938  0.50016797  0.49958372\n",
       "     0.49980387  0.50011593  0.50005275  0.49965501  0.49996305  0.50020838\n",
       "     0.49979576  0.49982673  0.49998939  0.49969244  0.50044239  0.49982446\n",
       "     0.5001418   0.5001083   0.49986246  0.49997413]\n",
       "   [ 0.5004921   0.50025403  0.50049543  0.49980626  0.50047731  0.50036162\n",
       "     0.50028199  0.49996138  0.50035888  0.49988857  0.50032908  0.5000726\n",
       "     0.50029331  0.50029844  0.50031483  0.49971288  0.50038111  0.50011361\n",
       "     0.50000077  0.50028247  0.50042313  0.50027555  0.50030667  0.50001413\n",
       "     0.50023955  0.50001258  0.49995172  0.50000334]\n",
       "   [ 0.50035584  0.49989805  0.49980333  0.50005507  0.50008088  0.49979743\n",
       "     0.50003427  0.49965924  0.50019073  0.49997246  0.49965113  0.49964517\n",
       "     0.50034821  0.50001013  0.49994993  0.49970824  0.49986979  0.50008625\n",
       "     0.49994063  0.49976331  0.49996233  0.50025403  0.49992454  0.49991307\n",
       "     0.50023347  0.50002986  0.50027704  0.49992681]\n",
       "   [ 0.50011176  0.50025064  0.50014442  0.50010031  0.50040567  0.49992037\n",
       "     0.50010133  0.50001287  0.50042301  0.50014609  0.50013649  0.50025767\n",
       "     0.50041741  0.50008893  0.50021845  0.50018102  0.50037289  0.49986508\n",
       "     0.50027651  0.50004303  0.50049603  0.50037444  0.50019026  0.50008291\n",
       "     0.50011927  0.50011581  0.50009286  0.49999487]\n",
       "   [ 0.50011963  0.49985614  0.50018674  0.49967846  0.50008255  0.50004506\n",
       "     0.49992478  0.49961156  0.50004214  0.49996066  0.49993217  0.49994445\n",
       "     0.50020617  0.50005376  0.50043476  0.4997074   0.50030178  0.50023341\n",
       "     0.50025368  0.49978933  0.5001148   0.50000584  0.49968812  0.49985996\n",
       "     0.50007248  0.49999821  0.50006729  0.49984998]\n",
       "   [ 0.50030112  0.50002408  0.50032961  0.50003803  0.50059366  0.50015354\n",
       "     0.50021493  0.49982023  0.50020659  0.50031561  0.50052238  0.49974847\n",
       "     0.50024247  0.50020832  0.50036621  0.49974549  0.50042665  0.49998784\n",
       "     0.50024658  0.49979487  0.50037271  0.49997103  0.50032759  0.49996984\n",
       "     0.50025231  0.5001871   0.5000686   0.49999356]\n",
       "   [ 0.50028354  0.50001067  0.49983245  0.49969244  0.50012887  0.4997212\n",
       "     0.49986419  0.49982899  0.50035673  0.49993157  0.49985883  0.49955288\n",
       "     0.50024426  0.50007153  0.49971655  0.49978319  0.49988714  0.50010395\n",
       "     0.50007492  0.49999475  0.50043988  0.49989691  0.50043017  0.4997701\n",
       "     0.50004888  0.50013047  0.50002331  0.49990162]\n",
       "   [ 0.4999665   0.50018448  0.5001182   0.50025463  0.50026608  0.50016195\n",
       "     0.49977329  0.49994624  0.50050724  0.50019854  0.49991906  0.50029844\n",
       "     0.50002545  0.49998677  0.5000518   0.50056815  0.50039989  0.50032091\n",
       "     0.49969262  0.50004357  0.5002889   0.5003103   0.49994302  0.50020474\n",
       "     0.50001484  0.50001937  0.50007647  0.5001148 ]\n",
       "   [ 0.50025064  0.50009352  0.50008118  0.49980718  0.49999261  0.50001997\n",
       "     0.50039357  0.499695    0.49988499  0.50016707  0.50004423  0.49976999\n",
       "     0.49991584  0.49993312  0.50027519  0.49957782  0.50008935  0.50015932\n",
       "     0.50030982  0.49995947  0.49999148  0.5001753   0.50018042  0.49991411\n",
       "     0.50010955  0.50004625  0.50029117  0.49996722]\n",
       "   [ 0.50035924  0.50012851  0.5001564   0.49982989  0.5003624   0.5000881\n",
       "     0.50045723  0.49996817  0.5002619   0.50026315  0.50028193  0.50011438\n",
       "     0.50006968  0.50025481  0.50030822  0.49988964  0.50024152  0.50009036\n",
       "     0.50030065  0.50000876  0.50052035  0.50014597  0.5003314   0.49991977\n",
       "     0.50016528  0.5000968   0.49995005  0.49995875]\n",
       "   [ 0.50019938  0.50014281  0.50010377  0.49987021  0.50021881  0.49992108\n",
       "     0.50006944  0.49988189  0.49993455  0.49988082  0.49989453  0.49991181\n",
       "     0.50003952  0.50017577  0.49968234  0.49967286  0.50009269  0.49980518\n",
       "     0.5001691   0.50001276  0.50042057  0.50010079  0.50002486  0.49990228\n",
       "     0.50001448  0.49998522  0.50003862  0.49982089]\n",
       "   [ 0.50009346  0.50028682  0.5002405   0.50019217  0.50018293  0.50007784\n",
       "     0.50012064  0.50011951  0.50011647  0.50015646  0.50012511  0.50012702\n",
       "     0.5001452   0.50009775  0.49995852  0.50019079  0.50017941  0.50023407\n",
       "     0.49982029  0.50013846  0.50007874  0.50010276  0.49995488  0.50012392\n",
       "     0.50020355  0.50011492  0.50006187  0.50004864]\n",
       "   [ 0.50007737  0.50001484  0.50025773  0.50002939  0.50027972  0.50012141\n",
       "     0.50013632  0.49985901  0.50002795  0.50004023  0.50003076  0.49981493\n",
       "     0.50007468  0.50019717  0.50008726  0.49985912  0.50010055  0.50010997\n",
       "     0.50004917  0.49994463  0.49986604  0.50011426  0.50012112  0.49999541\n",
       "     0.50007951  0.50010449  0.5000599   0.49997675]\n",
       "   [ 0.50001067  0.50013065  0.50006884  0.50005811  0.50010043  0.50003809\n",
       "     0.50012589  0.50006115  0.49993908  0.5001139   0.50005239  0.50004423\n",
       "     0.50010389  0.50015306  0.50014484  0.50003392  0.50013071  0.500175\n",
       "     0.50017041  0.50003874  0.49993378  0.50002271  0.49997938  0.49998343\n",
       "     0.49999565  0.50011665  0.49998403  0.50004673]]]]\n",
       "<NDArray 1x1x28x28 @gpu(0)>"
      ]
     },
     "execution_count": 28,
     "metadata": {},
     "output_type": "execute_result"
    }
   ],
   "source": [
    "test_gen"
   ]
  },
  {
   "cell_type": "code",
   "execution_count": null,
   "metadata": {
    "ExecuteTime": {
     "start_time": "2018-01-14T02:19:39.997Z"
    },
    "collapsed": true
   },
   "outputs": [],
   "source": [
    "import matplotlib.pyplot as plt\n",
    "%matplotlib inline\n",
    "\n",
    "def model_predict(net,data):\n",
    "    output = dec(data.as_in_context(model_ctx))\n",
    "    return nd.argmax(output, axis=1)\n",
    "\n",
    "NUM_EXAMPLES = 10\n",
    "# let's sample 10 random data points from the test set\n",
    "sample_data = mx.gluon.data.DataLoader(mx.gluon.data.vision.MNIST(train=False, transform=transform),\n",
    "                              NUM_EXAMPLES, shuffle=True)\n",
    "\n",
    "for i, (data, label) in enumerate(sample_data):\n",
    "    data = data.as_in_context(gpu_ctx)\n",
    "    data_t = nd.transpose(data, (0, 2, 3, 1))\n",
    "    im1 = nd.transpose(data,(1, 0, 2, 3))\n",
    "    im1 = nd.reshape(im1,(28, NUM_EXAMPLES * 28,1))\n",
    "    imtiles1 = nd.tile(im1, (1,1,3))\n",
    "    \n",
    "    gen, _, _ = vae(data)\n",
    "    gen_t = nd.transpose(gen, (0, 2, 3, 1))\n",
    "    im2 = nd.transpose(gen_t,(1, 0, 2, 3))\n",
    "    im2 = nd.reshape(im2,(28, NUM_EXAMPLES * 28, 1))\n",
    "    imtiles2 = nd.tile(im2, (1,1,3))\n",
    "    \n",
    "    f, (plt1, plt2) = plt.subplots(2, 1)\n",
    "    plt1.imshow(imtiles1.asnumpy())\n",
    "    plt2.imshow(imtiles2.asnumpy())\n",
    "    f.show()\n",
    "    #pred=model_predict(net,data.reshape((-1,784)))\n",
    "    #print('model predictions are:', pred)\n",
    "    break"
   ]
  },
  {
   "cell_type": "code",
   "execution_count": null,
   "metadata": {
    "collapsed": true
   },
   "outputs": [],
   "source": []
  }
 ],
 "metadata": {
  "anaconda-cloud": {},
  "kernelspec": {
   "display_name": "Python [conda env:kion_venv_mxnet]",
   "language": "python",
   "name": "conda-env-kion_venv_mxnet-py"
  },
  "language_info": {
   "codemirror_mode": {
    "name": "ipython",
    "version": 3
   },
   "file_extension": ".py",
   "mimetype": "text/x-python",
   "name": "python",
   "nbconvert_exporter": "python",
   "pygments_lexer": "ipython3",
   "version": "3.6.3"
  },
  "toc": {
   "nav_menu": {},
   "number_sections": true,
   "sideBar": true,
   "skip_h1_title": false,
   "toc_cell": false,
   "toc_position": {},
   "toc_section_display": "block",
   "toc_window_display": false
  }
 },
 "nbformat": 4,
 "nbformat_minor": 2
}
