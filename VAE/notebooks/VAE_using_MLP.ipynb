{
 "cells": [
  {
   "cell_type": "code",
   "execution_count": 1,
   "metadata": {
    "ExecuteTime": {
     "end_time": "2018-01-16T02:59:14.220126Z",
     "start_time": "2018-01-16T02:59:12.278047Z"
    }
   },
   "outputs": [
    {
     "data": {
      "text/html": [
       "\n",
       "    <div class=\"bk-root\">\n",
       "        <a href=\"https://bokeh.pydata.org\" target=\"_blank\" class=\"bk-logo bk-logo-small bk-logo-notebook\"></a>\n",
       "        <span id=\"39eadddb-f075-4a20-8be1-b4ef320030e1\">Loading BokehJS ...</span>\n",
       "    </div>"
      ]
     },
     "metadata": {},
     "output_type": "display_data"
    },
    {
     "data": {
      "application/javascript": [
       "\n",
       "(function(root) {\n",
       "  function now() {\n",
       "    return new Date();\n",
       "  }\n",
       "\n",
       "  var force = true;\n",
       "\n",
       "  if (typeof (root._bokeh_onload_callbacks) === \"undefined\" || force === true) {\n",
       "    root._bokeh_onload_callbacks = [];\n",
       "    root._bokeh_is_loading = undefined;\n",
       "  }\n",
       "\n",
       "  var JS_MIME_TYPE = 'application/javascript';\n",
       "  var HTML_MIME_TYPE = 'text/html';\n",
       "  var EXEC_MIME_TYPE = 'application/vnd.bokehjs_exec.v0+json';\n",
       "  var CLASS_NAME = 'output_bokeh rendered_html';\n",
       "\n",
       "  /**\n",
       "   * Render data to the DOM node\n",
       "   */\n",
       "  function render(props, node) {\n",
       "    var script = document.createElement(\"script\");\n",
       "    node.appendChild(script);\n",
       "  }\n",
       "\n",
       "  /**\n",
       "   * Handle when an output is cleared or removed\n",
       "   */\n",
       "  function handleClearOutput(event, handle) {\n",
       "    var cell = handle.cell;\n",
       "\n",
       "    var id = cell.output_area._bokeh_element_id;\n",
       "    var server_id = cell.output_area._bokeh_server_id;\n",
       "    // Clean up Bokeh references\n",
       "    if (id !== undefined) {\n",
       "      Bokeh.index[id].model.document.clear();\n",
       "      delete Bokeh.index[id];\n",
       "    }\n",
       "\n",
       "    if (server_id !== undefined) {\n",
       "      // Clean up Bokeh references\n",
       "      var cmd = \"from bokeh.io.state import curstate; print(curstate().uuid_to_server['\" + server_id + \"'].get_sessions()[0].document.roots[0]._id)\";\n",
       "      cell.notebook.kernel.execute(cmd, {\n",
       "        iopub: {\n",
       "          output: function(msg) {\n",
       "            var element_id = msg.content.text.trim();\n",
       "            Bokeh.index[element_id].model.document.clear();\n",
       "            delete Bokeh.index[element_id];\n",
       "          }\n",
       "        }\n",
       "      });\n",
       "      // Destroy server and session\n",
       "      var cmd = \"import bokeh.io.notebook as ion; ion.destroy_server('\" + server_id + \"')\";\n",
       "      cell.notebook.kernel.execute(cmd);\n",
       "    }\n",
       "  }\n",
       "\n",
       "  /**\n",
       "   * Handle when a new output is added\n",
       "   */\n",
       "  function handleAddOutput(event, handle) {\n",
       "    var output_area = handle.output_area;\n",
       "    var output = handle.output;\n",
       "\n",
       "    // limit handleAddOutput to display_data with EXEC_MIME_TYPE content only\n",
       "    if ((output.output_type != \"display_data\") || (!output.data.hasOwnProperty(EXEC_MIME_TYPE))) {\n",
       "      return\n",
       "    }\n",
       "\n",
       "    var toinsert = output_area.element.find(`.${CLASS_NAME.split(' ')[0]}`);\n",
       "\n",
       "    if (output.metadata[EXEC_MIME_TYPE][\"id\"] !== undefined) {\n",
       "      toinsert[0].firstChild.textContent = output.data[JS_MIME_TYPE];\n",
       "      // store reference to embed id on output_area\n",
       "      output_area._bokeh_element_id = output.metadata[EXEC_MIME_TYPE][\"id\"];\n",
       "    }\n",
       "    if (output.metadata[EXEC_MIME_TYPE][\"server_id\"] !== undefined) {\n",
       "      var bk_div = document.createElement(\"div\");\n",
       "      bk_div.innerHTML = output.data[HTML_MIME_TYPE];\n",
       "      var script_attrs = bk_div.children[0].attributes;\n",
       "      for (var i = 0; i < script_attrs.length; i++) {\n",
       "        toinsert[0].firstChild.setAttribute(script_attrs[i].name, script_attrs[i].value);\n",
       "      }\n",
       "      // store reference to server id on output_area\n",
       "      output_area._bokeh_server_id = output.metadata[EXEC_MIME_TYPE][\"server_id\"];\n",
       "    }\n",
       "  }\n",
       "\n",
       "  function register_renderer(events, OutputArea) {\n",
       "\n",
       "    function append_mime(data, metadata, element) {\n",
       "      // create a DOM node to render to\n",
       "      var toinsert = this.create_output_subarea(\n",
       "        metadata,\n",
       "        CLASS_NAME,\n",
       "        EXEC_MIME_TYPE\n",
       "      );\n",
       "      this.keyboard_manager.register_events(toinsert);\n",
       "      // Render to node\n",
       "      var props = {data: data, metadata: metadata[EXEC_MIME_TYPE]};\n",
       "      render(props, toinsert[0]);\n",
       "      element.append(toinsert);\n",
       "      return toinsert\n",
       "    }\n",
       "\n",
       "    /* Handle when an output is cleared or removed */\n",
       "    events.on('clear_output.CodeCell', handleClearOutput);\n",
       "    events.on('delete.Cell', handleClearOutput);\n",
       "\n",
       "    /* Handle when a new output is added */\n",
       "    events.on('output_added.OutputArea', handleAddOutput);\n",
       "\n",
       "    /**\n",
       "     * Register the mime type and append_mime function with output_area\n",
       "     */\n",
       "    OutputArea.prototype.register_mime_type(EXEC_MIME_TYPE, append_mime, {\n",
       "      /* Is output safe? */\n",
       "      safe: true,\n",
       "      /* Index of renderer in `output_area.display_order` */\n",
       "      index: 0\n",
       "    });\n",
       "  }\n",
       "\n",
       "  // register the mime type if in Jupyter Notebook environment and previously unregistered\n",
       "  if (root.Jupyter !== undefined) {\n",
       "    var events = require('base/js/events');\n",
       "    var OutputArea = require('notebook/js/outputarea').OutputArea;\n",
       "\n",
       "    if (OutputArea.prototype.mime_types().indexOf(EXEC_MIME_TYPE) == -1) {\n",
       "      register_renderer(events, OutputArea);\n",
       "    }\n",
       "  }\n",
       "\n",
       "  \n",
       "  if (typeof (root._bokeh_timeout) === \"undefined\" || force === true) {\n",
       "    root._bokeh_timeout = Date.now() + 5000;\n",
       "    root._bokeh_failed_load = false;\n",
       "  }\n",
       "\n",
       "  var NB_LOAD_WARNING = {'data': {'text/html':\n",
       "     \"<div style='background-color: #fdd'>\\n\"+\n",
       "     \"<p>\\n\"+\n",
       "     \"BokehJS does not appear to have successfully loaded. If loading BokehJS from CDN, this \\n\"+\n",
       "     \"may be due to a slow or bad network connection. Possible fixes:\\n\"+\n",
       "     \"</p>\\n\"+\n",
       "     \"<ul>\\n\"+\n",
       "     \"<li>re-rerun `output_notebook()` to attempt to load from CDN again, or</li>\\n\"+\n",
       "     \"<li>use INLINE resources instead, as so:</li>\\n\"+\n",
       "     \"</ul>\\n\"+\n",
       "     \"<code>\\n\"+\n",
       "     \"from bokeh.resources import INLINE\\n\"+\n",
       "     \"output_notebook(resources=INLINE)\\n\"+\n",
       "     \"</code>\\n\"+\n",
       "     \"</div>\"}};\n",
       "\n",
       "  function display_loaded() {\n",
       "    var el = document.getElementById(\"39eadddb-f075-4a20-8be1-b4ef320030e1\");\n",
       "    if (el != null) {\n",
       "      el.textContent = \"BokehJS is loading...\";\n",
       "    }\n",
       "    if (root.Bokeh !== undefined) {\n",
       "      if (el != null) {\n",
       "        el.textContent = \"BokehJS \" + root.Bokeh.version + \" successfully loaded.\";\n",
       "      }\n",
       "    } else if (Date.now() < root._bokeh_timeout) {\n",
       "      setTimeout(display_loaded, 100)\n",
       "    }\n",
       "  }\n",
       "\n",
       "\n",
       "  function run_callbacks() {\n",
       "    try {\n",
       "      root._bokeh_onload_callbacks.forEach(function(callback) { callback() });\n",
       "    }\n",
       "    finally {\n",
       "      delete root._bokeh_onload_callbacks\n",
       "    }\n",
       "    console.info(\"Bokeh: all callbacks have finished\");\n",
       "  }\n",
       "\n",
       "  function load_libs(js_urls, callback) {\n",
       "    root._bokeh_onload_callbacks.push(callback);\n",
       "    if (root._bokeh_is_loading > 0) {\n",
       "      console.log(\"Bokeh: BokehJS is being loaded, scheduling callback at\", now());\n",
       "      return null;\n",
       "    }\n",
       "    if (js_urls == null || js_urls.length === 0) {\n",
       "      run_callbacks();\n",
       "      return null;\n",
       "    }\n",
       "    console.log(\"Bokeh: BokehJS not loaded, scheduling load and callback at\", now());\n",
       "    root._bokeh_is_loading = js_urls.length;\n",
       "    for (var i = 0; i < js_urls.length; i++) {\n",
       "      var url = js_urls[i];\n",
       "      var s = document.createElement('script');\n",
       "      s.src = url;\n",
       "      s.async = false;\n",
       "      s.onreadystatechange = s.onload = function() {\n",
       "        root._bokeh_is_loading--;\n",
       "        if (root._bokeh_is_loading === 0) {\n",
       "          console.log(\"Bokeh: all BokehJS libraries loaded\");\n",
       "          run_callbacks()\n",
       "        }\n",
       "      };\n",
       "      s.onerror = function() {\n",
       "        console.warn(\"failed to load library \" + url);\n",
       "      };\n",
       "      console.log(\"Bokeh: injecting script tag for BokehJS library: \", url);\n",
       "      document.getElementsByTagName(\"head\")[0].appendChild(s);\n",
       "    }\n",
       "  };var element = document.getElementById(\"39eadddb-f075-4a20-8be1-b4ef320030e1\");\n",
       "  if (element == null) {\n",
       "    console.log(\"Bokeh: ERROR: autoload.js configured with elementid '39eadddb-f075-4a20-8be1-b4ef320030e1' but no matching script tag was found. \")\n",
       "    return false;\n",
       "  }\n",
       "\n",
       "  var js_urls = [\"https://cdn.pydata.org/bokeh/release/bokeh-0.12.10.min.js\", \"https://cdn.pydata.org/bokeh/release/bokeh-widgets-0.12.10.min.js\", \"https://cdn.pydata.org/bokeh/release/bokeh-tables-0.12.10.min.js\", \"https://cdn.pydata.org/bokeh/release/bokeh-gl-0.12.10.min.js\"];\n",
       "\n",
       "  var inline_js = [\n",
       "    function(Bokeh) {\n",
       "      Bokeh.set_log_level(\"info\");\n",
       "    },\n",
       "    \n",
       "    function(Bokeh) {\n",
       "      \n",
       "    },\n",
       "    function(Bokeh) {\n",
       "      console.log(\"Bokeh: injecting CSS: https://cdn.pydata.org/bokeh/release/bokeh-0.12.10.min.css\");\n",
       "      Bokeh.embed.inject_css(\"https://cdn.pydata.org/bokeh/release/bokeh-0.12.10.min.css\");\n",
       "      console.log(\"Bokeh: injecting CSS: https://cdn.pydata.org/bokeh/release/bokeh-widgets-0.12.10.min.css\");\n",
       "      Bokeh.embed.inject_css(\"https://cdn.pydata.org/bokeh/release/bokeh-widgets-0.12.10.min.css\");\n",
       "      console.log(\"Bokeh: injecting CSS: https://cdn.pydata.org/bokeh/release/bokeh-tables-0.12.10.min.css\");\n",
       "      Bokeh.embed.inject_css(\"https://cdn.pydata.org/bokeh/release/bokeh-tables-0.12.10.min.css\");\n",
       "    }\n",
       "  ];\n",
       "\n",
       "  function run_inline_js() {\n",
       "    \n",
       "    if ((root.Bokeh !== undefined) || (force === true)) {\n",
       "      for (var i = 0; i < inline_js.length; i++) {\n",
       "        inline_js[i].call(root, root.Bokeh);\n",
       "      }if (force === true) {\n",
       "        display_loaded();\n",
       "      }} else if (Date.now() < root._bokeh_timeout) {\n",
       "      setTimeout(run_inline_js, 100);\n",
       "    } else if (!root._bokeh_failed_load) {\n",
       "      console.log(\"Bokeh: BokehJS failed to load within specified timeout.\");\n",
       "      root._bokeh_failed_load = true;\n",
       "    } else if (force !== true) {\n",
       "      var cell = $(document.getElementById(\"39eadddb-f075-4a20-8be1-b4ef320030e1\")).parents('.cell').data().cell;\n",
       "      cell.output_area.append_execute_result(NB_LOAD_WARNING)\n",
       "    }\n",
       "\n",
       "  }\n",
       "\n",
       "  if (root._bokeh_is_loading === 0) {\n",
       "    console.log(\"Bokeh: BokehJS loaded, going straight to plotting\");\n",
       "    run_inline_js();\n",
       "  } else {\n",
       "    load_libs(js_urls, function() {\n",
       "      console.log(\"Bokeh: BokehJS plotting callback run at\", now());\n",
       "      run_inline_js();\n",
       "    });\n",
       "  }\n",
       "}(window));"
      ],
      "application/vnd.bokehjs_load.v0+json": "\n(function(root) {\n  function now() {\n    return new Date();\n  }\n\n  var force = true;\n\n  if (typeof (root._bokeh_onload_callbacks) === \"undefined\" || force === true) {\n    root._bokeh_onload_callbacks = [];\n    root._bokeh_is_loading = undefined;\n  }\n\n  \n\n  \n  if (typeof (root._bokeh_timeout) === \"undefined\" || force === true) {\n    root._bokeh_timeout = Date.now() + 5000;\n    root._bokeh_failed_load = false;\n  }\n\n  var NB_LOAD_WARNING = {'data': {'text/html':\n     \"<div style='background-color: #fdd'>\\n\"+\n     \"<p>\\n\"+\n     \"BokehJS does not appear to have successfully loaded. If loading BokehJS from CDN, this \\n\"+\n     \"may be due to a slow or bad network connection. Possible fixes:\\n\"+\n     \"</p>\\n\"+\n     \"<ul>\\n\"+\n     \"<li>re-rerun `output_notebook()` to attempt to load from CDN again, or</li>\\n\"+\n     \"<li>use INLINE resources instead, as so:</li>\\n\"+\n     \"</ul>\\n\"+\n     \"<code>\\n\"+\n     \"from bokeh.resources import INLINE\\n\"+\n     \"output_notebook(resources=INLINE)\\n\"+\n     \"</code>\\n\"+\n     \"</div>\"}};\n\n  function display_loaded() {\n    var el = document.getElementById(\"39eadddb-f075-4a20-8be1-b4ef320030e1\");\n    if (el != null) {\n      el.textContent = \"BokehJS is loading...\";\n    }\n    if (root.Bokeh !== undefined) {\n      if (el != null) {\n        el.textContent = \"BokehJS \" + root.Bokeh.version + \" successfully loaded.\";\n      }\n    } else if (Date.now() < root._bokeh_timeout) {\n      setTimeout(display_loaded, 100)\n    }\n  }\n\n\n  function run_callbacks() {\n    try {\n      root._bokeh_onload_callbacks.forEach(function(callback) { callback() });\n    }\n    finally {\n      delete root._bokeh_onload_callbacks\n    }\n    console.info(\"Bokeh: all callbacks have finished\");\n  }\n\n  function load_libs(js_urls, callback) {\n    root._bokeh_onload_callbacks.push(callback);\n    if (root._bokeh_is_loading > 0) {\n      console.log(\"Bokeh: BokehJS is being loaded, scheduling callback at\", now());\n      return null;\n    }\n    if (js_urls == null || js_urls.length === 0) {\n      run_callbacks();\n      return null;\n    }\n    console.log(\"Bokeh: BokehJS not loaded, scheduling load and callback at\", now());\n    root._bokeh_is_loading = js_urls.length;\n    for (var i = 0; i < js_urls.length; i++) {\n      var url = js_urls[i];\n      var s = document.createElement('script');\n      s.src = url;\n      s.async = false;\n      s.onreadystatechange = s.onload = function() {\n        root._bokeh_is_loading--;\n        if (root._bokeh_is_loading === 0) {\n          console.log(\"Bokeh: all BokehJS libraries loaded\");\n          run_callbacks()\n        }\n      };\n      s.onerror = function() {\n        console.warn(\"failed to load library \" + url);\n      };\n      console.log(\"Bokeh: injecting script tag for BokehJS library: \", url);\n      document.getElementsByTagName(\"head\")[0].appendChild(s);\n    }\n  };var element = document.getElementById(\"39eadddb-f075-4a20-8be1-b4ef320030e1\");\n  if (element == null) {\n    console.log(\"Bokeh: ERROR: autoload.js configured with elementid '39eadddb-f075-4a20-8be1-b4ef320030e1' but no matching script tag was found. \")\n    return false;\n  }\n\n  var js_urls = [\"https://cdn.pydata.org/bokeh/release/bokeh-0.12.10.min.js\", \"https://cdn.pydata.org/bokeh/release/bokeh-widgets-0.12.10.min.js\", \"https://cdn.pydata.org/bokeh/release/bokeh-tables-0.12.10.min.js\", \"https://cdn.pydata.org/bokeh/release/bokeh-gl-0.12.10.min.js\"];\n\n  var inline_js = [\n    function(Bokeh) {\n      Bokeh.set_log_level(\"info\");\n    },\n    \n    function(Bokeh) {\n      \n    },\n    function(Bokeh) {\n      console.log(\"Bokeh: injecting CSS: https://cdn.pydata.org/bokeh/release/bokeh-0.12.10.min.css\");\n      Bokeh.embed.inject_css(\"https://cdn.pydata.org/bokeh/release/bokeh-0.12.10.min.css\");\n      console.log(\"Bokeh: injecting CSS: https://cdn.pydata.org/bokeh/release/bokeh-widgets-0.12.10.min.css\");\n      Bokeh.embed.inject_css(\"https://cdn.pydata.org/bokeh/release/bokeh-widgets-0.12.10.min.css\");\n      console.log(\"Bokeh: injecting CSS: https://cdn.pydata.org/bokeh/release/bokeh-tables-0.12.10.min.css\");\n      Bokeh.embed.inject_css(\"https://cdn.pydata.org/bokeh/release/bokeh-tables-0.12.10.min.css\");\n    }\n  ];\n\n  function run_inline_js() {\n    \n    if ((root.Bokeh !== undefined) || (force === true)) {\n      for (var i = 0; i < inline_js.length; i++) {\n        inline_js[i].call(root, root.Bokeh);\n      }if (force === true) {\n        display_loaded();\n      }} else if (Date.now() < root._bokeh_timeout) {\n      setTimeout(run_inline_js, 100);\n    } else if (!root._bokeh_failed_load) {\n      console.log(\"Bokeh: BokehJS failed to load within specified timeout.\");\n      root._bokeh_failed_load = true;\n    } else if (force !== true) {\n      var cell = $(document.getElementById(\"39eadddb-f075-4a20-8be1-b4ef320030e1\")).parents('.cell').data().cell;\n      cell.output_area.append_execute_result(NB_LOAD_WARNING)\n    }\n\n  }\n\n  if (root._bokeh_is_loading === 0) {\n    console.log(\"Bokeh: BokehJS loaded, going straight to plotting\");\n    run_inline_js();\n  } else {\n    load_libs(js_urls, function() {\n      console.log(\"Bokeh: BokehJS plotting callback run at\", now());\n      run_inline_js();\n    });\n  }\n}(window));"
     },
     "metadata": {},
     "output_type": "display_data"
    }
   ],
   "source": [
    "from bokeh.plotting import figure, show\n",
    "from bokeh.io import output_notebook\n",
    "output_notebook()\n",
    "from bokeh.models import Range1d"
   ]
  },
  {
   "cell_type": "markdown",
   "metadata": {},
   "source": [
    "# VAE - MLP"
   ]
  },
  {
   "cell_type": "code",
   "execution_count": 2,
   "metadata": {
    "ExecuteTime": {
     "end_time": "2018-01-16T02:59:15.810901Z",
     "start_time": "2018-01-16T02:59:15.003832Z"
    }
   },
   "outputs": [
    {
     "name": "stderr",
     "output_type": "stream",
     "text": [
      "/home/kionkim/anaconda3/envs/kion_venv_mxnet/lib/python3.6/site-packages/urllib3/contrib/pyopenssl.py:46: DeprecationWarning: OpenSSL.rand is deprecated - you should use os.urandom instead\n",
      "  import OpenSSL.SSL\n"
     ]
    }
   ],
   "source": [
    "import mxnet as mx\n",
    "from mxnet import nd, autograd, gluon\n",
    "import numpy as np\n",
    "from tqdm import tqdm, tqdm_notebook\n",
    "\n",
    "gpu_ctx = mx.gpu(0)\n",
    "cpu_ctx = mx.cpu(0)\n",
    "mx.random.seed(1)"
   ]
  },
  {
   "cell_type": "markdown",
   "metadata": {},
   "source": [
    "# Parameters"
   ]
  },
  {
   "cell_type": "code",
   "execution_count": 3,
   "metadata": {
    "ExecuteTime": {
     "end_time": "2018-01-16T02:59:16.785468Z",
     "start_time": "2018-01-16T02:59:16.777508Z"
    },
    "collapsed": true
   },
   "outputs": [],
   "source": [
    "FILTERS = 64\n",
    "LATENT_DIM = 2\n",
    "HIDDEN_DIM = 400\n",
    "INTPUT_DIM = 28 * 28\n",
    "OUTPUT_DIM = 28 * 28\n",
    "BATCH_SIZE = 100\n",
    "IMG_CHNS = 1"
   ]
  },
  {
   "cell_type": "markdown",
   "metadata": {},
   "source": [
    "# Define functions"
   ]
  },
  {
   "cell_type": "code",
   "execution_count": 4,
   "metadata": {
    "ExecuteTime": {
     "end_time": "2018-01-16T02:59:27.708217Z",
     "start_time": "2018-01-16T02:59:27.652532Z"
    },
    "collapsed": true
   },
   "outputs": [],
   "source": [
    "def vae_loss(x, x_gen, z_mean, log_z_var):\n",
    "    x = nd.flatten(x)\n",
    "    x_gen = nd.flatten(x_gen)\n",
    "    #print('x shape = {}'.format(x.shape))\n",
    "    #print('x_gen sahpe = {}'.format(x_gen.shape))\n",
    "    # D_KL(q(z|X) || p(z))\n",
    "    kl_loss = -0.5 * nd.sum(1 + log_z_var - nd.square(z_mean) - nd.exp(log_z_var), axis = 1)\n",
    "    # E(log p(X|z))\n",
    "    log_loss = - nd.sum(x* nd.log(x_gen + 1e-6), axis=1)\n",
    "    return nd.sum(kl_loss + log_loss)\n",
    "\n",
    "def sample_z(args):\n",
    "    mean, log_var = args\n",
    "    eps = nd.random_normal(shape = mean.shape, loc = 0., scale = 1., ctx = gpu_ctx)\n",
    "    #print(eps[0:5].asnumpy())\n",
    "    #print(log_var.shape)\n",
    "    #print(mean.shape)\n",
    "    #print(eps.shape)\n",
    "    return mean + nd.exp(log_var / 2) * eps\n",
    "\n",
    "class sample_layer(gluon.Block):\n",
    "    def __init__(self, *args):\n",
    "        super(sample_layer, self).__init__(*args)\n",
    "        self.args = args\n",
    "\n",
    "    def forward(self, x):\n",
    "        return sample_z(self.args)"
   ]
  },
  {
   "cell_type": "markdown",
   "metadata": {},
   "source": [
    "# Load Dataset\n",
    "* transform 함수는 한개의 data에 대해 적용됨\n",
    "* BATCH SIZE는 무시하고 dimension 변환\n"
   ]
  },
  {
   "cell_type": "code",
   "execution_count": 5,
   "metadata": {
    "ExecuteTime": {
     "end_time": "2018-01-16T03:14:51.534136Z",
     "start_time": "2018-01-16T03:14:49.959442Z"
    },
    "collapsed": true
   },
   "outputs": [],
   "source": [
    "mnist = mx.test_utils.get_mnist()\n",
    "\n",
    "def transform(data, label):\n",
    "    #print(data.shape)\n",
    "    res = nd.transpose(data, (2, 0, 1))\n",
    "    res = res.astype(np.float32) / 255\n",
    "    return res, label\n",
    "\n",
    "# lambda data, label: (data.astype(np.float32)/255, label)\n",
    "train_data = mx.gluon.data.DataLoader( \\\n",
    "                 mx.gluon.data.vision.MNIST( \\\n",
    "                     train = True, \\\n",
    "                     transform = transform), \\\n",
    "                     BATCH_SIZE, shuffle = True)\n",
    "\n",
    "test_data = mx.gluon.data.DataLoader( \\\n",
    "                 mx.gluon.data.vision.MNIST( \\\n",
    "                     train = False, transform = transform), \\\n",
    "                     BATCH_SIZE, shuffle=False)"
   ]
  },
  {
   "cell_type": "markdown",
   "metadata": {},
   "source": [
    "# Define Encoder"
   ]
  },
  {
   "cell_type": "code",
   "execution_count": 6,
   "metadata": {
    "ExecuteTime": {
     "end_time": "2018-01-16T03:14:59.298934Z",
     "start_time": "2018-01-16T03:14:59.276092Z"
    },
    "collapsed": true
   },
   "outputs": [],
   "source": [
    "class Encoder(gluon.Block):\n",
    "    def __init__(self, filters, latent_dim, **kwarg):\n",
    "        super(Encoder, self).__init__(**kwarg)\n",
    "        with self.name_scope():\n",
    "            # in_channel: 나중에 판단\n",
    "            # layout: NCHW\n",
    "            self.dense_1 = gluon.nn.Dense(units = HIDDEN_DIM, activation = 'relu')\n",
    "            self.dense_2 = gluon.nn.Dense(units = HIDDEN_DIM, activation = 'relu')\n",
    "            self.dense_3 = gluon.nn.Dense(units = 2 * latent_dim, activation = None)\n",
    "            \n",
    "    def forward(self, x):\n",
    "        #print(\"input shape : {}\".format(x.shape))\n",
    "        x = self.dense_1(x)\n",
    "        #print(\"conv2D_1 shape : {}\".format(x.shape))\n",
    "        x = self.dense_2(x)\n",
    "        #print(\"conv2D_1 shape : {}\".format(x.shape))\n",
    "        x = self.dense_3(x)\n",
    "        return x"
   ]
  },
  {
   "cell_type": "markdown",
   "metadata": {},
   "source": [
    "## check encoder dimensions"
   ]
  },
  {
   "cell_type": "code",
   "execution_count": 7,
   "metadata": {
    "ExecuteTime": {
     "end_time": "2018-01-16T03:15:02.815431Z",
     "start_time": "2018-01-16T03:15:00.372617Z"
    }
   },
   "outputs": [
    {
     "name": "stdout",
     "output_type": "stream",
     "text": [
      "Encoder(\n",
      "  (dense_1): Dense(None -> 400, Activation(relu))\n",
      "  (dense_2): Dense(None -> 400, Activation(relu))\n",
      "  (dense_3): Dense(None -> 4, linear)\n",
      ")\n"
     ]
    },
    {
     "data": {
      "text/plain": [
       "(1, 4)"
      ]
     },
     "execution_count": 7,
     "metadata": {},
     "output_type": "execute_result"
    }
   ],
   "source": [
    "enc = Encoder(FILTERS, LATENT_DIM)\n",
    "print(enc)\n",
    "enc.collect_params().initialize(mx.init.Xavier(), ctx = gpu_ctx)\n",
    "test_input = nd.random_normal(0,1,(1, 1, 28, 28), ctx = gpu_ctx)\n",
    "enc(test_input).shape"
   ]
  },
  {
   "cell_type": "markdown",
   "metadata": {},
   "source": [
    "# Define Decoder\n",
    "* in_units는 설정하지 않음\n",
    "* 여러 block을 사용할 것이므로, name_scope를 꼭 사용"
   ]
  },
  {
   "cell_type": "code",
   "execution_count": 8,
   "metadata": {
    "ExecuteTime": {
     "end_time": "2018-01-16T03:15:04.654081Z",
     "start_time": "2018-01-16T03:15:04.627134Z"
    },
    "collapsed": true
   },
   "outputs": [],
   "source": [
    "class Decoder(gluon.Block):\n",
    "    def __init__(self, hidden_dim, output_dim, **kwargs):\n",
    "        super(Decoder, self).__init__(**kwargs)\n",
    "        with self.name_scope():\n",
    "            self.dense_1 = gluon.nn.Dense(units = hidden_dim, activation = 'relu')\n",
    "            self.dense_2 = gluon.nn.Dense(units = hidden_dim, activation = 'relu')\n",
    "            # Output을 0과 1 사이로 맞추었으므로..\n",
    "            self.dense_3 = gluon.nn.Dense(units = output_dim, activation = 'sigmoid')\n",
    "    \n",
    "    def forward(self, x):\n",
    "        x = self.dense_1(x)\n",
    "        #print('after dense1....%s'%str(x.shape))\n",
    "        x = self.dense_2(x)\n",
    "        #print('after dense2.... %s'%str(x.shape))\n",
    "        x = self.dense_3(x)\n",
    "        #print('after dense2.... %s'%str(x.shape))\n",
    "        return x"
   ]
  },
  {
   "cell_type": "markdown",
   "metadata": {},
   "source": [
    "## Check decoder dimensions\n",
    "* 4-dim으로 reshape NCHW\n",
    "* decoder의 input으로 (-1, HIDDEN_DIM)으로 변환해서 넣어주어야 함 (data.reshape(-1, HIDDEN_DIM) 이용)"
   ]
  },
  {
   "cell_type": "code",
   "execution_count": 9,
   "metadata": {
    "ExecuteTime": {
     "end_time": "2018-01-16T03:15:05.983851Z",
     "start_time": "2018-01-16T03:15:05.964191Z"
    },
    "scrolled": true
   },
   "outputs": [
    {
     "name": "stdout",
     "output_type": "stream",
     "text": [
      "Decoder(\n",
      "  (dense_1): Dense(None -> 400, Activation(relu))\n",
      "  (dense_2): Dense(None -> 400, Activation(relu))\n",
      "  (dense_3): Dense(None -> 784, Activation(sigmoid))\n",
      ")\n"
     ]
    },
    {
     "data": {
      "text/plain": [
       "(1, 784)"
      ]
     },
     "execution_count": 9,
     "metadata": {},
     "output_type": "execute_result"
    }
   ],
   "source": [
    "dec = Decoder(HIDDEN_DIM, OUTPUT_DIM)\n",
    "print(dec)\n",
    "dec.collect_params().initialize(mx.init.Xavier(magnitude=2.24), ctx = gpu_ctx)\n",
    "# Simulate dimension\n",
    "test_input = nd.random_normal(0,1,shape= LATENT_DIM, ctx = gpu_ctx)\n",
    "test_input = test_input.reshape((-1, LATENT_DIM))\n",
    "dec(test_input).shape"
   ]
  },
  {
   "cell_type": "code",
   "execution_count": 10,
   "metadata": {
    "ExecuteTime": {
     "end_time": "2018-01-16T03:15:07.478995Z",
     "start_time": "2018-01-16T03:15:07.421007Z"
    },
    "collapsed": true
   },
   "outputs": [],
   "source": [
    "# Batch size가 필요함\n",
    "# name_scope를 사용해야 함\n",
    "class VAE(gluon.Block):\n",
    "    def __init__(self, filters, latent_dim, output_dim, **kwargs):\n",
    "        super(VAE, self).__init__(**kwargs)\n",
    "        with self.name_scope():\n",
    "            self.enc = Encoder(filters, latent_dim)\n",
    "            self.dec = Decoder(filters, output_dim)\n",
    "            self.latent_dim = latent_dim\n",
    "            self.x_gen = None\n",
    "            self.z_mean = None\n",
    "            self.log_z_var = None\n",
    "            self.x_gen = None\n",
    "            \n",
    "    def forward(self, x):\n",
    "        h = self.enc(x)\n",
    "        #print('x\\'s shape after enc = {}'.format(x.shape))\n",
    "        self.z_mean = h.slice(begin = (None, 0), end = (None, self.latent_dim))\n",
    "        self.log_z_var = h.slice(begin = (None, self.latent_dim), end = (None, 2 * self.latent_dim))\n",
    "        z = sample_z([self.z_mean, self.log_z_var])\n",
    "        self.x_gen = self.dec(z)\n",
    "        #print('x_gen dim = {}'.format(x_gen.shape))\n",
    "        kl_loss = -0.5 *nd.sum(1 + self.log_z_var - nd.square(self.z_mean) - nd.exp(self.log_z_var), axis =1)\n",
    "        logloss = - nd.sum(x * nd.log(self.x_gen + 1e-6) + (1 - x) * nd.log(1 - self.x_gen + 1e-6), axis = 1)\n",
    "\n",
    "        return nd.sum(kl_loss + logloss)\n"
   ]
  },
  {
   "cell_type": "code",
   "execution_count": 11,
   "metadata": {
    "ExecuteTime": {
     "end_time": "2018-01-16T03:15:08.710980Z",
     "start_time": "2018-01-16T03:15:08.706833Z"
    },
    "scrolled": false
   },
   "outputs": [
    {
     "name": "stdout",
     "output_type": "stream",
     "text": [
      "VAE(\n",
      "  (enc): Encoder(\n",
      "    (dense_1): Dense(None -> 400, Activation(relu))\n",
      "    (dense_2): Dense(None -> 400, Activation(relu))\n",
      "    (dense_3): Dense(None -> 4, linear)\n",
      "  )\n",
      "  (dec): Decoder(\n",
      "    (dense_1): Dense(None -> 64, Activation(relu))\n",
      "    (dense_2): Dense(None -> 64, Activation(relu))\n",
      "    (dense_3): Dense(None -> 784, Activation(sigmoid))\n",
      "  )\n",
      ")\n"
     ]
    }
   ],
   "source": [
    "vae = VAE(FILTERS, LATENT_DIM, OUTPUT_DIM)\n",
    "print(vae)"
   ]
  },
  {
   "cell_type": "markdown",
   "metadata": {},
   "source": [
    "## Check VAE dimensions"
   ]
  },
  {
   "cell_type": "code",
   "execution_count": 12,
   "metadata": {
    "ExecuteTime": {
     "end_time": "2018-01-16T03:15:10.052928Z",
     "start_time": "2018-01-16T03:15:10.019923Z"
    },
    "scrolled": true
   },
   "outputs": [
    {
     "data": {
      "text/plain": [
       "\n",
       "[ 543.26104736]\n",
       "<NDArray 1 @gpu(0)>"
      ]
     },
     "execution_count": 12,
     "metadata": {},
     "output_type": "execute_result"
    }
   ],
   "source": [
    "# Simulate dimension\n",
    "test_input = nd.random_normal(0,1,shape= (1, 28 * 28), ctx = gpu_ctx)\n",
    "vae.collect_params().initialize(mx.init.Xavier(), ctx = gpu_ctx)\n",
    "vae(test_input)"
   ]
  },
  {
   "cell_type": "markdown",
   "metadata": {},
   "source": [
    "# Define Trainer"
   ]
  },
  {
   "cell_type": "code",
   "execution_count": 13,
   "metadata": {
    "ExecuteTime": {
     "end_time": "2018-01-16T03:15:12.510189Z",
     "start_time": "2018-01-16T03:15:12.507123Z"
    },
    "collapsed": true
   },
   "outputs": [],
   "source": [
    "trainer = gluon.Trainer(vae.collect_params(), 'adam', {'learning_rate': .001})"
   ]
  },
  {
   "cell_type": "markdown",
   "metadata": {},
   "source": [
    "# Training"
   ]
  },
  {
   "cell_type": "code",
   "execution_count": 15,
   "metadata": {
    "ExecuteTime": {
     "end_time": "2018-01-16T03:17:43.205728Z",
     "start_time": "2018-01-16T03:17:29.641300Z"
    }
   },
   "outputs": [
    {
     "data": {
      "application/vnd.jupyter.widget-view+json": {
       "model_id": "c9d99f36372747b3a5feddcc72a5b3ba",
       "version_major": 2,
       "version_minor": 0
      },
      "text/plain": [
       "A Jupyter Widget"
      ]
     },
     "metadata": {},
     "output_type": "display_data"
    },
    {
     "name": "stdout",
     "output_type": "stream",
     "text": [
      "\n"
     ]
    },
    {
     "name": "stderr",
     "output_type": "stream",
     "text": [
      "Exception in thread Thread-4:\n",
      "Traceback (most recent call last):\n",
      "  File \"/home/kionkim/anaconda3/envs/kion_venv_mxnet/lib/python3.6/threading.py\", line 916, in _bootstrap_inner\n",
      "    self.run()\n",
      "  File \"/home/kionkim/anaconda3/envs/kion_venv_mxnet/lib/python3.6/site-packages/tqdm/_tqdm.py\", line 144, in run\n",
      "    for instance in self.tqdm_cls._instances:\n",
      "  File \"/home/kionkim/anaconda3/envs/kion_venv_mxnet/lib/python3.6/_weakrefset.py\", line 60, in __iter__\n",
      "    for itemref in self.data:\n",
      "RuntimeError: Set changed size during iteration\n",
      "\n"
     ]
    },
    {
     "name": "stdout",
     "output_type": "stream",
     "text": [
      "\n"
     ]
    },
    {
     "ename": "MXNetError",
     "evalue": "[12:17:43] src/imperative/imperative.cc:192: Check failed: AGInfo::IsNone(*(outputs[i])) Assigning to NDArrays that are already in a computational graph will cause undefined behavior when evaluating gradients. Please call backward first to clear the graph or do this out side of a record section. \n\nStack trace returned 10 entries:\n[bt] (0) /home/kionkim/anaconda3/envs/kion_venv_mxnet/lib/python3.6/site-packages/mxnet/libmxnet.so(+0x28965c) [0x7f165fcad65c]\n[bt] (1) /home/kionkim/anaconda3/envs/kion_venv_mxnet/lib/python3.6/site-packages/mxnet/libmxnet.so(+0x24bef3b) [0x7f1661ee2f3b]\n[bt] (2) /home/kionkim/anaconda3/envs/kion_venv_mxnet/lib/python3.6/site-packages/mxnet/libmxnet.so(+0x2402916) [0x7f1661e26916]\n[bt] (3) /home/kionkim/anaconda3/envs/kion_venv_mxnet/lib/python3.6/site-packages/mxnet/libmxnet.so(MXImperativeInvokeEx+0x63) [0x7f1661e26bf3]\n[bt] (4) /home/kionkim/anaconda3/envs/kion_venv_mxnet/lib/python3.6/lib-dynload/../../libffi.so.6(ffi_call_unix64+0x4c) [0x7f16a28ceec0]\n[bt] (5) /home/kionkim/anaconda3/envs/kion_venv_mxnet/lib/python3.6/lib-dynload/../../libffi.so.6(ffi_call+0x22d) [0x7f16a28ce87d]\n[bt] (6) /home/kionkim/anaconda3/envs/kion_venv_mxnet/lib/python3.6/lib-dynload/_ctypes.cpython-36m-x86_64-linux-gnu.so(_ctypes_callproc+0x2ce) [0x7f16a2ae382e]\n[bt] (7) /home/kionkim/anaconda3/envs/kion_venv_mxnet/lib/python3.6/lib-dynload/_ctypes.cpython-36m-x86_64-linux-gnu.so(+0x12265) [0x7f16a2ae4265]\n[bt] (8) /home/kionkim/anaconda3/envs/kion_venv_mxnet/bin/python(_PyObject_FastCallDict+0x8b) [0x56470549d54b]\n[bt] (9) /home/kionkim/anaconda3/envs/kion_venv_mxnet/bin/python(+0x19f00e) [0x56470553000e]\n",
     "output_type": "error",
     "traceback": [
      "\u001b[0;31m---------------------------------------------------------------------------\u001b[0m",
      "\u001b[0;31mMXNetError\u001b[0m                                Traceback (most recent call last)",
      "\u001b[0;32m<ipython-input-15-cdcdb153529a>\u001b[0m in \u001b[0;36m<module>\u001b[0;34m()\u001b[0m\n\u001b[1;32m      9\u001b[0m         \u001b[0mloss\u001b[0m \u001b[0;34m=\u001b[0m \u001b[0mvae\u001b[0m\u001b[0;34m(\u001b[0m\u001b[0mx\u001b[0m\u001b[0;34m)\u001b[0m\u001b[0;34m\u001b[0m\u001b[0m\n\u001b[1;32m     10\u001b[0m         \u001b[0mloss\u001b[0m\u001b[0;34m.\u001b[0m\u001b[0mbackward\u001b[0m\u001b[0;34m(\u001b[0m\u001b[0;34m)\u001b[0m\u001b[0;34m\u001b[0m\u001b[0m\n\u001b[0;32m---> 11\u001b[0;31m         \u001b[0mtrainer\u001b[0m\u001b[0;34m.\u001b[0m\u001b[0mstep\u001b[0m\u001b[0;34m(\u001b[0m\u001b[0mdata\u001b[0m\u001b[0;34m.\u001b[0m\u001b[0mshape\u001b[0m\u001b[0;34m[\u001b[0m\u001b[0;36m0\u001b[0m\u001b[0;34m]\u001b[0m\u001b[0;34m)\u001b[0m\u001b[0;34m\u001b[0m\u001b[0m\n\u001b[0m\u001b[1;32m     12\u001b[0m         \u001b[0mtqdm\u001b[0m\u001b[0;34m.\u001b[0m\u001b[0mwrite\u001b[0m\u001b[0;34m(\u001b[0m\u001b[0;34m'epoch: {}, cur_loss = {}'\u001b[0m\u001b[0;34m.\u001b[0m\u001b[0mformat\u001b[0m\u001b[0;34m(\u001b[0m\u001b[0me\u001b[0m\u001b[0;34m,\u001b[0m \u001b[0mloss\u001b[0m\u001b[0;34m.\u001b[0m\u001b[0masnumpy\u001b[0m\u001b[0;34m(\u001b[0m\u001b[0;34m)\u001b[0m\u001b[0;34m)\u001b[0m\u001b[0;34m)\u001b[0m\u001b[0;34m\u001b[0m\u001b[0m\n\u001b[1;32m     13\u001b[0m         \u001b[0mlos\u001b[0m\u001b[0;34m.\u001b[0m\u001b[0mappend\u001b[0m\u001b[0;34m(\u001b[0m\u001b[0mloss\u001b[0m\u001b[0;34m.\u001b[0m\u001b[0masnumpy\u001b[0m\u001b[0;34m(\u001b[0m\u001b[0;34m)\u001b[0m\u001b[0;34m)\u001b[0m\u001b[0;34m\u001b[0m\u001b[0m\n",
      "\u001b[0;32m~/anaconda3/envs/kion_venv_mxnet/lib/python3.6/site-packages/mxnet/gluon/trainer.py\u001b[0m in \u001b[0;36mstep\u001b[0;34m(self, batch_size, ignore_stale_grad)\u001b[0m\n\u001b[1;32m    197\u001b[0m             \u001b[0;32mfor\u001b[0m \u001b[0mupd\u001b[0m\u001b[0;34m,\u001b[0m \u001b[0marr\u001b[0m\u001b[0;34m,\u001b[0m \u001b[0mgrad\u001b[0m \u001b[0;32min\u001b[0m \u001b[0mzip\u001b[0m\u001b[0;34m(\u001b[0m\u001b[0mself\u001b[0m\u001b[0;34m.\u001b[0m\u001b[0m_updaters\u001b[0m\u001b[0;34m,\u001b[0m \u001b[0mparam\u001b[0m\u001b[0;34m.\u001b[0m\u001b[0mlist_data\u001b[0m\u001b[0;34m(\u001b[0m\u001b[0;34m)\u001b[0m\u001b[0;34m,\u001b[0m \u001b[0mparam\u001b[0m\u001b[0;34m.\u001b[0m\u001b[0mlist_grad\u001b[0m\u001b[0;34m(\u001b[0m\u001b[0;34m)\u001b[0m\u001b[0;34m)\u001b[0m\u001b[0;34m:\u001b[0m\u001b[0;34m\u001b[0m\u001b[0m\n\u001b[1;32m    198\u001b[0m                 \u001b[0;32mif\u001b[0m \u001b[0;32mnot\u001b[0m \u001b[0mignore_stale_grad\u001b[0m \u001b[0;32mor\u001b[0m \u001b[0marr\u001b[0m\u001b[0;34m.\u001b[0m\u001b[0m_fresh_grad\u001b[0m\u001b[0;34m:\u001b[0m\u001b[0;34m\u001b[0m\u001b[0m\n\u001b[0;32m--> 199\u001b[0;31m                     \u001b[0mupd\u001b[0m\u001b[0;34m(\u001b[0m\u001b[0mi\u001b[0m\u001b[0;34m,\u001b[0m \u001b[0mgrad\u001b[0m\u001b[0;34m,\u001b[0m \u001b[0marr\u001b[0m\u001b[0;34m)\u001b[0m\u001b[0;34m\u001b[0m\u001b[0m\n\u001b[0m\u001b[1;32m    200\u001b[0m                     \u001b[0marr\u001b[0m\u001b[0;34m.\u001b[0m\u001b[0m_fresh_grad\u001b[0m \u001b[0;34m=\u001b[0m \u001b[0;32mFalse\u001b[0m\u001b[0;34m\u001b[0m\u001b[0m\n\u001b[1;32m    201\u001b[0m \u001b[0;34m\u001b[0m\u001b[0m\n",
      "\u001b[0;32m~/anaconda3/envs/kion_venv_mxnet/lib/python3.6/site-packages/mxnet/optimizer.py\u001b[0m in \u001b[0;36m__call__\u001b[0;34m(self, index, grad, weight)\u001b[0m\n\u001b[1;32m   1161\u001b[0m                 \u001b[0mself\u001b[0m\u001b[0;34m.\u001b[0m\u001b[0msync_state_context\u001b[0m\u001b[0;34m(\u001b[0m\u001b[0mself\u001b[0m\u001b[0;34m.\u001b[0m\u001b[0mstates\u001b[0m\u001b[0;34m[\u001b[0m\u001b[0mindex\u001b[0m\u001b[0;34m]\u001b[0m\u001b[0;34m,\u001b[0m \u001b[0mweight\u001b[0m\u001b[0;34m.\u001b[0m\u001b[0mcontext\u001b[0m\u001b[0;34m)\u001b[0m\u001b[0;34m\u001b[0m\u001b[0m\n\u001b[1;32m   1162\u001b[0m             \u001b[0mself\u001b[0m\u001b[0;34m.\u001b[0m\u001b[0mstates_synced\u001b[0m\u001b[0;34m[\u001b[0m\u001b[0mindex\u001b[0m\u001b[0;34m]\u001b[0m \u001b[0;34m=\u001b[0m \u001b[0;32mTrue\u001b[0m\u001b[0;34m\u001b[0m\u001b[0m\n\u001b[0;32m-> 1163\u001b[0;31m         \u001b[0mself\u001b[0m\u001b[0;34m.\u001b[0m\u001b[0moptimizer\u001b[0m\u001b[0;34m.\u001b[0m\u001b[0mupdate_multi_precision\u001b[0m\u001b[0;34m(\u001b[0m\u001b[0mindex\u001b[0m\u001b[0;34m,\u001b[0m \u001b[0mweight\u001b[0m\u001b[0;34m,\u001b[0m \u001b[0mgrad\u001b[0m\u001b[0;34m,\u001b[0m \u001b[0mself\u001b[0m\u001b[0;34m.\u001b[0m\u001b[0mstates\u001b[0m\u001b[0;34m[\u001b[0m\u001b[0mindex\u001b[0m\u001b[0;34m]\u001b[0m\u001b[0;34m)\u001b[0m\u001b[0;34m\u001b[0m\u001b[0m\n\u001b[0m\u001b[1;32m   1164\u001b[0m \u001b[0;34m\u001b[0m\u001b[0m\n\u001b[1;32m   1165\u001b[0m     \u001b[0;32mdef\u001b[0m \u001b[0msync_state_context\u001b[0m\u001b[0;34m(\u001b[0m\u001b[0mself\u001b[0m\u001b[0;34m,\u001b[0m \u001b[0mstate\u001b[0m\u001b[0;34m,\u001b[0m \u001b[0mcontext\u001b[0m\u001b[0;34m)\u001b[0m\u001b[0;34m:\u001b[0m\u001b[0;34m\u001b[0m\u001b[0m\n",
      "\u001b[0;32m~/anaconda3/envs/kion_venv_mxnet/lib/python3.6/site-packages/mxnet/optimizer.py\u001b[0m in \u001b[0;36mupdate_multi_precision\u001b[0;34m(self, index, weight, grad, state)\u001b[0m\n\u001b[1;32m    273\u001b[0m             \u001b[0mcast\u001b[0m\u001b[0;34m(\u001b[0m\u001b[0mweight_master_copy\u001b[0m\u001b[0;34m,\u001b[0m \u001b[0mdtype\u001b[0m\u001b[0;34m=\u001b[0m\u001b[0mweight\u001b[0m\u001b[0;34m.\u001b[0m\u001b[0mdtype\u001b[0m\u001b[0;34m,\u001b[0m \u001b[0mout\u001b[0m\u001b[0;34m=\u001b[0m\u001b[0mweight\u001b[0m\u001b[0;34m)\u001b[0m\u001b[0;34m\u001b[0m\u001b[0m\n\u001b[1;32m    274\u001b[0m         \u001b[0;32melse\u001b[0m\u001b[0;34m:\u001b[0m\u001b[0;34m\u001b[0m\u001b[0m\n\u001b[0;32m--> 275\u001b[0;31m             \u001b[0mself\u001b[0m\u001b[0;34m.\u001b[0m\u001b[0mupdate\u001b[0m\u001b[0;34m(\u001b[0m\u001b[0mindex\u001b[0m\u001b[0;34m,\u001b[0m \u001b[0mweight\u001b[0m\u001b[0;34m,\u001b[0m \u001b[0mgrad\u001b[0m\u001b[0;34m,\u001b[0m \u001b[0mstate\u001b[0m\u001b[0;34m)\u001b[0m\u001b[0;34m\u001b[0m\u001b[0m\n\u001b[0m\u001b[1;32m    276\u001b[0m \u001b[0;34m\u001b[0m\u001b[0m\n\u001b[1;32m    277\u001b[0m     \u001b[0;32mdef\u001b[0m \u001b[0mset_learning_rate\u001b[0m\u001b[0;34m(\u001b[0m\u001b[0mself\u001b[0m\u001b[0;34m,\u001b[0m \u001b[0mlr\u001b[0m\u001b[0;34m)\u001b[0m\u001b[0;34m:\u001b[0m\u001b[0;34m\u001b[0m\u001b[0m\n",
      "\u001b[0;32m~/anaconda3/envs/kion_venv_mxnet/lib/python3.6/site-packages/mxnet/optimizer.py\u001b[0m in \u001b[0;36mupdate\u001b[0;34m(self, index, weight, grad, state)\u001b[0m\n\u001b[1;32m    735\u001b[0m         \u001b[0mmean\u001b[0m\u001b[0;34m,\u001b[0m \u001b[0mvar\u001b[0m \u001b[0;34m=\u001b[0m \u001b[0mstate\u001b[0m\u001b[0;34m\u001b[0m\u001b[0m\n\u001b[1;32m    736\u001b[0m         adam_update(weight, grad, mean, var, out=weight,\n\u001b[0;32m--> 737\u001b[0;31m                     lr=lr, wd=wd, **kwargs)\n\u001b[0m\u001b[1;32m    738\u001b[0m \u001b[0;34m\u001b[0m\u001b[0m\n\u001b[1;32m    739\u001b[0m \u001b[0;34m@\u001b[0m\u001b[0mregister\u001b[0m\u001b[0;34m\u001b[0m\u001b[0m\n",
      "\u001b[0;32m~/anaconda3/envs/kion_venv_mxnet/lib/python3.6/site-packages/mxnet/ndarray/register.py\u001b[0m in \u001b[0;36madam_update\u001b[0;34m(weight, grad, mean, var, lr, beta1, beta2, epsilon, wd, rescale_grad, clip_gradient, out, name, **kwargs)\u001b[0m\n",
      "\u001b[0;32m~/anaconda3/envs/kion_venv_mxnet/lib/python3.6/site-packages/mxnet/_ctypes/ndarray.py\u001b[0m in \u001b[0;36m_imperative_invoke\u001b[0;34m(handle, ndargs, keys, vals, out)\u001b[0m\n\u001b[1;32m     90\u001b[0m         \u001b[0mc_str_array\u001b[0m\u001b[0;34m(\u001b[0m\u001b[0mkeys\u001b[0m\u001b[0;34m)\u001b[0m\u001b[0;34m,\u001b[0m\u001b[0;34m\u001b[0m\u001b[0m\n\u001b[1;32m     91\u001b[0m         \u001b[0mc_str_array\u001b[0m\u001b[0;34m(\u001b[0m\u001b[0;34m[\u001b[0m\u001b[0mstr\u001b[0m\u001b[0;34m(\u001b[0m\u001b[0ms\u001b[0m\u001b[0;34m)\u001b[0m \u001b[0;32mfor\u001b[0m \u001b[0ms\u001b[0m \u001b[0;32min\u001b[0m \u001b[0mvals\u001b[0m\u001b[0;34m]\u001b[0m\u001b[0;34m)\u001b[0m\u001b[0;34m,\u001b[0m\u001b[0;34m\u001b[0m\u001b[0m\n\u001b[0;32m---> 92\u001b[0;31m         ctypes.byref(out_stypes)))\n\u001b[0m\u001b[1;32m     93\u001b[0m \u001b[0;34m\u001b[0m\u001b[0m\n\u001b[1;32m     94\u001b[0m     \u001b[0;32mif\u001b[0m \u001b[0moriginal_output\u001b[0m \u001b[0;32mis\u001b[0m \u001b[0;32mnot\u001b[0m \u001b[0;32mNone\u001b[0m\u001b[0;34m:\u001b[0m\u001b[0;34m\u001b[0m\u001b[0m\n",
      "\u001b[0;32m~/anaconda3/envs/kion_venv_mxnet/lib/python3.6/site-packages/mxnet/base.py\u001b[0m in \u001b[0;36mcheck_call\u001b[0;34m(ret)\u001b[0m\n\u001b[1;32m    144\u001b[0m     \"\"\"\n\u001b[1;32m    145\u001b[0m     \u001b[0;32mif\u001b[0m \u001b[0mret\u001b[0m \u001b[0;34m!=\u001b[0m \u001b[0;36m0\u001b[0m\u001b[0;34m:\u001b[0m\u001b[0;34m\u001b[0m\u001b[0m\n\u001b[0;32m--> 146\u001b[0;31m         \u001b[0;32mraise\u001b[0m \u001b[0mMXNetError\u001b[0m\u001b[0;34m(\u001b[0m\u001b[0mpy_str\u001b[0m\u001b[0;34m(\u001b[0m\u001b[0m_LIB\u001b[0m\u001b[0;34m.\u001b[0m\u001b[0mMXGetLastError\u001b[0m\u001b[0;34m(\u001b[0m\u001b[0;34m)\u001b[0m\u001b[0;34m)\u001b[0m\u001b[0;34m)\u001b[0m\u001b[0;34m\u001b[0m\u001b[0m\n\u001b[0m\u001b[1;32m    147\u001b[0m \u001b[0;34m\u001b[0m\u001b[0m\n\u001b[1;32m    148\u001b[0m \u001b[0;34m\u001b[0m\u001b[0m\n",
      "\u001b[0;31mMXNetError\u001b[0m: [12:17:43] src/imperative/imperative.cc:192: Check failed: AGInfo::IsNone(*(outputs[i])) Assigning to NDArrays that are already in a computational graph will cause undefined behavior when evaluating gradients. Please call backward first to clear the graph or do this out side of a record section. \n\nStack trace returned 10 entries:\n[bt] (0) /home/kionkim/anaconda3/envs/kion_venv_mxnet/lib/python3.6/site-packages/mxnet/libmxnet.so(+0x28965c) [0x7f165fcad65c]\n[bt] (1) /home/kionkim/anaconda3/envs/kion_venv_mxnet/lib/python3.6/site-packages/mxnet/libmxnet.so(+0x24bef3b) [0x7f1661ee2f3b]\n[bt] (2) /home/kionkim/anaconda3/envs/kion_venv_mxnet/lib/python3.6/site-packages/mxnet/libmxnet.so(+0x2402916) [0x7f1661e26916]\n[bt] (3) /home/kionkim/anaconda3/envs/kion_venv_mxnet/lib/python3.6/site-packages/mxnet/libmxnet.so(MXImperativeInvokeEx+0x63) [0x7f1661e26bf3]\n[bt] (4) /home/kionkim/anaconda3/envs/kion_venv_mxnet/lib/python3.6/lib-dynload/../../libffi.so.6(ffi_call_unix64+0x4c) [0x7f16a28ceec0]\n[bt] (5) /home/kionkim/anaconda3/envs/kion_venv_mxnet/lib/python3.6/lib-dynload/../../libffi.so.6(ffi_call+0x22d) [0x7f16a28ce87d]\n[bt] (6) /home/kionkim/anaconda3/envs/kion_venv_mxnet/lib/python3.6/lib-dynload/_ctypes.cpython-36m-x86_64-linux-gnu.so(_ctypes_callproc+0x2ce) [0x7f16a2ae382e]\n[bt] (7) /home/kionkim/anaconda3/envs/kion_venv_mxnet/lib/python3.6/lib-dynload/_ctypes.cpython-36m-x86_64-linux-gnu.so(+0x12265) [0x7f16a2ae4265]\n[bt] (8) /home/kionkim/anaconda3/envs/kion_venv_mxnet/bin/python(_PyObject_FastCallDict+0x8b) [0x56470549d54b]\n[bt] (9) /home/kionkim/anaconda3/envs/kion_venv_mxnet/bin/python(+0x19f00e) [0x56470553000e]\n"
     ]
    }
   ],
   "source": [
    "EPOCHS = 50\n",
    "\n",
    "los = []\n",
    "for e in tqdm_notebook(range(EPOCHS), desc='epochs'):\n",
    "    for i, (data, label) in enumerate(train_data):\n",
    "        x = data.as_in_context(gpu_ctx).reshape((-1, 28 * 28))\n",
    "        \n",
    "    with autograd.record():\n",
    "        loss = vae(x)\n",
    "        loss.backward()\n",
    "        trainer.step(data.shape[0])\n",
    "        tqdm.write('epoch: {}, cur_loss = {}'.format(e, loss.asnumpy()))\n",
    "        los.append(loss.asnumpy())"
   ]
  },
  {
   "cell_type": "markdown",
   "metadata": {},
   "source": [
    "## Save model"
   ]
  },
  {
   "cell_type": "code",
   "execution_count": 17,
   "metadata": {
    "ExecuteTime": {
     "end_time": "2018-01-15T23:35:41.669597Z",
     "start_time": "2018-01-15T23:35:41.649605Z"
    },
    "collapsed": true
   },
   "outputs": [],
   "source": [
    "# Path to save parameters\n",
    "model_prefix = 'vae_gluon.params'\n",
    "vae.save_params(model_prefix)"
   ]
  },
  {
   "cell_type": "markdown",
   "metadata": {},
   "source": [
    "# Predict"
   ]
  },
  {
   "cell_type": "markdown",
   "metadata": {},
   "source": [
    "## Load model"
   ]
  },
  {
   "cell_type": "code",
   "execution_count": 18,
   "metadata": {
    "ExecuteTime": {
     "end_time": "2018-01-15T23:35:43.082816Z",
     "start_time": "2018-01-15T23:35:43.071083Z"
    },
    "collapsed": true
   },
   "outputs": [],
   "source": [
    "vae2 = VAE(FILTERS, LATENT_DIM, OUTPUT_DIM)\n",
    "vae2.load_params(model_prefix, ctx=gpu_ctx)"
   ]
  },
  {
   "cell_type": "code",
   "execution_count": 19,
   "metadata": {
    "ExecuteTime": {
     "end_time": "2018-01-15T23:35:44.059850Z",
     "start_time": "2018-01-15T23:35:43.959918Z"
    }
   },
   "outputs": [
    {
     "data": {
      "text/html": [
       "\n",
       "<div class=\"bk-root\">\n",
       "    <div class=\"bk-plotdiv\" id=\"bd8013f6-7917-45ac-a6b5-46e34ae6d8a8\"></div>\n",
       "</div>"
      ]
     },
     "metadata": {},
     "output_type": "display_data"
    },
    {
     "data": {
      "application/javascript": [
       "(function(root) {\n",
       "  function embed_document(root) {\n",
       "    var docs_json = {\"ec5a8891-69a2-43f1-b5ec-ef6f0ac76dba\":{\"roots\":{\"references\":[{\"attributes\":{\"callback\":null,\"column_names\":[\"x\",\"y\"],\"data\":{\"x\":{\"__ndarray__\":\"+cAXQLBPPECKSylAHF0uQCh7TkByZzRA9mEZQHGQBUC4SgFACDkyQJrXCkDB+ENABggLQEr1IkAeXhBAaDkXQC7ZPkDi9kVAZt4vQBv2YkAKWmpAXdxFQFe5gUDLnSVA3IxWQLTjFkDJgBhAJf03QHnAP0A+mEBAOVP5P1KdNEAJcIZAxyDrP0AOg0A18ixAXNYLQD5IQEB8hCpAMglGQJGFiEAI7D9An5wkQPgBP0CI/iBAVP1PQDOeOEC+jnBAPLdhQNNpDEA2HFNArVhEQFEmHkDKhzpAHGE6QOYZNkBms4RA2J9GQGZxdkAQeQlA7lMWQGITUkCTv4BAB10SQKZWEkBcCgxAIEARQDxyVUBgVjxAuggkQP6uFEA/6TZABFIcQHWVNEBsMBpAVl40QDb/MUAwTDlArvw7QAK5LEDS43hAaxN8QKwhKkAaDTtAr1A4QL2QFEDabARAgDx8QOsvJ0B0dwxAaHk2QBJILkClbhFATSU4QIoATkBmzxdAUKr4P+dMDUAOkDlAvvl1QA==\",\"dtype\":\"float32\",\"shape\":[100]},\"y\":{\"__ndarray__\":\"lOZ9QLDjeUAc8o5AJ0ehQFVBqkA1g4lAZdxqQCp2O0DLHIBACQ6GQPbORkAnK7lA061LQKz8UEAuxEZAbhE6QCY6uEAttqRALC2UQL68q0BDcaxA736aQAxDt0Cwn1tAkLC1QPRzaECzrFxAAyiDQGiDj0C81nxAERFHQDfggUCV+sVAwjg8QPyFv0ALc49A4p4uQG3wkEDUbGBAh7eSQBfNx0A/R6NA0xBAQGDJf0CD529AM227QKlLi0Agt7hAxo/IQDhrOEATJalADVyeQICqWUDDXaRAj4SWQA1/kkCDrsNA+xyrQH8qwEDvJVxA5JRGQMpVskBj+sBAAOxaQIjXOEDEiTBAWqA1QP1FrEDDq5dAtrGAQKrsWUALg6ZAAspEQIECk0B4qnRAZJ6WQDEPkEBtDopApD2GQC8EeECdYbRAiTC9QIBdlEBBHplAVGVyQOySYEAaXh9ARxnBQD93SkBkPTBA5AeYQL5sZ0D4GYJAkI2hQDsgukBKTz1Ai1dCQIoHXEB4r7RAXzPLQA==\",\"dtype\":\"float32\",\"shape\":[100]}}},\"id\":\"55e91936-d9b4-4154-a7b8-9a568f34b6cc\",\"type\":\"ColumnDataSource\"},{\"attributes\":{\"fill_color\":{\"value\":\"#1f77b4\"},\"line_color\":{\"value\":\"#1f77b4\"},\"x\":{\"field\":\"x\"},\"y\":{\"field\":\"y\"}},\"id\":\"f285fc2e-5822-49ea-aaf3-520bf63e9fbb\",\"type\":\"Circle\"},{\"attributes\":{},\"id\":\"dfb0d0ba-c661-41a9-8693-019646c4e8d0\",\"type\":\"PanTool\"},{\"attributes\":{},\"id\":\"3c8fedde-3db0-498b-ae17-c30afcfb486d\",\"type\":\"LinearScale\"},{\"attributes\":{},\"id\":\"cb47237d-b172-4ecb-b81f-817535dc4902\",\"type\":\"HelpTool\"},{\"attributes\":{},\"id\":\"b759e76a-ca23-43e9-9fad-7d14b017389a\",\"type\":\"WheelZoomTool\"},{\"attributes\":{\"callback\":null},\"id\":\"28eb64ae-695e-4876-8384-834039c52bd9\",\"type\":\"DataRange1d\"},{\"attributes\":{\"fill_alpha\":{\"value\":0.1},\"fill_color\":{\"value\":\"#1f77b4\"},\"line_alpha\":{\"value\":0.1},\"line_color\":{\"value\":\"#1f77b4\"},\"x\":{\"field\":\"x\"},\"y\":{\"field\":\"y\"}},\"id\":\"2d199a1f-a05d-4ec5-b5de-53ba0edb2952\",\"type\":\"Circle\"},{\"attributes\":{\"overlay\":{\"id\":\"85f81497-77d8-4aa1-8ad5-3544829d952e\",\"type\":\"BoxAnnotation\"}},\"id\":\"4894136e-840b-4484-a1eb-85086787cef1\",\"type\":\"BoxZoomTool\"},{\"attributes\":{\"below\":[{\"id\":\"f60afe93-8595-4440-8e41-b325f5dccb88\",\"type\":\"LinearAxis\"}],\"left\":[{\"id\":\"2137de25-56ab-4176-a5ef-42f498e66a7a\",\"type\":\"LinearAxis\"}],\"renderers\":[{\"id\":\"f60afe93-8595-4440-8e41-b325f5dccb88\",\"type\":\"LinearAxis\"},{\"id\":\"090f0cd9-f2ca-41d3-904f-d2519c7bff8d\",\"type\":\"Grid\"},{\"id\":\"2137de25-56ab-4176-a5ef-42f498e66a7a\",\"type\":\"LinearAxis\"},{\"id\":\"0c72aad7-accf-4070-bc56-7f472f252c63\",\"type\":\"Grid\"},{\"id\":\"85f81497-77d8-4aa1-8ad5-3544829d952e\",\"type\":\"BoxAnnotation\"},{\"id\":\"ad776565-f8cc-4800-989e-f97daa036c90\",\"type\":\"GlyphRenderer\"}],\"title\":{\"id\":\"b7e33e4f-d360-417d-8167-800b4703e040\",\"type\":\"Title\"},\"toolbar\":{\"id\":\"252e7af6-9c30-4d23-a204-9cc9925d3fc6\",\"type\":\"Toolbar\"},\"x_range\":{\"id\":\"28eb64ae-695e-4876-8384-834039c52bd9\",\"type\":\"DataRange1d\"},\"x_scale\":{\"id\":\"71428c13-a856-4076-a47b-46f500f9902d\",\"type\":\"LinearScale\"},\"y_range\":{\"id\":\"0afc0e14-0bed-4b08-a299-eca62976c7e5\",\"type\":\"DataRange1d\"},\"y_scale\":{\"id\":\"3c8fedde-3db0-498b-ae17-c30afcfb486d\",\"type\":\"LinearScale\"}},\"id\":\"7fb1308b-471f-4d27-a8c7-9bde866fb13c\",\"subtype\":\"Figure\",\"type\":\"Plot\"},{\"attributes\":{},\"id\":\"454f24a1-c33c-4a32-90cf-810dab4e4516\",\"type\":\"BasicTicker\"},{\"attributes\":{\"source\":{\"id\":\"55e91936-d9b4-4154-a7b8-9a568f34b6cc\",\"type\":\"ColumnDataSource\"}},\"id\":\"3ecc56fa-a14d-452a-a9fc-58fa332742bb\",\"type\":\"CDSView\"},{\"attributes\":{\"callback\":null},\"id\":\"0afc0e14-0bed-4b08-a299-eca62976c7e5\",\"type\":\"DataRange1d\"},{\"attributes\":{\"plot\":{\"id\":\"7fb1308b-471f-4d27-a8c7-9bde866fb13c\",\"subtype\":\"Figure\",\"type\":\"Plot\"},\"ticker\":{\"id\":\"454f24a1-c33c-4a32-90cf-810dab4e4516\",\"type\":\"BasicTicker\"}},\"id\":\"090f0cd9-f2ca-41d3-904f-d2519c7bff8d\",\"type\":\"Grid\"},{\"attributes\":{},\"id\":\"90277af3-0ac1-4dad-b41d-06eaed594341\",\"type\":\"BasicTickFormatter\"},{\"attributes\":{\"data_source\":{\"id\":\"55e91936-d9b4-4154-a7b8-9a568f34b6cc\",\"type\":\"ColumnDataSource\"},\"glyph\":{\"id\":\"f285fc2e-5822-49ea-aaf3-520bf63e9fbb\",\"type\":\"Circle\"},\"hover_glyph\":null,\"muted_glyph\":null,\"nonselection_glyph\":{\"id\":\"2d199a1f-a05d-4ec5-b5de-53ba0edb2952\",\"type\":\"Circle\"},\"selection_glyph\":null,\"view\":{\"id\":\"3ecc56fa-a14d-452a-a9fc-58fa332742bb\",\"type\":\"CDSView\"}},\"id\":\"ad776565-f8cc-4800-989e-f97daa036c90\",\"type\":\"GlyphRenderer\"},{\"attributes\":{},\"id\":\"159f0c17-9a3c-458b-a047-0579e99c80af\",\"type\":\"BasicTicker\"},{\"attributes\":{\"plot\":null,\"text\":\"\"},\"id\":\"b7e33e4f-d360-417d-8167-800b4703e040\",\"type\":\"Title\"},{\"attributes\":{\"formatter\":{\"id\":\"ffe831ec-0441-45fe-ab5a-0efcdda0c3c3\",\"type\":\"BasicTickFormatter\"},\"plot\":{\"id\":\"7fb1308b-471f-4d27-a8c7-9bde866fb13c\",\"subtype\":\"Figure\",\"type\":\"Plot\"},\"ticker\":{\"id\":\"159f0c17-9a3c-458b-a047-0579e99c80af\",\"type\":\"BasicTicker\"}},\"id\":\"2137de25-56ab-4176-a5ef-42f498e66a7a\",\"type\":\"LinearAxis\"},{\"attributes\":{},\"id\":\"62edc598-e601-41f9-8c16-dcd907a125d9\",\"type\":\"ResetTool\"},{\"attributes\":{\"active_drag\":\"auto\",\"active_inspect\":\"auto\",\"active_scroll\":\"auto\",\"active_tap\":\"auto\",\"tools\":[{\"id\":\"dfb0d0ba-c661-41a9-8693-019646c4e8d0\",\"type\":\"PanTool\"},{\"id\":\"b759e76a-ca23-43e9-9fad-7d14b017389a\",\"type\":\"WheelZoomTool\"},{\"id\":\"4894136e-840b-4484-a1eb-85086787cef1\",\"type\":\"BoxZoomTool\"},{\"id\":\"ae48901b-d497-443f-87b1-bceb84608679\",\"type\":\"SaveTool\"},{\"id\":\"62edc598-e601-41f9-8c16-dcd907a125d9\",\"type\":\"ResetTool\"},{\"id\":\"cb47237d-b172-4ecb-b81f-817535dc4902\",\"type\":\"HelpTool\"}]},\"id\":\"252e7af6-9c30-4d23-a204-9cc9925d3fc6\",\"type\":\"Toolbar\"},{\"attributes\":{\"bottom_units\":\"screen\",\"fill_alpha\":{\"value\":0.5},\"fill_color\":{\"value\":\"lightgrey\"},\"left_units\":\"screen\",\"level\":\"overlay\",\"line_alpha\":{\"value\":1.0},\"line_color\":{\"value\":\"black\"},\"line_dash\":[4,4],\"line_width\":{\"value\":2},\"plot\":null,\"render_mode\":\"css\",\"right_units\":\"screen\",\"top_units\":\"screen\"},\"id\":\"85f81497-77d8-4aa1-8ad5-3544829d952e\",\"type\":\"BoxAnnotation\"},{\"attributes\":{},\"id\":\"71428c13-a856-4076-a47b-46f500f9902d\",\"type\":\"LinearScale\"},{\"attributes\":{\"formatter\":{\"id\":\"90277af3-0ac1-4dad-b41d-06eaed594341\",\"type\":\"BasicTickFormatter\"},\"plot\":{\"id\":\"7fb1308b-471f-4d27-a8c7-9bde866fb13c\",\"subtype\":\"Figure\",\"type\":\"Plot\"},\"ticker\":{\"id\":\"454f24a1-c33c-4a32-90cf-810dab4e4516\",\"type\":\"BasicTicker\"}},\"id\":\"f60afe93-8595-4440-8e41-b325f5dccb88\",\"type\":\"LinearAxis\"},{\"attributes\":{},\"id\":\"ffe831ec-0441-45fe-ab5a-0efcdda0c3c3\",\"type\":\"BasicTickFormatter\"},{\"attributes\":{},\"id\":\"ae48901b-d497-443f-87b1-bceb84608679\",\"type\":\"SaveTool\"},{\"attributes\":{\"dimension\":1,\"plot\":{\"id\":\"7fb1308b-471f-4d27-a8c7-9bde866fb13c\",\"subtype\":\"Figure\",\"type\":\"Plot\"},\"ticker\":{\"id\":\"159f0c17-9a3c-458b-a047-0579e99c80af\",\"type\":\"BasicTicker\"}},\"id\":\"0c72aad7-accf-4070-bc56-7f472f252c63\",\"type\":\"Grid\"}],\"root_ids\":[\"7fb1308b-471f-4d27-a8c7-9bde866fb13c\"]},\"title\":\"Bokeh Application\",\"version\":\"0.12.10\"}};\n",
       "    var render_items = [{\"docid\":\"ec5a8891-69a2-43f1-b5ec-ef6f0ac76dba\",\"elementid\":\"bd8013f6-7917-45ac-a6b5-46e34ae6d8a8\",\"modelid\":\"7fb1308b-471f-4d27-a8c7-9bde866fb13c\"}];\n",
       "\n",
       "    root.Bokeh.embed.embed_items(docs_json, render_items);\n",
       "  }\n",
       "\n",
       "  if (root.Bokeh !== undefined) {\n",
       "    embed_document(root);\n",
       "  } else {\n",
       "    var attempts = 0;\n",
       "    var timer = setInterval(function(root) {\n",
       "      if (root.Bokeh !== undefined) {\n",
       "        embed_document(root);\n",
       "        clearInterval(timer);\n",
       "      }\n",
       "      attempts++;\n",
       "      if (attempts > 100) {\n",
       "        console.log(\"Bokeh: ERROR: Unable to embed document because BokehJS library is missing\")\n",
       "        clearInterval(timer);\n",
       "      }\n",
       "    }, 10, root)\n",
       "  }\n",
       "})(window);"
      ],
      "application/vnd.bokehjs_exec.v0+json": ""
     },
     "metadata": {
      "application/vnd.bokehjs_exec.v0+json": {
       "id": "7fb1308b-471f-4d27-a8c7-9bde866fb13c"
      }
     },
     "output_type": "display_data"
    }
   ],
   "source": [
    "p = figure()\n",
    "p.circle(vae.z_mean[:, 0].asnumpy(), vae.z_mean[:, 1].asnumpy())\n",
    "show(p)\n"
   ]
  },
  {
   "cell_type": "markdown",
   "metadata": {},
   "source": [
    "## Get test image"
   ]
  },
  {
   "cell_type": "code",
   "execution_count": 20,
   "metadata": {
    "ExecuteTime": {
     "end_time": "2018-01-15T23:35:45.706478Z",
     "start_time": "2018-01-15T23:35:45.702887Z"
    },
    "collapsed": true
   },
   "outputs": [],
   "source": [
    "NUM_TEST = 10"
   ]
  },
  {
   "cell_type": "code",
   "execution_count": 21,
   "metadata": {
    "ExecuteTime": {
     "end_time": "2018-01-15T23:35:46.323314Z",
     "start_time": "2018-01-15T23:35:46.246273Z"
    },
    "collapsed": true
   },
   "outputs": [],
   "source": [
    "for i, (data) in enumerate(test_data):\n",
    "    test_image = data[0][0:NUM_TEST, :, :, :]\n",
    "    test_label = data[1]\n",
    "    if i == 1:\n",
    "        break"
   ]
  },
  {
   "cell_type": "markdown",
   "metadata": {},
   "source": [
    "## Reconstruct image\n",
    "  * vae2의 결과물은 [x_gen, z_mean, z_log_var]의 list형태"
   ]
  },
  {
   "cell_type": "code",
   "execution_count": 22,
   "metadata": {
    "ExecuteTime": {
     "end_time": "2018-01-15T23:35:47.219740Z",
     "start_time": "2018-01-15T23:35:47.172808Z"
    },
    "collapsed": true
   },
   "outputs": [],
   "source": [
    "gen_img = []\n",
    "lat_space = []\n",
    "for i, im in enumerate(test_image):\n",
    "    res = vae2(im.as_in_context(gpu_ctx).reshape((-1, 28 * 28)))\n",
    "    res = vae2.x_gen\n",
    "    gen_img.append(res.asnumpy())\n",
    "    lat_space.append([vae2.z_mean.asnumpy(), vae2.log_z_var.asnumpy()])"
   ]
  },
  {
   "cell_type": "code",
   "execution_count": 23,
   "metadata": {
    "ExecuteTime": {
     "end_time": "2018-01-15T23:35:49.216726Z",
     "start_time": "2018-01-15T23:35:48.066556Z"
    }
   },
   "outputs": [
    {
     "name": "stdout",
     "output_type": "stream",
     "text": [
      "x.shape = <class 'mxnet.ndarray.ndarray.NDArray'>, y.shape = (1, 784)\n",
      "x.shape = <class 'mxnet.ndarray.ndarray.NDArray'>, y.shape = (1, 784)\n",
      "x.shape = <class 'mxnet.ndarray.ndarray.NDArray'>, y.shape = (1, 784)\n",
      "x.shape = <class 'mxnet.ndarray.ndarray.NDArray'>, y.shape = (1, 784)\n",
      "x.shape = <class 'mxnet.ndarray.ndarray.NDArray'>, y.shape = (1, 784)\n",
      "x.shape = <class 'mxnet.ndarray.ndarray.NDArray'>, y.shape = (1, 784)\n",
      "x.shape = <class 'mxnet.ndarray.ndarray.NDArray'>, y.shape = (1, 784)\n",
      "x.shape = <class 'mxnet.ndarray.ndarray.NDArray'>, y.shape = (1, 784)\n",
      "x.shape = <class 'mxnet.ndarray.ndarray.NDArray'>, y.shape = (1, 784)\n",
      "x.shape = <class 'mxnet.ndarray.ndarray.NDArray'>, y.shape = (1, 784)\n"
     ]
    },
    {
     "data": {
      "image/png": "[encoded data removed]",
      "text/plain": [
       "<matplotlib.figure.Figure at 0x7f66d1d07cf8>"
      ]
     },
     "metadata": {},
     "output_type": "display_data"
    }
   ],
   "source": [
    "import matplotlib.pyplot as plt\n",
    "%matplotlib inline\n",
    "\n",
    "n_samples = test_image.shape[0]\n",
    "_, axarr = plt.subplots(2, n_samples, figsize=(16,4))\n",
    "\n",
    "for i, (x, y) in enumerate(zip(test_image, gen_img)):\n",
    "    print('x.shape = {}, y.shape = {}'.format(type(x.reshape((28,28))), y.shape))\n",
    "    # Numpy이어야 함. mxnet.ndarray는 안됨\n",
    "    axarr[0,i].imshow(x.reshape((28,28)).asnumpy(), cmap='Greys')\n",
    "    if i==0:\n",
    "        axarr[0,i].set_title('original')\n",
    "    #axarr[0,i].axis('off')\n",
    "    axarr[0,i].get_xaxis().set_ticks([])\n",
    "    axarr[0,i].get_yaxis().set_ticks([])\n",
    "    axarr[1,i].imshow(gen_img[i].reshape((28,28)), cmap='Greys')\n",
    "    if i==0:\n",
    "        axarr[1,i].set_title('reconstruction')\n",
    "    #axarr[1,i].axis('off')\n",
    "    axarr[1,i].get_xaxis().set_ticks([])\n",
    "    axarr[1,i].get_yaxis().set_ticks([])\n",
    "plt.show()"
   ]
  },
  {
   "cell_type": "code",
   "execution_count": 76,
   "metadata": {
    "ExecuteTime": {
     "end_time": "2018-01-15T15:48:28.749738Z",
     "start_time": "2018-01-15T15:48:28.494795Z"
    }
   },
   "outputs": [
    {
     "ename": "MXNetError",
     "evalue": "[00:48:28] src/operator/tensor/./matrix_op-inl.h:310: Check failed: shp.ndim() == param.axes.ndim() (2 vs. 4) \n\nStack trace returned 10 entries:\n[bt] (0) /home/kionkim/anaconda3/envs/kion_venv_mxnet/lib/python3.6/site-packages/mxnet/libmxnet.so(+0x28965c) [0x7f58a2f7465c]\n[bt] (1) /home/kionkim/anaconda3/envs/kion_venv_mxnet/lib/python3.6/site-packages/mxnet/libmxnet.so(+0x226b868) [0x7f58a4f56868]\n[bt] (2) /home/kionkim/anaconda3/envs/kion_venv_mxnet/lib/python3.6/site-packages/mxnet/libmxnet.so(+0x24d573f) [0x7f58a51c073f]\n[bt] (3) /home/kionkim/anaconda3/envs/kion_venv_mxnet/lib/python3.6/site-packages/mxnet/libmxnet.so(+0x24c1be9) [0x7f58a51acbe9]\n[bt] (4) /home/kionkim/anaconda3/envs/kion_venv_mxnet/lib/python3.6/site-packages/mxnet/libmxnet.so(+0x24026bb) [0x7f58a50ed6bb]\n[bt] (5) /home/kionkim/anaconda3/envs/kion_venv_mxnet/lib/python3.6/site-packages/mxnet/libmxnet.so(MXImperativeInvokeEx+0x63) [0x7f58a50edbf3]\n[bt] (6) /home/kionkim/anaconda3/envs/kion_venv_mxnet/lib/python3.6/lib-dynload/../../libffi.so.6(ffi_call_unix64+0x4c) [0x7f58e5b8fec0]\n[bt] (7) /home/kionkim/anaconda3/envs/kion_venv_mxnet/lib/python3.6/lib-dynload/../../libffi.so.6(ffi_call+0x22d) [0x7f58e5b8f87d]\n[bt] (8) /home/kionkim/anaconda3/envs/kion_venv_mxnet/lib/python3.6/lib-dynload/_ctypes.cpython-36m-x86_64-linux-gnu.so(_ctypes_callproc+0x2ce) [0x7f58e5da482e]\n[bt] (9) /home/kionkim/anaconda3/envs/kion_venv_mxnet/lib/python3.6/lib-dynload/_ctypes.cpython-36m-x86_64-linux-gnu.so(+0x12265) [0x7f58e5da5265]\n",
     "output_type": "error",
     "traceback": [
      "\u001b[0;31m---------------------------------------------------------------------------\u001b[0m",
      "\u001b[0;31mMXNetError\u001b[0m                                Traceback (most recent call last)",
      "\u001b[0;32m<ipython-input-76-036ffcb7f689>\u001b[0m in \u001b[0;36m<module>\u001b[0;34m()\u001b[0m\n\u001b[1;32m      5\u001b[0m \u001b[0mt_i\u001b[0m \u001b[0;34m=\u001b[0m \u001b[0mtest_input\u001b[0m\u001b[0;34m.\u001b[0m\u001b[0mreshape\u001b[0m\u001b[0;34m(\u001b[0m\u001b[0;34m(\u001b[0m\u001b[0;34m-\u001b[0m\u001b[0;36m1\u001b[0m\u001b[0;34m,\u001b[0m \u001b[0mLATENT_DIM\u001b[0m\u001b[0;34m)\u001b[0m\u001b[0;34m)\u001b[0m\u001b[0;34m\u001b[0m\u001b[0m\n\u001b[1;32m      6\u001b[0m \u001b[0mtest_gen\u001b[0m \u001b[0;34m=\u001b[0m \u001b[0mdec\u001b[0m\u001b[0;34m(\u001b[0m\u001b[0mt_i\u001b[0m\u001b[0;34m)\u001b[0m\u001b[0;34m\u001b[0m\u001b[0m\n\u001b[0;32m----> 7\u001b[0;31m \u001b[0mt_g\u001b[0m \u001b[0;34m=\u001b[0m \u001b[0mnd\u001b[0m\u001b[0;34m.\u001b[0m\u001b[0mtranspose\u001b[0m\u001b[0;34m(\u001b[0m\u001b[0mtest_gen\u001b[0m\u001b[0;34m,\u001b[0m \u001b[0;34m(\u001b[0m\u001b[0;36m0\u001b[0m\u001b[0;34m,\u001b[0m \u001b[0;36m2\u001b[0m\u001b[0;34m,\u001b[0m \u001b[0;36m3\u001b[0m\u001b[0;34m,\u001b[0m \u001b[0;36m1\u001b[0m\u001b[0;34m)\u001b[0m\u001b[0;34m)\u001b[0m\u001b[0;34m\u001b[0m\u001b[0m\n\u001b[0m\u001b[1;32m      8\u001b[0m \u001b[0mim\u001b[0m \u001b[0;34m=\u001b[0m \u001b[0mnd\u001b[0m\u001b[0;34m.\u001b[0m\u001b[0mtranspose\u001b[0m\u001b[0;34m(\u001b[0m\u001b[0mt_g\u001b[0m\u001b[0;34m,\u001b[0m\u001b[0;34m(\u001b[0m\u001b[0;36m1\u001b[0m\u001b[0;34m,\u001b[0m\u001b[0;36m0\u001b[0m\u001b[0;34m,\u001b[0m\u001b[0;36m2\u001b[0m\u001b[0;34m,\u001b[0m\u001b[0;36m3\u001b[0m\u001b[0;34m)\u001b[0m\u001b[0;34m)\u001b[0m\u001b[0;34m\u001b[0m\u001b[0m\n\u001b[1;32m      9\u001b[0m \u001b[0mim\u001b[0m \u001b[0;34m=\u001b[0m \u001b[0mnd\u001b[0m\u001b[0;34m.\u001b[0m\u001b[0mreshape\u001b[0m\u001b[0;34m(\u001b[0m\u001b[0mim\u001b[0m\u001b[0;34m,\u001b[0m\u001b[0;34m(\u001b[0m\u001b[0;36m28\u001b[0m\u001b[0;34m,\u001b[0m \u001b[0;36m28\u001b[0m\u001b[0;34m,\u001b[0m\u001b[0;36m1\u001b[0m\u001b[0;34m)\u001b[0m\u001b[0;34m)\u001b[0m\u001b[0;34m\u001b[0m\u001b[0m\n",
      "\u001b[0;32m~/anaconda3/envs/kion_venv_mxnet/lib/python3.6/site-packages/mxnet/ndarray/register.py\u001b[0m in \u001b[0;36mtranspose\u001b[0;34m(data, axes, out, name, **kwargs)\u001b[0m\n",
      "\u001b[0;32m~/anaconda3/envs/kion_venv_mxnet/lib/python3.6/site-packages/mxnet/_ctypes/ndarray.py\u001b[0m in \u001b[0;36m_imperative_invoke\u001b[0;34m(handle, ndargs, keys, vals, out)\u001b[0m\n\u001b[1;32m     90\u001b[0m         \u001b[0mc_str_array\u001b[0m\u001b[0;34m(\u001b[0m\u001b[0mkeys\u001b[0m\u001b[0;34m)\u001b[0m\u001b[0;34m,\u001b[0m\u001b[0;34m\u001b[0m\u001b[0m\n\u001b[1;32m     91\u001b[0m         \u001b[0mc_str_array\u001b[0m\u001b[0;34m(\u001b[0m\u001b[0;34m[\u001b[0m\u001b[0mstr\u001b[0m\u001b[0;34m(\u001b[0m\u001b[0ms\u001b[0m\u001b[0;34m)\u001b[0m \u001b[0;32mfor\u001b[0m \u001b[0ms\u001b[0m \u001b[0;32min\u001b[0m \u001b[0mvals\u001b[0m\u001b[0;34m]\u001b[0m\u001b[0;34m)\u001b[0m\u001b[0;34m,\u001b[0m\u001b[0;34m\u001b[0m\u001b[0m\n\u001b[0;32m---> 92\u001b[0;31m         ctypes.byref(out_stypes)))\n\u001b[0m\u001b[1;32m     93\u001b[0m \u001b[0;34m\u001b[0m\u001b[0m\n\u001b[1;32m     94\u001b[0m     \u001b[0;32mif\u001b[0m \u001b[0moriginal_output\u001b[0m \u001b[0;32mis\u001b[0m \u001b[0;32mnot\u001b[0m \u001b[0;32mNone\u001b[0m\u001b[0;34m:\u001b[0m\u001b[0;34m\u001b[0m\u001b[0m\n",
      "\u001b[0;32m~/anaconda3/envs/kion_venv_mxnet/lib/python3.6/site-packages/mxnet/base.py\u001b[0m in \u001b[0;36mcheck_call\u001b[0;34m(ret)\u001b[0m\n\u001b[1;32m    144\u001b[0m     \"\"\"\n\u001b[1;32m    145\u001b[0m     \u001b[0;32mif\u001b[0m \u001b[0mret\u001b[0m \u001b[0;34m!=\u001b[0m \u001b[0;36m0\u001b[0m\u001b[0;34m:\u001b[0m\u001b[0;34m\u001b[0m\u001b[0m\n\u001b[0;32m--> 146\u001b[0;31m         \u001b[0;32mraise\u001b[0m \u001b[0mMXNetError\u001b[0m\u001b[0;34m(\u001b[0m\u001b[0mpy_str\u001b[0m\u001b[0;34m(\u001b[0m\u001b[0m_LIB\u001b[0m\u001b[0;34m.\u001b[0m\u001b[0mMXGetLastError\u001b[0m\u001b[0;34m(\u001b[0m\u001b[0;34m)\u001b[0m\u001b[0;34m)\u001b[0m\u001b[0;34m)\u001b[0m\u001b[0;34m\u001b[0m\u001b[0m\n\u001b[0m\u001b[1;32m    147\u001b[0m \u001b[0;34m\u001b[0m\u001b[0m\n\u001b[1;32m    148\u001b[0m \u001b[0;34m\u001b[0m\u001b[0m\n",
      "\u001b[0;31mMXNetError\u001b[0m: [00:48:28] src/operator/tensor/./matrix_op-inl.h:310: Check failed: shp.ndim() == param.axes.ndim() (2 vs. 4) \n\nStack trace returned 10 entries:\n[bt] (0) /home/kionkim/anaconda3/envs/kion_venv_mxnet/lib/python3.6/site-packages/mxnet/libmxnet.so(+0x28965c) [0x7f58a2f7465c]\n[bt] (1) /home/kionkim/anaconda3/envs/kion_venv_mxnet/lib/python3.6/site-packages/mxnet/libmxnet.so(+0x226b868) [0x7f58a4f56868]\n[bt] (2) /home/kionkim/anaconda3/envs/kion_venv_mxnet/lib/python3.6/site-packages/mxnet/libmxnet.so(+0x24d573f) [0x7f58a51c073f]\n[bt] (3) /home/kionkim/anaconda3/envs/kion_venv_mxnet/lib/python3.6/site-packages/mxnet/libmxnet.so(+0x24c1be9) [0x7f58a51acbe9]\n[bt] (4) /home/kionkim/anaconda3/envs/kion_venv_mxnet/lib/python3.6/site-packages/mxnet/libmxnet.so(+0x24026bb) [0x7f58a50ed6bb]\n[bt] (5) /home/kionkim/anaconda3/envs/kion_venv_mxnet/lib/python3.6/site-packages/mxnet/libmxnet.so(MXImperativeInvokeEx+0x63) [0x7f58a50edbf3]\n[bt] (6) /home/kionkim/anaconda3/envs/kion_venv_mxnet/lib/python3.6/lib-dynload/../../libffi.so.6(ffi_call_unix64+0x4c) [0x7f58e5b8fec0]\n[bt] (7) /home/kionkim/anaconda3/envs/kion_venv_mxnet/lib/python3.6/lib-dynload/../../libffi.so.6(ffi_call+0x22d) [0x7f58e5b8f87d]\n[bt] (8) /home/kionkim/anaconda3/envs/kion_venv_mxnet/lib/python3.6/lib-dynload/_ctypes.cpython-36m-x86_64-linux-gnu.so(_ctypes_callproc+0x2ce) [0x7f58e5da482e]\n[bt] (9) /home/kionkim/anaconda3/envs/kion_venv_mxnet/lib/python3.6/lib-dynload/_ctypes.cpython-36m-x86_64-linux-gnu.so(+0x12265) [0x7f58e5da5265]\n"
     ]
    }
   ],
   "source": [
    "import matplotlib.pyplot as plt\n",
    "%matplotlib inline\n",
    "\n",
    "test_input = nd.random_normal(loc = 0,scale = 2,shape= LATENT_DIM, ctx = gpu_ctx)\n",
    "t_i = test_input.reshape((-1, LATENT_DIM))\n",
    "test_gen = dec(t_i)\n",
    "t_g = nd.transpose(test_gen, (0, 2, 3, 1))\n",
    "im = nd.transpose(t_g,(1,0,2,3))\n",
    "im = nd.reshape(im,(28, 28,1))\n",
    "imtiles = nd.tile(im, (1,1,3))\n",
    "plt.imshow(imtiles.asnumpy())\n",
    "plt.show()"
   ]
  },
  {
   "cell_type": "code",
   "execution_count": 28,
   "metadata": {
    "ExecuteTime": {
     "end_time": "2018-01-14T03:55:08.487869Z",
     "start_time": "2018-01-14T03:55:08.457055Z"
    }
   },
   "outputs": [
    {
     "data": {
      "text/plain": [
       "\n",
       "[[[[ 0.50028056  0.50006336  0.50001007  0.50009346  0.49996209  0.50000113\n",
       "     0.49992168  0.49999869  0.50012594  0.50015461  0.49982446  0.49991751\n",
       "     0.50012875  0.49998283  0.500054    0.50003207  0.49995345  0.50020087\n",
       "     0.50006247  0.50009751  0.50001132  0.50002122  0.50020128  0.50011408\n",
       "     0.50015682  0.50007886  0.50016648  0.49989346]\n",
       "   [ 0.50011837  0.50011653  0.50027168  0.50032485  0.50028926  0.50001252\n",
       "     0.50006485  0.49996322  0.50024915  0.50002694  0.50019926  0.50000727\n",
       "     0.50022888  0.50010306  0.50001353  0.50021893  0.5002014   0.4999401\n",
       "     0.50021875  0.49995762  0.50036168  0.50027966  0.49988237  0.50007564\n",
       "     0.50023842  0.50001597  0.50022185  0.50012606]\n",
       "   [ 0.50005227  0.49979421  0.50009608  0.49971488  0.50017655  0.50009847\n",
       "     0.5001843   0.49974751  0.50009674  0.49989203  0.50011927  0.49963233\n",
       "     0.50005466  0.50025785  0.49996638  0.49961466  0.49995768  0.49970406\n",
       "     0.50039279  0.49965215  0.50003338  0.50002873  0.50033277  0.49984068\n",
       "     0.50003922  0.50007296  0.50001836  0.50009447]\n",
       "   [ 0.50006235  0.50024301  0.50039572  0.50014114  0.5001747   0.50009507\n",
       "     0.50031072  0.50009489  0.50038058  0.50032836  0.50025034  0.49987289\n",
       "     0.5002054   0.50024503  0.50007218  0.49971768  0.50036728  0.50035596\n",
       "     0.5002737   0.5001545   0.50017071  0.49999452  0.50039792  0.4998872\n",
       "     0.50003654  0.50000119  0.50017905  0.50004572]\n",
       "   [ 0.50035399  0.49978521  0.50010669  0.49967     0.50016695  0.50026405\n",
       "     0.50000536  0.49977717  0.49997258  0.49985364  0.49966767  0.49981576\n",
       "     0.50025159  0.50033194  0.50000763  0.49978957  0.50039321  0.50019783\n",
       "     0.49979433  0.49988738  0.50003093  0.49996573  0.50000042  0.49989006\n",
       "     0.5002355   0.4999727   0.50026888  0.49990788]\n",
       "   [ 0.50019675  0.50040197  0.49979851  0.50036258  0.50006616  0.50013363\n",
       "     0.50007373  0.50038266  0.50041044  0.50033748  0.50030917  0.50017381\n",
       "     0.50031871  0.50029504  0.50005448  0.50014824  0.5003081   0.50015718\n",
       "     0.50002432  0.50027078  0.50036895  0.49999166  0.49993145  0.49994415\n",
       "     0.50019068  0.50008613  0.50003618  0.49988869]\n",
       "   [ 0.50018346  0.50012612  0.49985054  0.49969238  0.50020897  0.50021923\n",
       "     0.50011861  0.49980813  0.49997497  0.49985841  0.5002116   0.4996669\n",
       "     0.50000983  0.50023609  0.50026655  0.49977306  0.49985138  0.50005573\n",
       "     0.499773    0.50001538  0.50004745  0.50005293  0.50025797  0.4996556\n",
       "     0.50000668  0.49993932  0.50001436  0.49991876]\n",
       "   [ 0.50018996  0.50005788  0.50002223  0.49977943  0.50020593  0.50002736\n",
       "     0.50025594  0.49970752  0.50019783  0.5001139   0.50021523  0.49981236\n",
       "     0.50040513  0.50006032  0.50033057  0.49989513  0.50051111  0.50011045\n",
       "     0.50033569  0.50016826  0.50034618  0.50013578  0.50023454  0.50031805\n",
       "     0.50020921  0.49990466  0.50003994  0.49998307]\n",
       "   [ 0.50017321  0.49986604  0.49991906  0.49988917  0.50010717  0.50003129\n",
       "     0.49987599  0.49971864  0.50035053  0.50028372  0.49962619  0.49998248\n",
       "     0.50049549  0.50004745  0.49987808  0.49982023  0.50004154  0.4999401\n",
       "     0.49980101  0.49972484  0.50017738  0.50002152  0.50001615  0.50001502\n",
       "     0.50006276  0.5001356   0.50021476  0.49993134]\n",
       "   [ 0.50025171  0.50022322  0.49991691  0.49996209  0.50048506  0.4999373\n",
       "     0.49989608  0.50006378  0.50040507  0.50029755  0.50020355  0.50043476\n",
       "     0.50050306  0.50018543  0.50009644  0.50031614  0.50057334  0.50025719\n",
       "     0.49977848  0.50003028  0.50022233  0.50012809  0.50029474  0.50017613\n",
       "     0.50012463  0.50015801  0.50022602  0.5000295 ]\n",
       "   [ 0.50010556  0.49986389  0.50027978  0.49960211  0.50017583  0.500256\n",
       "     0.50022328  0.49952975  0.49991775  0.50019056  0.50048727  0.49969709\n",
       "     0.500251    0.50020295  0.50012809  0.49995887  0.49980095  0.49982005\n",
       "     0.49997473  0.49989483  0.50000286  0.49993825  0.5002284   0.49977896\n",
       "     0.49995488  0.50021595  0.50019491  0.49984336]\n",
       "   [ 0.50032407  0.5000363   0.50023729  0.49999714  0.50032514  0.50029403\n",
       "     0.50027817  0.50003952  0.50024414  0.50016147  0.50034094  0.49984103\n",
       "     0.50049222  0.50026494  0.50040555  0.5001086   0.50036132  0.50031096\n",
       "     0.50044382  0.50015795  0.50053596  0.49991301  0.50037134  0.49988833\n",
       "     0.5001424   0.50003606  0.49991947  0.49995321]\n",
       "   [ 0.50037849  0.50011581  0.49978456  0.49954414  0.50036067  0.50011635\n",
       "     0.49979672  0.49971536  0.50040281  0.50014436  0.49971306  0.49982554\n",
       "     0.49996972  0.50032401  0.50012833  0.49983436  0.5003401   0.50004923\n",
       "     0.50035846  0.49979338  0.50035131  0.50005656  0.50008529  0.50000024\n",
       "     0.5002988   0.50000399  0.50022584  0.49985364]\n",
       "   [ 0.5002296   0.50028121  0.50027746  0.5002569   0.50052798  0.5000819\n",
       "     0.50017762  0.50018156  0.50036877  0.5001601   0.50020903  0.50039911\n",
       "     0.50070375  0.4999702   0.49993777  0.50038427  0.50030226  0.50029171\n",
       "     0.5002948   0.50004089  0.50017893  0.50003332  0.49972215  0.49999523\n",
       "     0.5003373   0.50012177  0.50007975  0.50010288]\n",
       "   [ 0.50017077  0.49989358  0.50017917  0.49940848  0.49976504  0.5002529\n",
       "     0.50011498  0.49972454  0.5000385   0.49997938  0.50016797  0.49958372\n",
       "     0.49980387  0.50011593  0.50005275  0.49965501  0.49996305  0.50020838\n",
       "     0.49979576  0.49982673  0.49998939  0.49969244  0.50044239  0.49982446\n",
       "     0.5001418   0.5001083   0.49986246  0.49997413]\n",
       "   [ 0.5004921   0.50025403  0.50049543  0.49980626  0.50047731  0.50036162\n",
       "     0.50028199  0.49996138  0.50035888  0.49988857  0.50032908  0.5000726\n",
       "     0.50029331  0.50029844  0.50031483  0.49971288  0.50038111  0.50011361\n",
       "     0.50000077  0.50028247  0.50042313  0.50027555  0.50030667  0.50001413\n",
       "     0.50023955  0.50001258  0.49995172  0.50000334]\n",
       "   [ 0.50035584  0.49989805  0.49980333  0.50005507  0.50008088  0.49979743\n",
       "     0.50003427  0.49965924  0.50019073  0.49997246  0.49965113  0.49964517\n",
       "     0.50034821  0.50001013  0.49994993  0.49970824  0.49986979  0.50008625\n",
       "     0.49994063  0.49976331  0.49996233  0.50025403  0.49992454  0.49991307\n",
       "     0.50023347  0.50002986  0.50027704  0.49992681]\n",
       "   [ 0.50011176  0.50025064  0.50014442  0.50010031  0.50040567  0.49992037\n",
       "     0.50010133  0.50001287  0.50042301  0.50014609  0.50013649  0.50025767\n",
       "     0.50041741  0.50008893  0.50021845  0.50018102  0.50037289  0.49986508\n",
       "     0.50027651  0.50004303  0.50049603  0.50037444  0.50019026  0.50008291\n",
       "     0.50011927  0.50011581  0.50009286  0.49999487]\n",
       "   [ 0.50011963  0.49985614  0.50018674  0.49967846  0.50008255  0.50004506\n",
       "     0.49992478  0.49961156  0.50004214  0.49996066  0.49993217  0.49994445\n",
       "     0.50020617  0.50005376  0.50043476  0.4997074   0.50030178  0.50023341\n",
       "     0.50025368  0.49978933  0.5001148   0.50000584  0.49968812  0.49985996\n",
       "     0.50007248  0.49999821  0.50006729  0.49984998]\n",
       "   [ 0.50030112  0.50002408  0.50032961  0.50003803  0.50059366  0.50015354\n",
       "     0.50021493  0.49982023  0.50020659  0.50031561  0.50052238  0.49974847\n",
       "     0.50024247  0.50020832  0.50036621  0.49974549  0.50042665  0.49998784\n",
       "     0.50024658  0.49979487  0.50037271  0.49997103  0.50032759  0.49996984\n",
       "     0.50025231  0.5001871   0.5000686   0.49999356]\n",
       "   [ 0.50028354  0.50001067  0.49983245  0.49969244  0.50012887  0.4997212\n",
       "     0.49986419  0.49982899  0.50035673  0.49993157  0.49985883  0.49955288\n",
       "     0.50024426  0.50007153  0.49971655  0.49978319  0.49988714  0.50010395\n",
       "     0.50007492  0.49999475  0.50043988  0.49989691  0.50043017  0.4997701\n",
       "     0.50004888  0.50013047  0.50002331  0.49990162]\n",
       "   [ 0.4999665   0.50018448  0.5001182   0.50025463  0.50026608  0.50016195\n",
       "     0.49977329  0.49994624  0.50050724  0.50019854  0.49991906  0.50029844\n",
       "     0.50002545  0.49998677  0.5000518   0.50056815  0.50039989  0.50032091\n",
       "     0.49969262  0.50004357  0.5002889   0.5003103   0.49994302  0.50020474\n",
       "     0.50001484  0.50001937  0.50007647  0.5001148 ]\n",
       "   [ 0.50025064  0.50009352  0.50008118  0.49980718  0.49999261  0.50001997\n",
       "     0.50039357  0.499695    0.49988499  0.50016707  0.50004423  0.49976999\n",
       "     0.49991584  0.49993312  0.50027519  0.49957782  0.50008935  0.50015932\n",
       "     0.50030982  0.49995947  0.49999148  0.5001753   0.50018042  0.49991411\n",
       "     0.50010955  0.50004625  0.50029117  0.49996722]\n",
       "   [ 0.50035924  0.50012851  0.5001564   0.49982989  0.5003624   0.5000881\n",
       "     0.50045723  0.49996817  0.5002619   0.50026315  0.50028193  0.50011438\n",
       "     0.50006968  0.50025481  0.50030822  0.49988964  0.50024152  0.50009036\n",
       "     0.50030065  0.50000876  0.50052035  0.50014597  0.5003314   0.49991977\n",
       "     0.50016528  0.5000968   0.49995005  0.49995875]\n",
       "   [ 0.50019938  0.50014281  0.50010377  0.49987021  0.50021881  0.49992108\n",
       "     0.50006944  0.49988189  0.49993455  0.49988082  0.49989453  0.49991181\n",
       "     0.50003952  0.50017577  0.49968234  0.49967286  0.50009269  0.49980518\n",
       "     0.5001691   0.50001276  0.50042057  0.50010079  0.50002486  0.49990228\n",
       "     0.50001448  0.49998522  0.50003862  0.49982089]\n",
       "   [ 0.50009346  0.50028682  0.5002405   0.50019217  0.50018293  0.50007784\n",
       "     0.50012064  0.50011951  0.50011647  0.50015646  0.50012511  0.50012702\n",
       "     0.5001452   0.50009775  0.49995852  0.50019079  0.50017941  0.50023407\n",
       "     0.49982029  0.50013846  0.50007874  0.50010276  0.49995488  0.50012392\n",
       "     0.50020355  0.50011492  0.50006187  0.50004864]\n",
       "   [ 0.50007737  0.50001484  0.50025773  0.50002939  0.50027972  0.50012141\n",
       "     0.50013632  0.49985901  0.50002795  0.50004023  0.50003076  0.49981493\n",
       "     0.50007468  0.50019717  0.50008726  0.49985912  0.50010055  0.50010997\n",
       "     0.50004917  0.49994463  0.49986604  0.50011426  0.50012112  0.49999541\n",
       "     0.50007951  0.50010449  0.5000599   0.49997675]\n",
       "   [ 0.50001067  0.50013065  0.50006884  0.50005811  0.50010043  0.50003809\n",
       "     0.50012589  0.50006115  0.49993908  0.5001139   0.50005239  0.50004423\n",
       "     0.50010389  0.50015306  0.50014484  0.50003392  0.50013071  0.500175\n",
       "     0.50017041  0.50003874  0.49993378  0.50002271  0.49997938  0.49998343\n",
       "     0.49999565  0.50011665  0.49998403  0.50004673]]]]\n",
       "<NDArray 1x1x28x28 @gpu(0)>"
      ]
     },
     "execution_count": 28,
     "metadata": {},
     "output_type": "execute_result"
    }
   ],
   "source": [
    "test_gen"
   ]
  },
  {
   "cell_type": "code",
   "execution_count": null,
   "metadata": {
    "ExecuteTime": {
     "start_time": "2018-01-14T02:19:39.997Z"
    },
    "collapsed": true
   },
   "outputs": [],
   "source": [
    "import matplotlib.pyplot as plt\n",
    "%matplotlib inline\n",
    "\n",
    "def model_predict(net,data):\n",
    "    output = dec(data.as_in_context(model_ctx))\n",
    "    return nd.argmax(output, axis=1)\n",
    "\n",
    "NUM_EXAMPLES = 10\n",
    "# let's sample 10 random data points from the test set\n",
    "sample_data = mx.gluon.data.DataLoader(mx.gluon.data.vision.MNIST(train=False, transform=transform),\n",
    "                              NUM_EXAMPLES, shuffle=True)\n",
    "\n",
    "for i, (data, label) in enumerate(sample_data):\n",
    "    data = data.as_in_context(gpu_ctx)\n",
    "    data_t = nd.transpose(data, (0, 2, 3, 1))\n",
    "    im1 = nd.transpose(data,(1, 0, 2, 3))\n",
    "    im1 = nd.reshape(im1,(28, NUM_EXAMPLES * 28,1))\n",
    "    imtiles1 = nd.tile(im1, (1,1,3))\n",
    "    \n",
    "    gen, _, _ = vae(data)\n",
    "    gen_t = nd.transpose(gen, (0, 2, 3, 1))\n",
    "    im2 = nd.transpose(gen_t,(1, 0, 2, 3))\n",
    "    im2 = nd.reshape(im2,(28, NUM_EXAMPLES * 28, 1))\n",
    "    imtiles2 = nd.tile(im2, (1,1,3))\n",
    "    \n",
    "    f, (plt1, plt2) = plt.subplots(2, 1)\n",
    "    plt1.imshow(imtiles1.asnumpy())\n",
    "    plt2.imshow(imtiles2.asnumpy())\n",
    "    f.show()\n",
    "    #pred=model_predict(net,data.reshape((-1,784)))\n",
    "    #print('model predictions are:', pred)\n",
    "    break"
   ]
  },
  {
   "cell_type": "code",
   "execution_count": null,
   "metadata": {
    "collapsed": true
   },
   "outputs": [],
   "source": []
  }
 ],
 "metadata": {
  "anaconda-cloud": {},
  "kernelspec": {
   "display_name": "Python [conda env:kion_venv_mxnet]",
   "language": "python",
   "name": "conda-env-kion_venv_mxnet-py"
  },
  "language_info": {
   "codemirror_mode": {
    "name": "ipython",
    "version": 3
   },
   "file_extension": ".py",
   "mimetype": "text/x-python",
   "name": "python",
   "nbconvert_exporter": "python",
   "pygments_lexer": "ipython3",
   "version": "3.6.3"
  },
  "toc": {
   "nav_menu": {},
   "number_sections": true,
   "sideBar": true,
   "skip_h1_title": false,
   "toc_cell": false,
   "toc_position": {},
   "toc_section_display": "block",
   "toc_window_display": false
  }
 },
 "nbformat": 4,
 "nbformat_minor": 2
}
