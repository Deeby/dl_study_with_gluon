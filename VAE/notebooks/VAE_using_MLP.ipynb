{
 "cells": [
  {
   "cell_type": "markdown",
   "metadata": {},
   "source": [
    "# VAE - MLP"
   ]
  },
  {
   "cell_type": "code",
   "execution_count": 1,
   "metadata": {
    "ExecuteTime": {
     "end_time": "2018-01-14T23:12:46.302023Z",
     "start_time": "2018-01-14T23:12:45.493603Z"
    }
   },
   "outputs": [
    {
     "name": "stderr",
     "output_type": "stream",
     "text": [
      "/home/kionkim/anaconda3/envs/kion_venv_mxnet/lib/python3.6/site-packages/urllib3/contrib/pyopenssl.py:46: DeprecationWarning: OpenSSL.rand is deprecated - you should use os.urandom instead\n",
      "  import OpenSSL.SSL\n"
     ]
    }
   ],
   "source": [
    "import mxnet as mx\n",
    "from mxnet import nd, autograd, gluon\n",
    "import numpy as np\n",
    "from tqdm import tqdm\n",
    "\n",
    "gpu_ctx = mx.gpu(0)\n",
    "cpu_ctx = mx.cpu(0)"
   ]
  },
  {
   "cell_type": "markdown",
   "metadata": {},
   "source": [
    "# Parameters"
   ]
  },
  {
   "cell_type": "code",
   "execution_count": 17,
   "metadata": {
    "ExecuteTime": {
     "end_time": "2018-01-14T23:17:26.319879Z",
     "start_time": "2018-01-14T23:17:26.312997Z"
    },
    "collapsed": true
   },
   "outputs": [],
   "source": [
    "FILTERS = 64\n",
    "LATENT_DIM = 2\n",
    "HIDDEN_DIM = 400\n",
    "INTPUT_DIM = 28 * 28\n",
    "OUTPUT_DIM = 28 * 28\n",
    "BATCH_SIZE = 100\n",
    "IMG_CHNS = 1"
   ]
  },
  {
   "cell_type": "markdown",
   "metadata": {},
   "source": [
    "# Define functions"
   ]
  },
  {
   "cell_type": "code",
   "execution_count": 18,
   "metadata": {
    "ExecuteTime": {
     "end_time": "2018-01-14T23:17:27.542727Z",
     "start_time": "2018-01-14T23:17:27.485263Z"
    },
    "collapsed": true
   },
   "outputs": [],
   "source": [
    "def vae_loss(x, x_gen, z_mean, log_z_var):\n",
    "    x = nd.flatten(x)\n",
    "    x_gen = nd.flatten(x_gen)\n",
    "    #print('x shape = {}'.format(x.shape))\n",
    "    #print('x_gen sahpe = {}'.format(x_gen.shape))\n",
    "    # D_KL(q(z|X) || p(z))\n",
    "    kl_loss = -0.5 * nd.sum(1 + log_z_var - nd.square(z_mean) - nd.exp(log_z_var), axis = 1)\n",
    "    # E(log p(X|z))\n",
    "    log_loss = - nd.sum(x* nd.log(x_gen + 1e-6)+ (1-x)*nd.log(1-x_gen + 1e-6), axis=1)\n",
    "    return nd.sum(kl_loss + log_loss)\n",
    "\n",
    "def sample_z(args):\n",
    "    mean, log_var, batch_size, latent_dim = args\n",
    "    eps = nd.random_normal(shape = (batch_size, latent_dim), loc = 0., scale = 1., ctx = gpu_ctx)\n",
    "    #print(eps[0:5].asnumpy())\n",
    "    #print(log_var.shape)\n",
    "    #print(mean.shape)\n",
    "    #print(eps.shape)\n",
    "    return mean + nd.exp(log_var / 2) * eps\n",
    "\n",
    "class sample_layer(gluon.Block):\n",
    "    def __init__(self, *args):\n",
    "        super(sample_layer, self).__init__(*args)\n",
    "        self.args = args\n",
    "\n",
    "    def forward(self, x):\n",
    "        return sample_z(self.args)"
   ]
  },
  {
   "cell_type": "markdown",
   "metadata": {},
   "source": [
    "# Load Dataset\n",
    "* transform 함수는 한개의 data에 대해 적용됨\n",
    "* BATCH SIZE는 무시하고 dimension 변환\n"
   ]
  },
  {
   "cell_type": "code",
   "execution_count": 19,
   "metadata": {
    "ExecuteTime": {
     "end_time": "2018-01-14T23:17:29.336585Z",
     "start_time": "2018-01-14T23:17:28.363855Z"
    },
    "collapsed": true
   },
   "outputs": [],
   "source": [
    "mnist = mx.test_utils.get_mnist()\n",
    "\n",
    "def transform(data, label):\n",
    "    #print(data.shape)\n",
    "    res = nd.transpose(data, (2, 0, 1))\n",
    "    res = res.astype(np.float32) / 255\n",
    "    return res, label\n",
    "\n",
    "# lambda data, label: (data.astype(np.float32)/255, label)\n",
    "train_data = mx.gluon.data.DataLoader( \\\n",
    "                 mx.gluon.data.vision.MNIST( \\\n",
    "                     train = True, \\\n",
    "                     transform = transform), \\\n",
    "                     BATCH_SIZE, shuffle = True)\n",
    "\n",
    "test_data = mx.gluon.data.DataLoader( \\\n",
    "                 mx.gluon.data.vision.MNIST( \\\n",
    "                     train = False, transform = transform), \\\n",
    "                     BATCH_SIZE, shuffle=False)"
   ]
  },
  {
   "cell_type": "markdown",
   "metadata": {},
   "source": [
    "# Define Encoder"
   ]
  },
  {
   "cell_type": "code",
   "execution_count": 20,
   "metadata": {
    "ExecuteTime": {
     "end_time": "2018-01-14T23:17:29.351639Z",
     "start_time": "2018-01-14T23:17:29.338073Z"
    },
    "collapsed": true
   },
   "outputs": [],
   "source": [
    "class Encoder(gluon.Block):\n",
    "    def __init__(self, filters, latent_dim, **kwarg):\n",
    "        super(Encoder, self).__init__(**kwarg)\n",
    "        with self.name_scope():\n",
    "            # in_channel: 나중에 판단\n",
    "            # layout: NCHW\n",
    "            self.dense_1 = gluon.nn.Dense(units = HIDDEN_DIM, activation = 'relu')\n",
    "            self.dense_2 = gluon.nn.Dense(units = 2 * latent_dim, activation = None)\n",
    "            \n",
    "    def forward(self, x):\n",
    "        #print(\"input shape : {}\".format(x.shape))\n",
    "        x = self.dense_1(x)\n",
    "        #print(\"conv2D_1 shape : {}\".format(x.shape))\n",
    "        x = self.dense_2(x)\n",
    "        return x"
   ]
  },
  {
   "cell_type": "markdown",
   "metadata": {},
   "source": [
    "## check encoder dimensions"
   ]
  },
  {
   "cell_type": "code",
   "execution_count": 21,
   "metadata": {
    "ExecuteTime": {
     "end_time": "2018-01-14T23:17:30.487903Z",
     "start_time": "2018-01-14T23:17:30.469246Z"
    }
   },
   "outputs": [
    {
     "name": "stdout",
     "output_type": "stream",
     "text": [
      "Encoder(\n",
      "  (dense_1): Dense(None -> 400, Activation(relu))\n",
      "  (dense_2): Dense(None -> 4, linear)\n",
      ")\n"
     ]
    },
    {
     "data": {
      "text/plain": [
       "(1, 4)"
      ]
     },
     "execution_count": 21,
     "metadata": {},
     "output_type": "execute_result"
    }
   ],
   "source": [
    "enc = Encoder(FILTERS, LATENT_DIM)\n",
    "print(enc)\n",
    "enc.collect_params().initialize(mx.init.Xavier(), ctx = gpu_ctx)\n",
    "test_input = nd.random_normal(0,1,(1, 1, 28, 28), ctx = gpu_ctx)\n",
    "enc(test_input).shape"
   ]
  },
  {
   "cell_type": "markdown",
   "metadata": {},
   "source": [
    "# Define Decoder\n",
    "* in_units는 설정하지 않음\n",
    "* 여러 block을 사용할 것이므로, name_scope를 꼭 사용"
   ]
  },
  {
   "cell_type": "code",
   "execution_count": 22,
   "metadata": {
    "ExecuteTime": {
     "end_time": "2018-01-14T23:17:35.695234Z",
     "start_time": "2018-01-14T23:17:35.671741Z"
    },
    "collapsed": true
   },
   "outputs": [],
   "source": [
    "class Decoder(gluon.Block):\n",
    "    def __init__(self, hidden_dim, output_dim, **kwargs):\n",
    "        super(Decoder, self).__init__(**kwargs)\n",
    "        with self.name_scope():\n",
    "            self.dense_1 = gluon.nn.Dense(units = hidden_dim, activation = 'relu')\n",
    "            # Output을 0과 1 사이로 맞추었으므로..\n",
    "            self.dense_2 = gluon.nn.Dense(units = output_dim, activation = 'sigmoid')\n",
    "    \n",
    "    def forward(self, x):\n",
    "        x = self.dense_1(x)\n",
    "        #print('after dense1....%s'%str(x.shape))\n",
    "        x = self.dense_2(x)\n",
    "        #print('after dense2.... %s'%str(x.shape))\n",
    "        return x"
   ]
  },
  {
   "cell_type": "markdown",
   "metadata": {},
   "source": [
    "## Check decoder dimensions\n",
    "* 4-dim으로 reshape NCHW\n",
    "* decoder의 input으로 (-1, HIDDEN_DIM)으로 변환해서 넣어주어야 함 (data.reshape(-1, HIDDEN_DIM) 이용)"
   ]
  },
  {
   "cell_type": "code",
   "execution_count": 23,
   "metadata": {
    "ExecuteTime": {
     "end_time": "2018-01-14T23:17:37.180271Z",
     "start_time": "2018-01-14T23:17:37.158082Z"
    },
    "scrolled": true
   },
   "outputs": [
    {
     "name": "stdout",
     "output_type": "stream",
     "text": [
      "Decoder(\n",
      "  (dense_1): Dense(None -> 400, Activation(relu))\n",
      "  (dense_2): Dense(None -> 784, Activation(sigmoid))\n",
      ")\n"
     ]
    },
    {
     "data": {
      "text/plain": [
       "(1, 784)"
      ]
     },
     "execution_count": 23,
     "metadata": {},
     "output_type": "execute_result"
    }
   ],
   "source": [
    "dec = Decoder(HIDDEN_DIM, OUTPUT_DIM)\n",
    "print(dec)\n",
    "dec.collect_params().initialize(mx.init.Xavier(magnitude=2.24), ctx = gpu_ctx)\n",
    "# Simulate dimension\n",
    "test_input = nd.random_normal(0,1,shape= LATENT_DIM, ctx = gpu_ctx)\n",
    "test_input = test_input.reshape((-1, LATENT_DIM))\n",
    "dec(test_input).shape"
   ]
  },
  {
   "cell_type": "code",
   "execution_count": 24,
   "metadata": {
    "ExecuteTime": {
     "end_time": "2018-01-14T23:17:38.486742Z",
     "start_time": "2018-01-14T23:17:38.428314Z"
    },
    "collapsed": true
   },
   "outputs": [],
   "source": [
    "# Batch size가 필요함\n",
    "# name_scope를 사용해야 함\n",
    "class VAE(gluon.Block):\n",
    "    def __init__(self, batch_size, filters, latent_dim, output_dim, **kwargs):\n",
    "        super(VAE, self).__init__(**kwargs)\n",
    "        with self.name_scope():\n",
    "            self.enc = Encoder(filters, latent_dim)\n",
    "            self.dec = Decoder(filters, output_dim)\n",
    "            self.latent_dim = latent_dim\n",
    "            self.batch_size = batch_size\n",
    "            # 어떤 모양으로 들어올지 모르기 때문\n",
    "            self.z_mean = nd.zeros((batch_size, latent_dim), ctx = gpu_ctx)\n",
    "            self.log_z_var = nd.zeros((batch_size, latent_dim), ctx = gpu_ctx)\n",
    "        \n",
    "    def forward(self, x):\n",
    "        x = self.enc(x)\n",
    "        #print('x\\'s shape after enc = {}'.format(x.shape))\n",
    "        self.z_mean = x.slice(begin = (None, 0), end = (None, self.latent_dim))\n",
    "        self.log_z_var = x.slice(begin = (None, self.latent_dim), end = (None, 2 * self.latent_dim))\n",
    "        z = sample_z([self.z_mean, self.log_z_var, self.batch_size, self.latent_dim])\n",
    "        #print('z\\'s shape = {}'.format(z.shape))\n",
    "        #print('z_mean\\'s shape = {}'.format(self.log_z_var.shape))\n",
    "        #print('log_z_var\\'s shape = {}'.format(self.log_z_var.shape))\n",
    "        x_gen = self.dec(z)\n",
    "        #print('x_gen dim = {}'.format(x_gen.shape))\n",
    "        return x_gen, self.z_mean, self.log_z_var"
   ]
  },
  {
   "cell_type": "code",
   "execution_count": 25,
   "metadata": {
    "ExecuteTime": {
     "end_time": "2018-01-14T23:17:39.457940Z",
     "start_time": "2018-01-14T23:17:39.451759Z"
    }
   },
   "outputs": [
    {
     "name": "stdout",
     "output_type": "stream",
     "text": [
      "VAE(\n",
      "  (enc): Encoder(\n",
      "    (dense_1): Dense(None -> 400, Activation(relu))\n",
      "    (dense_2): Dense(None -> 4, linear)\n",
      "  )\n",
      "  (dec): Decoder(\n",
      "    (dense_1): Dense(None -> 64, Activation(relu))\n",
      "    (dense_2): Dense(None -> 784, Activation(sigmoid))\n",
      "  )\n",
      ")\n"
     ]
    }
   ],
   "source": [
    "vae = VAE(BATCH_SIZE, FILTERS, LATENT_DIM, OUTPUT_DIM)\n",
    "print(vae)"
   ]
  },
  {
   "cell_type": "markdown",
   "metadata": {},
   "source": [
    "## Check VAE dimensions"
   ]
  },
  {
   "cell_type": "code",
   "execution_count": 26,
   "metadata": {
    "ExecuteTime": {
     "end_time": "2018-01-14T23:17:41.387560Z",
     "start_time": "2018-01-14T23:17:41.355429Z"
    }
   },
   "outputs": [
    {
     "data": {
      "text/plain": [
       "(\n",
       " [[ 0.51410234  0.46730569  0.51772511 ...,  0.50521892  0.51079309\n",
       "    0.52281427]\n",
       "  [ 0.5036599   0.48623547  0.52050537 ...,  0.47291693  0.51344115\n",
       "    0.54799575]\n",
       "  [ 0.50336713  0.48869273  0.51599097 ...,  0.47997227  0.51012146\n",
       "    0.53611207]\n",
       "  ..., \n",
       "  [ 0.50175244  0.48753971  0.52073842 ...,  0.46332294  0.51927114\n",
       "    0.56098485]\n",
       "  [ 0.49411267  0.49284729  0.50532824 ...,  0.46985227  0.52110261\n",
       "    0.54699606]\n",
       "  [ 0.50211847  0.4829722   0.52835745 ...,  0.4484258   0.52727866\n",
       "    0.58503771]]\n",
       " <NDArray 100x784 @gpu(0)>, \n",
       " [[ 1.17455363  2.25554347]]\n",
       " <NDArray 1x2 @gpu(0)>, \n",
       " [[-0.55074334 -0.30240154]]\n",
       " <NDArray 1x2 @gpu(0)>)"
      ]
     },
     "execution_count": 26,
     "metadata": {},
     "output_type": "execute_result"
    }
   ],
   "source": [
    "# Simulate dimension\n",
    "test_input = nd.random_normal(0,1,shape= (1, 28 * 28), ctx = gpu_ctx)\n",
    "vae.collect_params().initialize(mx.init.Xavier(magnitude= 2.24), ctx = gpu_ctx)\n",
    "vae(test_input)"
   ]
  },
  {
   "cell_type": "markdown",
   "metadata": {},
   "source": [
    "# Define Trainer"
   ]
  },
  {
   "cell_type": "code",
   "execution_count": 27,
   "metadata": {
    "ExecuteTime": {
     "end_time": "2018-01-14T23:17:43.515502Z",
     "start_time": "2018-01-14T23:17:43.511263Z"
    },
    "collapsed": true
   },
   "outputs": [],
   "source": [
    "trainer = gluon.Trainer(vae.collect_params(), 'adam', {'learning_rate': .001})"
   ]
  },
  {
   "cell_type": "markdown",
   "metadata": {},
   "source": [
    "# Training"
   ]
  },
  {
   "cell_type": "code",
   "execution_count": 28,
   "metadata": {
    "ExecuteTime": {
     "end_time": "2018-01-14T23:35:02.849278Z",
     "start_time": "2018-01-14T23:17:44.519775Z"
    }
   },
   "outputs": [
    {
     "name": "stderr",
     "output_type": "stream",
     "text": [
      "  1%|          | 1/100 [00:10<16:59, 10.29s/it]"
     ]
    },
    {
     "name": "stdout",
     "output_type": "stream",
     "text": [
      "epoch: 0, cur_loss = [ 54350.09375]\n"
     ]
    },
    {
     "name": "stderr",
     "output_type": "stream",
     "text": [
      "  2%|▏         | 2/100 [00:20<16:47, 10.28s/it]"
     ]
    },
    {
     "name": "stdout",
     "output_type": "stream",
     "text": [
      "epoch: 1, cur_loss = [ 54163.58203125]\n"
     ]
    },
    {
     "name": "stderr",
     "output_type": "stream",
     "text": [
      "  3%|▎         | 3/100 [00:29<16:07,  9.97s/it]"
     ]
    },
    {
     "name": "stdout",
     "output_type": "stream",
     "text": [
      "epoch: 2, cur_loss = [ 53940.5859375]\n"
     ]
    },
    {
     "name": "stderr",
     "output_type": "stream",
     "text": [
      "  4%|▍         | 4/100 [00:40<16:17, 10.18s/it]"
     ]
    },
    {
     "name": "stdout",
     "output_type": "stream",
     "text": [
      "epoch: 3, cur_loss = [ 53577.5546875]\n"
     ]
    },
    {
     "name": "stderr",
     "output_type": "stream",
     "text": [
      "  5%|▌         | 5/100 [00:51<16:13, 10.25s/it]"
     ]
    },
    {
     "name": "stdout",
     "output_type": "stream",
     "text": [
      "epoch: 4, cur_loss = [ 53290.1953125]\n"
     ]
    },
    {
     "name": "stderr",
     "output_type": "stream",
     "text": [
      "  6%|▌         | 6/100 [01:01<16:02, 10.24s/it]"
     ]
    },
    {
     "name": "stdout",
     "output_type": "stream",
     "text": [
      "epoch: 5, cur_loss = [ 52874.20703125]\n"
     ]
    },
    {
     "name": "stderr",
     "output_type": "stream",
     "text": [
      "  7%|▋         | 7/100 [01:11<15:53, 10.25s/it]"
     ]
    },
    {
     "name": "stdout",
     "output_type": "stream",
     "text": [
      "epoch: 6, cur_loss = [ 52159.8359375]\n"
     ]
    },
    {
     "name": "stderr",
     "output_type": "stream",
     "text": [
      "  8%|▊         | 8/100 [01:21<15:38, 10.20s/it]"
     ]
    },
    {
     "name": "stdout",
     "output_type": "stream",
     "text": [
      "epoch: 7, cur_loss = [ 51623.296875]\n"
     ]
    },
    {
     "name": "stderr",
     "output_type": "stream",
     "text": [
      "  9%|▉         | 9/100 [01:31<15:28, 10.21s/it]"
     ]
    },
    {
     "name": "stdout",
     "output_type": "stream",
     "text": [
      "epoch: 8, cur_loss = [ 50863.046875]\n"
     ]
    },
    {
     "name": "stderr",
     "output_type": "stream",
     "text": [
      " 10%|█         | 10/100 [01:41<15:10, 10.12s/it]"
     ]
    },
    {
     "name": "stdout",
     "output_type": "stream",
     "text": [
      "epoch: 9, cur_loss = [ 50127.8359375]\n"
     ]
    },
    {
     "name": "stderr",
     "output_type": "stream",
     "text": [
      " 11%|█         | 11/100 [01:51<15:00, 10.11s/it]"
     ]
    },
    {
     "name": "stdout",
     "output_type": "stream",
     "text": [
      "epoch: 10, cur_loss = [ 49138.59375]\n"
     ]
    },
    {
     "name": "stderr",
     "output_type": "stream",
     "text": [
      " 12%|█▏        | 12/100 [02:01<14:54, 10.16s/it]"
     ]
    },
    {
     "name": "stdout",
     "output_type": "stream",
     "text": [
      "epoch: 11, cur_loss = [ 48158.03125]\n"
     ]
    },
    {
     "name": "stderr",
     "output_type": "stream",
     "text": [
      " 13%|█▎        | 13/100 [02:12<14:43, 10.16s/it]"
     ]
    },
    {
     "name": "stdout",
     "output_type": "stream",
     "text": [
      "epoch: 12, cur_loss = [ 46966.38671875]\n"
     ]
    },
    {
     "name": "stderr",
     "output_type": "stream",
     "text": [
      " 14%|█▍        | 14/100 [02:23<14:42, 10.27s/it]"
     ]
    },
    {
     "name": "stdout",
     "output_type": "stream",
     "text": [
      "epoch: 13, cur_loss = [ 46420.2890625]\n"
     ]
    },
    {
     "name": "stderr",
     "output_type": "stream",
     "text": [
      " 15%|█▌        | 15/100 [02:34<14:35, 10.29s/it]"
     ]
    },
    {
     "name": "stdout",
     "output_type": "stream",
     "text": [
      "epoch: 14, cur_loss = [ 44945.2734375]\n"
     ]
    },
    {
     "name": "stderr",
     "output_type": "stream",
     "text": [
      " 16%|█▌        | 16/100 [02:44<14:24, 10.29s/it]"
     ]
    },
    {
     "name": "stdout",
     "output_type": "stream",
     "text": [
      "epoch: 15, cur_loss = [ 43772.578125]\n"
     ]
    },
    {
     "name": "stderr",
     "output_type": "stream",
     "text": [
      " 17%|█▋        | 17/100 [02:54<14:10, 10.25s/it]"
     ]
    },
    {
     "name": "stdout",
     "output_type": "stream",
     "text": [
      "epoch: 16, cur_loss = [ 43327.75]\n"
     ]
    },
    {
     "name": "stderr",
     "output_type": "stream",
     "text": [
      " 18%|█▊        | 18/100 [03:04<14:01, 10.27s/it]"
     ]
    },
    {
     "name": "stdout",
     "output_type": "stream",
     "text": [
      "epoch: 17, cur_loss = [ 42225.8828125]\n"
     ]
    },
    {
     "name": "stderr",
     "output_type": "stream",
     "text": [
      " 19%|█▉        | 19/100 [03:15<13:51, 10.26s/it]"
     ]
    },
    {
     "name": "stdout",
     "output_type": "stream",
     "text": [
      "epoch: 18, cur_loss = [ 41305.35546875]\n"
     ]
    },
    {
     "name": "stderr",
     "output_type": "stream",
     "text": [
      " 20%|██        | 20/100 [03:25<13:42, 10.28s/it]"
     ]
    },
    {
     "name": "stdout",
     "output_type": "stream",
     "text": [
      "epoch: 19, cur_loss = [ 39821.390625]\n"
     ]
    },
    {
     "name": "stderr",
     "output_type": "stream",
     "text": [
      " 21%|██        | 21/100 [03:35<13:31, 10.27s/it]"
     ]
    },
    {
     "name": "stdout",
     "output_type": "stream",
     "text": [
      "epoch: 20, cur_loss = [ 39837.984375]\n"
     ]
    },
    {
     "name": "stderr",
     "output_type": "stream",
     "text": [
      " 22%|██▏       | 22/100 [03:55<13:55, 10.71s/it]"
     ]
    },
    {
     "name": "stdout",
     "output_type": "stream",
     "text": [
      "epoch: 21, cur_loss = [ 37897.546875]\n"
     ]
    },
    {
     "name": "stderr",
     "output_type": "stream",
     "text": [
      " 23%|██▎       | 23/100 [04:06<13:44, 10.71s/it]"
     ]
    },
    {
     "name": "stdout",
     "output_type": "stream",
     "text": [
      "epoch: 22, cur_loss = [ 37402.58984375]\n"
     ]
    },
    {
     "name": "stderr",
     "output_type": "stream",
     "text": [
      " 24%|██▍       | 24/100 [04:16<13:33, 10.70s/it]"
     ]
    },
    {
     "name": "stdout",
     "output_type": "stream",
     "text": [
      "epoch: 23, cur_loss = [ 36430.66796875]\n"
     ]
    },
    {
     "name": "stderr",
     "output_type": "stream",
     "text": [
      " 25%|██▌       | 25/100 [04:27<13:22, 10.70s/it]"
     ]
    },
    {
     "name": "stdout",
     "output_type": "stream",
     "text": [
      "epoch: 24, cur_loss = [ 36095.6640625]\n"
     ]
    },
    {
     "name": "stderr",
     "output_type": "stream",
     "text": [
      " 26%|██▌       | 26/100 [04:40<13:18, 10.79s/it]"
     ]
    },
    {
     "name": "stdout",
     "output_type": "stream",
     "text": [
      "epoch: 25, cur_loss = [ 35126.5390625]\n"
     ]
    },
    {
     "name": "stderr",
     "output_type": "stream",
     "text": [
      " 27%|██▋       | 27/100 [04:51<13:06, 10.78s/it]"
     ]
    },
    {
     "name": "stdout",
     "output_type": "stream",
     "text": [
      "epoch: 26, cur_loss = [ 34470.4609375]\n"
     ]
    },
    {
     "name": "stderr",
     "output_type": "stream",
     "text": [
      " 28%|██▊       | 28/100 [05:00<12:53, 10.74s/it]"
     ]
    },
    {
     "name": "stdout",
     "output_type": "stream",
     "text": [
      "epoch: 27, cur_loss = [ 33599.69921875]\n"
     ]
    },
    {
     "name": "stderr",
     "output_type": "stream",
     "text": [
      " 29%|██▉       | 29/100 [05:09<12:38, 10.69s/it]"
     ]
    },
    {
     "name": "stdout",
     "output_type": "stream",
     "text": [
      "epoch: 28, cur_loss = [ 33913.62109375]\n"
     ]
    },
    {
     "name": "stderr",
     "output_type": "stream",
     "text": [
      " 30%|███       | 30/100 [05:19<12:24, 10.64s/it]"
     ]
    },
    {
     "name": "stdout",
     "output_type": "stream",
     "text": [
      "epoch: 29, cur_loss = [ 32692.48632812]\n"
     ]
    },
    {
     "name": "stderr",
     "output_type": "stream",
     "text": [
      " 31%|███       | 31/100 [05:28<12:11, 10.60s/it]"
     ]
    },
    {
     "name": "stdout",
     "output_type": "stream",
     "text": [
      "epoch: 30, cur_loss = [ 32491.48828125]\n"
     ]
    },
    {
     "name": "stderr",
     "output_type": "stream",
     "text": [
      " 32%|███▏      | 32/100 [05:39<12:02, 10.62s/it]"
     ]
    },
    {
     "name": "stdout",
     "output_type": "stream",
     "text": [
      "epoch: 31, cur_loss = [ 31703.796875]\n"
     ]
    },
    {
     "name": "stderr",
     "output_type": "stream",
     "text": [
      " 33%|███▎      | 33/100 [05:50<11:51, 10.62s/it]"
     ]
    },
    {
     "name": "stdout",
     "output_type": "stream",
     "text": [
      "epoch: 32, cur_loss = [ 30773.55078125]\n"
     ]
    },
    {
     "name": "stderr",
     "output_type": "stream",
     "text": [
      " 34%|███▍      | 34/100 [06:01<11:42, 10.64s/it]"
     ]
    },
    {
     "name": "stdout",
     "output_type": "stream",
     "text": [
      "epoch: 33, cur_loss = [ 31209.1484375]\n"
     ]
    },
    {
     "name": "stderr",
     "output_type": "stream",
     "text": [
      " 35%|███▌      | 35/100 [06:12<11:31, 10.64s/it]"
     ]
    },
    {
     "name": "stdout",
     "output_type": "stream",
     "text": [
      "epoch: 34, cur_loss = [ 30360.81054688]\n"
     ]
    },
    {
     "name": "stderr",
     "output_type": "stream",
     "text": [
      " 36%|███▌      | 36/100 [06:22<11:20, 10.63s/it]"
     ]
    },
    {
     "name": "stdout",
     "output_type": "stream",
     "text": [
      "epoch: 35, cur_loss = [ 30323.83203125]\n"
     ]
    },
    {
     "name": "stderr",
     "output_type": "stream",
     "text": [
      " 37%|███▋      | 37/100 [06:32<11:08, 10.62s/it]"
     ]
    },
    {
     "name": "stdout",
     "output_type": "stream",
     "text": [
      "epoch: 36, cur_loss = [ 30259.97265625]\n"
     ]
    },
    {
     "name": "stderr",
     "output_type": "stream",
     "text": [
      " 38%|███▊      | 38/100 [06:43<10:58, 10.63s/it]"
     ]
    },
    {
     "name": "stdout",
     "output_type": "stream",
     "text": [
      "epoch: 37, cur_loss = [ 29723.73632812]\n"
     ]
    },
    {
     "name": "stderr",
     "output_type": "stream",
     "text": [
      " 39%|███▉      | 39/100 [06:54<10:48, 10.63s/it]"
     ]
    },
    {
     "name": "stdout",
     "output_type": "stream",
     "text": [
      "epoch: 38, cur_loss = [ 29924.18359375]\n"
     ]
    },
    {
     "name": "stderr",
     "output_type": "stream",
     "text": [
      " 40%|████      | 40/100 [07:05<10:37, 10.63s/it]"
     ]
    },
    {
     "name": "stdout",
     "output_type": "stream",
     "text": [
      "epoch: 39, cur_loss = [ 28822.0390625]\n"
     ]
    },
    {
     "name": "stderr",
     "output_type": "stream",
     "text": [
      " 41%|████      | 41/100 [07:15<10:26, 10.61s/it]"
     ]
    },
    {
     "name": "stdout",
     "output_type": "stream",
     "text": [
      "epoch: 40, cur_loss = [ 28872.8203125]\n"
     ]
    },
    {
     "name": "stderr",
     "output_type": "stream",
     "text": [
      " 42%|████▏     | 42/100 [07:26<10:16, 10.63s/it]"
     ]
    },
    {
     "name": "stdout",
     "output_type": "stream",
     "text": [
      "epoch: 41, cur_loss = [ 28190.58984375]\n"
     ]
    },
    {
     "name": "stderr",
     "output_type": "stream",
     "text": [
      " 43%|████▎     | 43/100 [07:39<10:08, 10.67s/it]"
     ]
    },
    {
     "name": "stdout",
     "output_type": "stream",
     "text": [
      "epoch: 42, cur_loss = [ 29409.578125]\n"
     ]
    },
    {
     "name": "stderr",
     "output_type": "stream",
     "text": [
      " 44%|████▍     | 44/100 [07:49<09:57, 10.66s/it]"
     ]
    },
    {
     "name": "stdout",
     "output_type": "stream",
     "text": [
      "epoch: 43, cur_loss = [ 28821.5546875]\n"
     ]
    },
    {
     "name": "stderr",
     "output_type": "stream",
     "text": [
      " 45%|████▌     | 45/100 [07:58<09:44, 10.63s/it]"
     ]
    },
    {
     "name": "stdout",
     "output_type": "stream",
     "text": [
      "epoch: 44, cur_loss = [ 28222.65625]\n"
     ]
    },
    {
     "name": "stderr",
     "output_type": "stream",
     "text": [
      " 46%|████▌     | 46/100 [08:09<09:34, 10.63s/it]"
     ]
    },
    {
     "name": "stdout",
     "output_type": "stream",
     "text": [
      "epoch: 45, cur_loss = [ 28426.921875]\n"
     ]
    },
    {
     "name": "stderr",
     "output_type": "stream",
     "text": [
      " 47%|████▋     | 47/100 [08:19<09:22, 10.62s/it]"
     ]
    },
    {
     "name": "stdout",
     "output_type": "stream",
     "text": [
      "epoch: 46, cur_loss = [ 27202.42578125]\n"
     ]
    },
    {
     "name": "stderr",
     "output_type": "stream",
     "text": [
      " 48%|████▊     | 48/100 [08:28<09:11, 10.60s/it]"
     ]
    },
    {
     "name": "stdout",
     "output_type": "stream",
     "text": [
      "epoch: 47, cur_loss = [ 27202.1484375]\n"
     ]
    },
    {
     "name": "stderr",
     "output_type": "stream",
     "text": [
      " 49%|████▉     | 49/100 [08:38<08:59, 10.58s/it]"
     ]
    },
    {
     "name": "stdout",
     "output_type": "stream",
     "text": [
      "epoch: 48, cur_loss = [ 27555.79296875]\n"
     ]
    },
    {
     "name": "stderr",
     "output_type": "stream",
     "text": [
      " 50%|█████     | 50/100 [08:47<08:47, 10.56s/it]"
     ]
    },
    {
     "name": "stdout",
     "output_type": "stream",
     "text": [
      "epoch: 49, cur_loss = [ 27851.95507812]\n"
     ]
    },
    {
     "name": "stderr",
     "output_type": "stream",
     "text": [
      " 51%|█████     | 51/100 [08:57<08:36, 10.53s/it]"
     ]
    },
    {
     "name": "stdout",
     "output_type": "stream",
     "text": [
      "epoch: 50, cur_loss = [ 26961.08984375]\n"
     ]
    },
    {
     "name": "stderr",
     "output_type": "stream",
     "text": [
      " 52%|█████▏    | 52/100 [09:06<08:24, 10.52s/it]"
     ]
    },
    {
     "name": "stdout",
     "output_type": "stream",
     "text": [
      "epoch: 51, cur_loss = [ 26632.52929688]\n"
     ]
    },
    {
     "name": "stderr",
     "output_type": "stream",
     "text": [
      " 53%|█████▎    | 53/100 [09:16<08:13, 10.50s/it]"
     ]
    },
    {
     "name": "stdout",
     "output_type": "stream",
     "text": [
      "epoch: 52, cur_loss = [ 27087.64257812]\n"
     ]
    },
    {
     "name": "stderr",
     "output_type": "stream",
     "text": [
      " 54%|█████▍    | 54/100 [09:26<08:02, 10.48s/it]"
     ]
    },
    {
     "name": "stdout",
     "output_type": "stream",
     "text": [
      "epoch: 53, cur_loss = [ 27473.84375]\n"
     ]
    },
    {
     "name": "stderr",
     "output_type": "stream",
     "text": [
      " 55%|█████▌    | 55/100 [09:36<07:51, 10.48s/it]"
     ]
    },
    {
     "name": "stdout",
     "output_type": "stream",
     "text": [
      "epoch: 54, cur_loss = [ 26758.8125]\n"
     ]
    },
    {
     "name": "stderr",
     "output_type": "stream",
     "text": [
      " 56%|█████▌    | 56/100 [09:47<07:41, 10.48s/it]"
     ]
    },
    {
     "name": "stdout",
     "output_type": "stream",
     "text": [
      "epoch: 55, cur_loss = [ 25794.79296875]\n"
     ]
    },
    {
     "name": "stderr",
     "output_type": "stream",
     "text": [
      " 57%|█████▋    | 57/100 [09:57<07:30, 10.48s/it]"
     ]
    },
    {
     "name": "stdout",
     "output_type": "stream",
     "text": [
      "epoch: 56, cur_loss = [ 26381.859375]\n"
     ]
    },
    {
     "name": "stderr",
     "output_type": "stream",
     "text": [
      " 58%|█████▊    | 58/100 [10:07<07:20, 10.48s/it]"
     ]
    },
    {
     "name": "stdout",
     "output_type": "stream",
     "text": [
      "epoch: 57, cur_loss = [ 26403.55273438]\n"
     ]
    },
    {
     "name": "stderr",
     "output_type": "stream",
     "text": [
      " 59%|█████▉    | 59/100 [10:18<07:09, 10.48s/it]"
     ]
    },
    {
     "name": "stdout",
     "output_type": "stream",
     "text": [
      "epoch: 58, cur_loss = [ 26519.71875]\n"
     ]
    },
    {
     "name": "stderr",
     "output_type": "stream",
     "text": [
      " 60%|██████    | 60/100 [10:28<06:59, 10.48s/it]"
     ]
    },
    {
     "name": "stdout",
     "output_type": "stream",
     "text": [
      "epoch: 59, cur_loss = [ 25202.00585938]\n"
     ]
    },
    {
     "name": "stderr",
     "output_type": "stream",
     "text": [
      " 61%|██████    | 61/100 [10:39<06:48, 10.48s/it]"
     ]
    },
    {
     "name": "stdout",
     "output_type": "stream",
     "text": [
      "epoch: 60, cur_loss = [ 25999.578125]\n"
     ]
    },
    {
     "name": "stderr",
     "output_type": "stream",
     "text": [
      " 62%|██████▏   | 62/100 [10:49<06:37, 10.47s/it]"
     ]
    },
    {
     "name": "stdout",
     "output_type": "stream",
     "text": [
      "epoch: 61, cur_loss = [ 26167.734375]\n"
     ]
    },
    {
     "name": "stderr",
     "output_type": "stream",
     "text": [
      " 63%|██████▎   | 63/100 [10:58<06:26, 10.45s/it]"
     ]
    },
    {
     "name": "stdout",
     "output_type": "stream",
     "text": [
      "epoch: 62, cur_loss = [ 25856.5390625]\n"
     ]
    },
    {
     "name": "stderr",
     "output_type": "stream",
     "text": [
      " 64%|██████▍   | 64/100 [11:08<06:16, 10.45s/it]"
     ]
    },
    {
     "name": "stdout",
     "output_type": "stream",
     "text": [
      "epoch: 63, cur_loss = [ 25656.98046875]\n"
     ]
    },
    {
     "name": "stderr",
     "output_type": "stream",
     "text": [
      " 65%|██████▌   | 65/100 [11:18<06:05, 10.44s/it]"
     ]
    },
    {
     "name": "stdout",
     "output_type": "stream",
     "text": [
      "epoch: 64, cur_loss = [ 26712.34570312]\n"
     ]
    },
    {
     "name": "stderr",
     "output_type": "stream",
     "text": [
      " 66%|██████▌   | 66/100 [11:28<05:54, 10.43s/it]"
     ]
    },
    {
     "name": "stdout",
     "output_type": "stream",
     "text": [
      "epoch: 65, cur_loss = [ 25821.6796875]\n"
     ]
    },
    {
     "name": "stderr",
     "output_type": "stream",
     "text": [
      " 67%|██████▋   | 67/100 [11:37<05:43, 10.42s/it]"
     ]
    },
    {
     "name": "stdout",
     "output_type": "stream",
     "text": [
      "epoch: 66, cur_loss = [ 25658.32421875]\n"
     ]
    },
    {
     "name": "stderr",
     "output_type": "stream",
     "text": [
      " 68%|██████▊   | 68/100 [11:48<05:33, 10.42s/it]"
     ]
    },
    {
     "name": "stdout",
     "output_type": "stream",
     "text": [
      "epoch: 67, cur_loss = [ 25238.30078125]\n"
     ]
    },
    {
     "name": "stderr",
     "output_type": "stream",
     "text": [
      " 69%|██████▉   | 69/100 [11:58<05:22, 10.42s/it]"
     ]
    },
    {
     "name": "stdout",
     "output_type": "stream",
     "text": [
      "epoch: 68, cur_loss = [ 24754.37109375]\n"
     ]
    },
    {
     "name": "stderr",
     "output_type": "stream",
     "text": [
      " 70%|███████   | 70/100 [12:09<05:12, 10.41s/it]"
     ]
    },
    {
     "name": "stdout",
     "output_type": "stream",
     "text": [
      "epoch: 69, cur_loss = [ 24816.8203125]\n"
     ]
    },
    {
     "name": "stderr",
     "output_type": "stream",
     "text": [
      " 71%|███████   | 71/100 [12:19<05:01, 10.41s/it]"
     ]
    },
    {
     "name": "stdout",
     "output_type": "stream",
     "text": [
      "epoch: 70, cur_loss = [ 25257.1171875]\n"
     ]
    },
    {
     "name": "stderr",
     "output_type": "stream",
     "text": [
      " 72%|███████▏  | 72/100 [12:29<04:51, 10.41s/it]"
     ]
    },
    {
     "name": "stdout",
     "output_type": "stream",
     "text": [
      "epoch: 71, cur_loss = [ 24794.984375]\n"
     ]
    },
    {
     "name": "stderr",
     "output_type": "stream",
     "text": [
      " 73%|███████▎  | 73/100 [12:40<04:41, 10.41s/it]"
     ]
    },
    {
     "name": "stdout",
     "output_type": "stream",
     "text": [
      "epoch: 72, cur_loss = [ 25269.86523438]\n"
     ]
    },
    {
     "name": "stderr",
     "output_type": "stream",
     "text": [
      " 74%|███████▍  | 74/100 [12:50<04:30, 10.41s/it]"
     ]
    },
    {
     "name": "stdout",
     "output_type": "stream",
     "text": [
      "epoch: 73, cur_loss = [ 24848.16015625]\n"
     ]
    },
    {
     "name": "stderr",
     "output_type": "stream",
     "text": [
      " 75%|███████▌  | 75/100 [13:00<04:20, 10.41s/it]"
     ]
    },
    {
     "name": "stdout",
     "output_type": "stream",
     "text": [
      "epoch: 74, cur_loss = [ 25602.6640625]\n"
     ]
    },
    {
     "name": "stderr",
     "output_type": "stream",
     "text": [
      " 76%|███████▌  | 76/100 [13:11<04:09, 10.41s/it]"
     ]
    },
    {
     "name": "stdout",
     "output_type": "stream",
     "text": [
      "epoch: 75, cur_loss = [ 24856.83984375]\n"
     ]
    },
    {
     "name": "stderr",
     "output_type": "stream",
     "text": [
      " 77%|███████▋  | 77/100 [13:22<03:59, 10.42s/it]"
     ]
    },
    {
     "name": "stdout",
     "output_type": "stream",
     "text": [
      "epoch: 76, cur_loss = [ 24597.27148438]\n"
     ]
    },
    {
     "name": "stderr",
     "output_type": "stream",
     "text": [
      " 78%|███████▊  | 78/100 [13:32<03:49, 10.41s/it]"
     ]
    },
    {
     "name": "stdout",
     "output_type": "stream",
     "text": [
      "epoch: 77, cur_loss = [ 24204.63867188]\n"
     ]
    },
    {
     "name": "stderr",
     "output_type": "stream",
     "text": [
      " 79%|███████▉  | 79/100 [13:42<03:38, 10.41s/it]"
     ]
    },
    {
     "name": "stdout",
     "output_type": "stream",
     "text": [
      "epoch: 78, cur_loss = [ 24373.25390625]\n"
     ]
    },
    {
     "name": "stderr",
     "output_type": "stream",
     "text": [
      " 80%|████████  | 80/100 [13:52<03:28, 10.41s/it]"
     ]
    },
    {
     "name": "stdout",
     "output_type": "stream",
     "text": [
      "epoch: 79, cur_loss = [ 24677.453125]\n"
     ]
    },
    {
     "name": "stderr",
     "output_type": "stream",
     "text": [
      " 81%|████████  | 81/100 [14:01<03:17, 10.39s/it]"
     ]
    },
    {
     "name": "stdout",
     "output_type": "stream",
     "text": [
      "epoch: 80, cur_loss = [ 24704.59765625]\n"
     ]
    },
    {
     "name": "stderr",
     "output_type": "stream",
     "text": [
      " 82%|████████▏ | 82/100 [14:11<03:06, 10.38s/it]"
     ]
    },
    {
     "name": "stdout",
     "output_type": "stream",
     "text": [
      "epoch: 81, cur_loss = [ 24129.71679688]\n"
     ]
    },
    {
     "name": "stderr",
     "output_type": "stream",
     "text": [
      " 83%|████████▎ | 83/100 [14:21<02:56, 10.37s/it]"
     ]
    },
    {
     "name": "stdout",
     "output_type": "stream",
     "text": [
      "epoch: 82, cur_loss = [ 23944.1875]\n"
     ]
    },
    {
     "name": "stderr",
     "output_type": "stream",
     "text": [
      " 84%|████████▍ | 84/100 [14:32<02:46, 10.38s/it]"
     ]
    },
    {
     "name": "stdout",
     "output_type": "stream",
     "text": [
      "epoch: 83, cur_loss = [ 24165.953125]\n"
     ]
    },
    {
     "name": "stderr",
     "output_type": "stream",
     "text": [
      " 85%|████████▌ | 85/100 [14:42<02:35, 10.38s/it]"
     ]
    },
    {
     "name": "stdout",
     "output_type": "stream",
     "text": [
      "epoch: 84, cur_loss = [ 23770.59375]\n"
     ]
    },
    {
     "name": "stderr",
     "output_type": "stream",
     "text": [
      " 86%|████████▌ | 86/100 [14:52<02:25, 10.38s/it]"
     ]
    },
    {
     "name": "stdout",
     "output_type": "stream",
     "text": [
      "epoch: 85, cur_loss = [ 24234.44726562]\n"
     ]
    },
    {
     "name": "stderr",
     "output_type": "stream",
     "text": [
      " 87%|████████▋ | 87/100 [15:03<02:14, 10.38s/it]"
     ]
    },
    {
     "name": "stdout",
     "output_type": "stream",
     "text": [
      "epoch: 86, cur_loss = [ 24427.85546875]\n"
     ]
    },
    {
     "name": "stderr",
     "output_type": "stream",
     "text": [
      " 88%|████████▊ | 88/100 [15:12<02:04, 10.37s/it]"
     ]
    },
    {
     "name": "stdout",
     "output_type": "stream",
     "text": [
      "epoch: 87, cur_loss = [ 23809.71875]\n"
     ]
    },
    {
     "name": "stderr",
     "output_type": "stream",
     "text": [
      " 89%|████████▉ | 89/100 [15:22<01:54, 10.37s/it]"
     ]
    },
    {
     "name": "stdout",
     "output_type": "stream",
     "text": [
      "epoch: 88, cur_loss = [ 23889.453125]\n"
     ]
    },
    {
     "name": "stderr",
     "output_type": "stream",
     "text": [
      " 90%|█████████ | 90/100 [15:33<01:43, 10.37s/it]"
     ]
    },
    {
     "name": "stdout",
     "output_type": "stream",
     "text": [
      "epoch: 89, cur_loss = [ 23328.625]\n"
     ]
    },
    {
     "name": "stderr",
     "output_type": "stream",
     "text": [
      " 91%|█████████ | 91/100 [15:43<01:33, 10.37s/it]"
     ]
    },
    {
     "name": "stdout",
     "output_type": "stream",
     "text": [
      "epoch: 90, cur_loss = [ 24610.19726562]\n"
     ]
    },
    {
     "name": "stderr",
     "output_type": "stream",
     "text": [
      " 92%|█████████▏| 92/100 [15:54<01:22, 10.37s/it]"
     ]
    },
    {
     "name": "stdout",
     "output_type": "stream",
     "text": [
      "epoch: 91, cur_loss = [ 23771.58789062]\n"
     ]
    },
    {
     "name": "stderr",
     "output_type": "stream",
     "text": [
      " 93%|█████████▎| 93/100 [16:05<01:12, 10.38s/it]"
     ]
    },
    {
     "name": "stdout",
     "output_type": "stream",
     "text": [
      "epoch: 92, cur_loss = [ 23217.75195312]\n"
     ]
    },
    {
     "name": "stderr",
     "output_type": "stream",
     "text": [
      " 94%|█████████▍| 94/100 [16:15<01:02, 10.38s/it]"
     ]
    },
    {
     "name": "stdout",
     "output_type": "stream",
     "text": [
      "epoch: 93, cur_loss = [ 23464.08984375]\n"
     ]
    },
    {
     "name": "stderr",
     "output_type": "stream",
     "text": [
      " 95%|█████████▌| 95/100 [16:26<00:51, 10.38s/it]"
     ]
    },
    {
     "name": "stdout",
     "output_type": "stream",
     "text": [
      "epoch: 94, cur_loss = [ 23434.85351562]\n"
     ]
    },
    {
     "name": "stderr",
     "output_type": "stream",
     "text": [
      " 96%|█████████▌| 96/100 [16:37<00:41, 10.39s/it]"
     ]
    },
    {
     "name": "stdout",
     "output_type": "stream",
     "text": [
      "epoch: 95, cur_loss = [ 22911.69140625]\n"
     ]
    },
    {
     "name": "stderr",
     "output_type": "stream",
     "text": [
      " 97%|█████████▋| 97/100 [16:46<00:31, 10.38s/it]"
     ]
    },
    {
     "name": "stdout",
     "output_type": "stream",
     "text": [
      "epoch: 96, cur_loss = [ 23536.22851562]\n"
     ]
    },
    {
     "name": "stderr",
     "output_type": "stream",
     "text": [
      " 98%|█████████▊| 98/100 [16:57<00:20, 10.38s/it]"
     ]
    },
    {
     "name": "stdout",
     "output_type": "stream",
     "text": [
      "epoch: 97, cur_loss = [ 23253.5]\n"
     ]
    },
    {
     "name": "stderr",
     "output_type": "stream",
     "text": [
      " 99%|█████████▉| 99/100 [17:08<00:10, 10.38s/it]"
     ]
    },
    {
     "name": "stdout",
     "output_type": "stream",
     "text": [
      "epoch: 98, cur_loss = [ 23406.5]\n"
     ]
    },
    {
     "name": "stderr",
     "output_type": "stream",
     "text": [
      "100%|██████████| 100/100 [17:18<00:00, 10.38s/it]"
     ]
    },
    {
     "name": "stdout",
     "output_type": "stream",
     "text": [
      "epoch: 99, cur_loss = [ 23272.82421875]\n"
     ]
    },
    {
     "name": "stderr",
     "output_type": "stream",
     "text": [
      "\n"
     ]
    }
   ],
   "source": [
    "EPOCHS = 100\n",
    "\n",
    "los = []\n",
    "for e in tqdm(range(EPOCHS)):\n",
    "    for i, (data, label) in enumerate(train_data):\n",
    "        x = data.as_in_context(gpu_ctx)\n",
    "        \n",
    "    with autograd.record():\n",
    "        if i == 0:\n",
    "            print('...start algorithm')\n",
    "        x_gen, z_mean, log_z_var = vae(x)\n",
    "        loss = vae_loss(x, x_gen, z_mean, log_z_var)\n",
    "    loss.backward()\n",
    "    trainer.step(data.shape[0])\n",
    "    tqdm.write('epoch: {}, cur_loss = {}'.format(e, loss.asnumpy()))\n",
    "    los.append(loss.asnumpy())"
   ]
  },
  {
   "cell_type": "code",
   "execution_count": 29,
   "metadata": {
    "ExecuteTime": {
     "end_time": "2018-01-15T00:32:18.347194Z",
     "start_time": "2018-01-15T00:32:18.316261Z"
    }
   },
   "outputs": [
    {
     "data": {
      "text/plain": [
       "[array([ 54350.09375], dtype=float32),\n",
       " array([ 54163.58203125], dtype=float32),\n",
       " array([ 53940.5859375], dtype=float32),\n",
       " array([ 53577.5546875], dtype=float32),\n",
       " array([ 53290.1953125], dtype=float32),\n",
       " array([ 52874.20703125], dtype=float32),\n",
       " array([ 52159.8359375], dtype=float32),\n",
       " array([ 51623.296875], dtype=float32),\n",
       " array([ 50863.046875], dtype=float32),\n",
       " array([ 50127.8359375], dtype=float32),\n",
       " array([ 49138.59375], dtype=float32),\n",
       " array([ 48158.03125], dtype=float32),\n",
       " array([ 46966.38671875], dtype=float32),\n",
       " array([ 46420.2890625], dtype=float32),\n",
       " array([ 44945.2734375], dtype=float32),\n",
       " array([ 43772.578125], dtype=float32),\n",
       " array([ 43327.75], dtype=float32),\n",
       " array([ 42225.8828125], dtype=float32),\n",
       " array([ 41305.35546875], dtype=float32),\n",
       " array([ 39821.390625], dtype=float32),\n",
       " array([ 39837.984375], dtype=float32),\n",
       " array([ 37897.546875], dtype=float32),\n",
       " array([ 37402.58984375], dtype=float32),\n",
       " array([ 36430.66796875], dtype=float32),\n",
       " array([ 36095.6640625], dtype=float32),\n",
       " array([ 35126.5390625], dtype=float32),\n",
       " array([ 34470.4609375], dtype=float32),\n",
       " array([ 33599.69921875], dtype=float32),\n",
       " array([ 33913.62109375], dtype=float32),\n",
       " array([ 32692.48632812], dtype=float32),\n",
       " array([ 32491.48828125], dtype=float32),\n",
       " array([ 31703.796875], dtype=float32),\n",
       " array([ 30773.55078125], dtype=float32),\n",
       " array([ 31209.1484375], dtype=float32),\n",
       " array([ 30360.81054688], dtype=float32),\n",
       " array([ 30323.83203125], dtype=float32),\n",
       " array([ 30259.97265625], dtype=float32),\n",
       " array([ 29723.73632812], dtype=float32),\n",
       " array([ 29924.18359375], dtype=float32),\n",
       " array([ 28822.0390625], dtype=float32),\n",
       " array([ 28872.8203125], dtype=float32),\n",
       " array([ 28190.58984375], dtype=float32),\n",
       " array([ 29409.578125], dtype=float32),\n",
       " array([ 28821.5546875], dtype=float32),\n",
       " array([ 28222.65625], dtype=float32),\n",
       " array([ 28426.921875], dtype=float32),\n",
       " array([ 27202.42578125], dtype=float32),\n",
       " array([ 27202.1484375], dtype=float32),\n",
       " array([ 27555.79296875], dtype=float32),\n",
       " array([ 27851.95507812], dtype=float32),\n",
       " array([ 26961.08984375], dtype=float32),\n",
       " array([ 26632.52929688], dtype=float32),\n",
       " array([ 27087.64257812], dtype=float32),\n",
       " array([ 27473.84375], dtype=float32),\n",
       " array([ 26758.8125], dtype=float32),\n",
       " array([ 25794.79296875], dtype=float32),\n",
       " array([ 26381.859375], dtype=float32),\n",
       " array([ 26403.55273438], dtype=float32),\n",
       " array([ 26519.71875], dtype=float32),\n",
       " array([ 25202.00585938], dtype=float32),\n",
       " array([ 25999.578125], dtype=float32),\n",
       " array([ 26167.734375], dtype=float32),\n",
       " array([ 25856.5390625], dtype=float32),\n",
       " array([ 25656.98046875], dtype=float32),\n",
       " array([ 26712.34570312], dtype=float32),\n",
       " array([ 25821.6796875], dtype=float32),\n",
       " array([ 25658.32421875], dtype=float32),\n",
       " array([ 25238.30078125], dtype=float32),\n",
       " array([ 24754.37109375], dtype=float32),\n",
       " array([ 24816.8203125], dtype=float32),\n",
       " array([ 25257.1171875], dtype=float32),\n",
       " array([ 24794.984375], dtype=float32),\n",
       " array([ 25269.86523438], dtype=float32),\n",
       " array([ 24848.16015625], dtype=float32),\n",
       " array([ 25602.6640625], dtype=float32),\n",
       " array([ 24856.83984375], dtype=float32),\n",
       " array([ 24597.27148438], dtype=float32),\n",
       " array([ 24204.63867188], dtype=float32),\n",
       " array([ 24373.25390625], dtype=float32),\n",
       " array([ 24677.453125], dtype=float32),\n",
       " array([ 24704.59765625], dtype=float32),\n",
       " array([ 24129.71679688], dtype=float32),\n",
       " array([ 23944.1875], dtype=float32),\n",
       " array([ 24165.953125], dtype=float32),\n",
       " array([ 23770.59375], dtype=float32),\n",
       " array([ 24234.44726562], dtype=float32),\n",
       " array([ 24427.85546875], dtype=float32),\n",
       " array([ 23809.71875], dtype=float32),\n",
       " array([ 23889.453125], dtype=float32),\n",
       " array([ 23328.625], dtype=float32),\n",
       " array([ 24610.19726562], dtype=float32),\n",
       " array([ 23771.58789062], dtype=float32),\n",
       " array([ 23217.75195312], dtype=float32),\n",
       " array([ 23464.08984375], dtype=float32),\n",
       " array([ 23434.85351562], dtype=float32),\n",
       " array([ 22911.69140625], dtype=float32),\n",
       " array([ 23536.22851562], dtype=float32),\n",
       " array([ 23253.5], dtype=float32),\n",
       " array([ 23406.5], dtype=float32),\n",
       " array([ 23272.82421875], dtype=float32)]"
      ]
     },
     "execution_count": 29,
     "metadata": {},
     "output_type": "execute_result"
    }
   ],
   "source": [
    "los"
   ]
  },
  {
   "cell_type": "markdown",
   "metadata": {},
   "source": [
    "## Save model"
   ]
  },
  {
   "cell_type": "code",
   "execution_count": 30,
   "metadata": {
    "ExecuteTime": {
     "end_time": "2018-01-15T00:32:19.815055Z",
     "start_time": "2018-01-15T00:32:19.805546Z"
    },
    "collapsed": true
   },
   "outputs": [],
   "source": [
    "# Path to save parameters\n",
    "model_prefix = 'vae_gluon.params'\n",
    "vae.save_params(model_prefix)"
   ]
  },
  {
   "cell_type": "markdown",
   "metadata": {},
   "source": [
    "# Predict"
   ]
  },
  {
   "cell_type": "markdown",
   "metadata": {},
   "source": [
    "## Load model"
   ]
  },
  {
   "cell_type": "code",
   "execution_count": 31,
   "metadata": {
    "ExecuteTime": {
     "end_time": "2018-01-15T00:32:20.984777Z",
     "start_time": "2018-01-15T00:32:20.981490Z"
    },
    "collapsed": true
   },
   "outputs": [],
   "source": [
    "NUM_TEST = 10"
   ]
  },
  {
   "cell_type": "code",
   "execution_count": 32,
   "metadata": {
    "ExecuteTime": {
     "end_time": "2018-01-15T00:32:21.561778Z",
     "start_time": "2018-01-15T00:32:21.553050Z"
    },
    "collapsed": true
   },
   "outputs": [],
   "source": [
    "vae2 = VAE(NUM_TEST, FILTERS, LATENT_DIM, OUTPUT_DIM)\n",
    "vae2.load_params(model_prefix, ctx=gpu_ctx)"
   ]
  },
  {
   "cell_type": "markdown",
   "metadata": {},
   "source": [
    "## Get original image"
   ]
  },
  {
   "cell_type": "code",
   "execution_count": 33,
   "metadata": {
    "ExecuteTime": {
     "end_time": "2018-01-15T00:32:22.331464Z",
     "start_time": "2018-01-15T00:32:22.261977Z"
    },
    "collapsed": true
   },
   "outputs": [],
   "source": [
    "for i, (data) in enumerate(test_data):\n",
    "    original_image = data[0][0:NUM_TEST, :, :, :]\n",
    "    if i == 1:\n",
    "        break"
   ]
  },
  {
   "cell_type": "markdown",
   "metadata": {},
   "source": [
    "## Reconstruct image\n",
    "  * vae2의 결과물은 [x_gen, z_mean, z_log_var]의 list형태"
   ]
  },
  {
   "cell_type": "code",
   "execution_count": 34,
   "metadata": {
    "ExecuteTime": {
     "end_time": "2018-01-15T00:32:23.650762Z",
     "start_time": "2018-01-15T00:32:23.641839Z"
    },
    "collapsed": true
   },
   "outputs": [],
   "source": [
    "result = vae2(original_image.as_in_context(gpu_ctx))\n",
    "result = nd.reshape(result[0], (10, 28, 28)).asnumpy()\n",
    "original = original_image.asnumpy()"
   ]
  },
  {
   "cell_type": "code",
   "execution_count": 36,
   "metadata": {
    "ExecuteTime": {
     "end_time": "2018-01-15T02:13:05.879517Z",
     "start_time": "2018-01-15T02:13:04.999529Z"
    }
   },
   "outputs": [
    {
     "data": {
      "image/png": "[encoded data removed]",
      "text/plain": [
       "<matplotlib.figure.Figure at 0x7ff67fb5a4e0>"
      ]
     },
     "metadata": {},
     "output_type": "display_data"
    }
   ],
   "source": [
    "import matplotlib.pyplot as plt\n",
    "%matplotlib inline\n",
    "\n",
    "n_samples = original_image.shape[0]\n",
    "\n",
    "_, axarr = plt.subplots(2, n_samples, figsize=(16,4))\n",
    "\n",
    "for i, x in enumerate(original):\n",
    "    axarr[0,i].imshow(x.reshape((28,28)), cmap='Greys')\n",
    "    if i==0:\n",
    "        axarr[0,i].set_title('original')\n",
    "    #axarr[0,i].axis('off')\n",
    "    axarr[0,i].get_xaxis().set_ticks([])\n",
    "    axarr[0,i].get_yaxis().set_ticks([])\n",
    "    axarr[1,i].imshow(result[i].reshape((28,28)), cmap='Greys')\n",
    "    if i==0:\n",
    "        axarr[1,i].set_title('reconstruction')\n",
    "    #axarr[1,i].axis('off')\n",
    "    axarr[1,i].get_xaxis().set_ticks([])\n",
    "    axarr[1,i].get_yaxis().set_ticks([])\n",
    "plt.show()"
   ]
  },
  {
   "cell_type": "code",
   "execution_count": 78,
   "metadata": {
    "ExecuteTime": {
     "end_time": "2018-01-14T11:30:46.825749Z",
     "start_time": "2018-01-14T11:30:46.779483Z"
    }
   },
   "outputs": [
    {
     "name": "stdout",
     "output_type": "stream",
     "text": [
      "after dense1....(1, 128)\n",
      "after dense2.... (1, 784)\n"
     ]
    },
    {
     "ename": "MXNetError",
     "evalue": "[20:30:46] src/operator/tensor/./matrix_op-inl.h:310: Check failed: shp.ndim() == param.axes.ndim() (2 vs. 4) \n\nStack trace returned 10 entries:\n[bt] (0) /home/kionkim/anaconda3/envs/kion_venv_mxnet/lib/python3.6/site-packages/mxnet/libmxnet.so(+0x28965c) [0x7f7d75daa65c]\n[bt] (1) /home/kionkim/anaconda3/envs/kion_venv_mxnet/lib/python3.6/site-packages/mxnet/libmxnet.so(+0x226b868) [0x7f7d77d8c868]\n[bt] (2) /home/kionkim/anaconda3/envs/kion_venv_mxnet/lib/python3.6/site-packages/mxnet/libmxnet.so(+0x24d573f) [0x7f7d77ff673f]\n[bt] (3) /home/kionkim/anaconda3/envs/kion_venv_mxnet/lib/python3.6/site-packages/mxnet/libmxnet.so(+0x24c1be9) [0x7f7d77fe2be9]\n[bt] (4) /home/kionkim/anaconda3/envs/kion_venv_mxnet/lib/python3.6/site-packages/mxnet/libmxnet.so(+0x24026bb) [0x7f7d77f236bb]\n[bt] (5) /home/kionkim/anaconda3/envs/kion_venv_mxnet/lib/python3.6/site-packages/mxnet/libmxnet.so(MXImperativeInvokeEx+0x63) [0x7f7d77f23bf3]\n[bt] (6) /home/kionkim/anaconda3/envs/kion_venv_mxnet/lib/python3.6/lib-dynload/../../libffi.so.6(ffi_call_unix64+0x4c) [0x7f7daf864ec0]\n[bt] (7) /home/kionkim/anaconda3/envs/kion_venv_mxnet/lib/python3.6/lib-dynload/../../libffi.so.6(ffi_call+0x22d) [0x7f7daf86487d]\n[bt] (8) /home/kionkim/anaconda3/envs/kion_venv_mxnet/lib/python3.6/lib-dynload/_ctypes.cpython-36m-x86_64-linux-gnu.so(_ctypes_callproc+0x2ce) [0x7f7dafa7982e]\n[bt] (9) /home/kionkim/anaconda3/envs/kion_venv_mxnet/lib/python3.6/lib-dynload/_ctypes.cpython-36m-x86_64-linux-gnu.so(+0x12265) [0x7f7dafa7a265]\n",
     "output_type": "error",
     "traceback": [
      "\u001b[0;31m---------------------------------------------------------------------------\u001b[0m",
      "\u001b[0;31mMXNetError\u001b[0m                                Traceback (most recent call last)",
      "\u001b[0;32m<ipython-input-78-036ffcb7f689>\u001b[0m in \u001b[0;36m<module>\u001b[0;34m()\u001b[0m\n\u001b[1;32m      5\u001b[0m \u001b[0mt_i\u001b[0m \u001b[0;34m=\u001b[0m \u001b[0mtest_input\u001b[0m\u001b[0;34m.\u001b[0m\u001b[0mreshape\u001b[0m\u001b[0;34m(\u001b[0m\u001b[0;34m(\u001b[0m\u001b[0;34m-\u001b[0m\u001b[0;36m1\u001b[0m\u001b[0;34m,\u001b[0m \u001b[0mLATENT_DIM\u001b[0m\u001b[0;34m)\u001b[0m\u001b[0;34m)\u001b[0m\u001b[0;34m\u001b[0m\u001b[0m\n\u001b[1;32m      6\u001b[0m \u001b[0mtest_gen\u001b[0m \u001b[0;34m=\u001b[0m \u001b[0mdec\u001b[0m\u001b[0;34m(\u001b[0m\u001b[0mt_i\u001b[0m\u001b[0;34m)\u001b[0m\u001b[0;34m\u001b[0m\u001b[0m\n\u001b[0;32m----> 7\u001b[0;31m \u001b[0mt_g\u001b[0m \u001b[0;34m=\u001b[0m \u001b[0mnd\u001b[0m\u001b[0;34m.\u001b[0m\u001b[0mtranspose\u001b[0m\u001b[0;34m(\u001b[0m\u001b[0mtest_gen\u001b[0m\u001b[0;34m,\u001b[0m \u001b[0;34m(\u001b[0m\u001b[0;36m0\u001b[0m\u001b[0;34m,\u001b[0m \u001b[0;36m2\u001b[0m\u001b[0;34m,\u001b[0m \u001b[0;36m3\u001b[0m\u001b[0;34m,\u001b[0m \u001b[0;36m1\u001b[0m\u001b[0;34m)\u001b[0m\u001b[0;34m)\u001b[0m\u001b[0;34m\u001b[0m\u001b[0m\n\u001b[0m\u001b[1;32m      8\u001b[0m \u001b[0mim\u001b[0m \u001b[0;34m=\u001b[0m \u001b[0mnd\u001b[0m\u001b[0;34m.\u001b[0m\u001b[0mtranspose\u001b[0m\u001b[0;34m(\u001b[0m\u001b[0mt_g\u001b[0m\u001b[0;34m,\u001b[0m\u001b[0;34m(\u001b[0m\u001b[0;36m1\u001b[0m\u001b[0;34m,\u001b[0m\u001b[0;36m0\u001b[0m\u001b[0;34m,\u001b[0m\u001b[0;36m2\u001b[0m\u001b[0;34m,\u001b[0m\u001b[0;36m3\u001b[0m\u001b[0;34m)\u001b[0m\u001b[0;34m)\u001b[0m\u001b[0;34m\u001b[0m\u001b[0m\n\u001b[1;32m      9\u001b[0m \u001b[0mim\u001b[0m \u001b[0;34m=\u001b[0m \u001b[0mnd\u001b[0m\u001b[0;34m.\u001b[0m\u001b[0mreshape\u001b[0m\u001b[0;34m(\u001b[0m\u001b[0mim\u001b[0m\u001b[0;34m,\u001b[0m\u001b[0;34m(\u001b[0m\u001b[0;36m28\u001b[0m\u001b[0;34m,\u001b[0m \u001b[0;36m28\u001b[0m\u001b[0;34m,\u001b[0m\u001b[0;36m1\u001b[0m\u001b[0;34m)\u001b[0m\u001b[0;34m)\u001b[0m\u001b[0;34m\u001b[0m\u001b[0m\n",
      "\u001b[0;32m~/anaconda3/envs/kion_venv_mxnet/lib/python3.6/site-packages/mxnet/ndarray/register.py\u001b[0m in \u001b[0;36mtranspose\u001b[0;34m(data, axes, out, name, **kwargs)\u001b[0m\n",
      "\u001b[0;32m~/anaconda3/envs/kion_venv_mxnet/lib/python3.6/site-packages/mxnet/_ctypes/ndarray.py\u001b[0m in \u001b[0;36m_imperative_invoke\u001b[0;34m(handle, ndargs, keys, vals, out)\u001b[0m\n\u001b[1;32m     90\u001b[0m         \u001b[0mc_str_array\u001b[0m\u001b[0;34m(\u001b[0m\u001b[0mkeys\u001b[0m\u001b[0;34m)\u001b[0m\u001b[0;34m,\u001b[0m\u001b[0;34m\u001b[0m\u001b[0m\n\u001b[1;32m     91\u001b[0m         \u001b[0mc_str_array\u001b[0m\u001b[0;34m(\u001b[0m\u001b[0;34m[\u001b[0m\u001b[0mstr\u001b[0m\u001b[0;34m(\u001b[0m\u001b[0ms\u001b[0m\u001b[0;34m)\u001b[0m \u001b[0;32mfor\u001b[0m \u001b[0ms\u001b[0m \u001b[0;32min\u001b[0m \u001b[0mvals\u001b[0m\u001b[0;34m]\u001b[0m\u001b[0;34m)\u001b[0m\u001b[0;34m,\u001b[0m\u001b[0;34m\u001b[0m\u001b[0m\n\u001b[0;32m---> 92\u001b[0;31m         ctypes.byref(out_stypes)))\n\u001b[0m\u001b[1;32m     93\u001b[0m \u001b[0;34m\u001b[0m\u001b[0m\n\u001b[1;32m     94\u001b[0m     \u001b[0;32mif\u001b[0m \u001b[0moriginal_output\u001b[0m \u001b[0;32mis\u001b[0m \u001b[0;32mnot\u001b[0m \u001b[0;32mNone\u001b[0m\u001b[0;34m:\u001b[0m\u001b[0;34m\u001b[0m\u001b[0m\n",
      "\u001b[0;32m~/anaconda3/envs/kion_venv_mxnet/lib/python3.6/site-packages/mxnet/base.py\u001b[0m in \u001b[0;36mcheck_call\u001b[0;34m(ret)\u001b[0m\n\u001b[1;32m    144\u001b[0m     \"\"\"\n\u001b[1;32m    145\u001b[0m     \u001b[0;32mif\u001b[0m \u001b[0mret\u001b[0m \u001b[0;34m!=\u001b[0m \u001b[0;36m0\u001b[0m\u001b[0;34m:\u001b[0m\u001b[0;34m\u001b[0m\u001b[0m\n\u001b[0;32m--> 146\u001b[0;31m         \u001b[0;32mraise\u001b[0m \u001b[0mMXNetError\u001b[0m\u001b[0;34m(\u001b[0m\u001b[0mpy_str\u001b[0m\u001b[0;34m(\u001b[0m\u001b[0m_LIB\u001b[0m\u001b[0;34m.\u001b[0m\u001b[0mMXGetLastError\u001b[0m\u001b[0;34m(\u001b[0m\u001b[0;34m)\u001b[0m\u001b[0;34m)\u001b[0m\u001b[0;34m)\u001b[0m\u001b[0;34m\u001b[0m\u001b[0m\n\u001b[0m\u001b[1;32m    147\u001b[0m \u001b[0;34m\u001b[0m\u001b[0m\n\u001b[1;32m    148\u001b[0m \u001b[0;34m\u001b[0m\u001b[0m\n",
      "\u001b[0;31mMXNetError\u001b[0m: [20:30:46] src/operator/tensor/./matrix_op-inl.h:310: Check failed: shp.ndim() == param.axes.ndim() (2 vs. 4) \n\nStack trace returned 10 entries:\n[bt] (0) /home/kionkim/anaconda3/envs/kion_venv_mxnet/lib/python3.6/site-packages/mxnet/libmxnet.so(+0x28965c) [0x7f7d75daa65c]\n[bt] (1) /home/kionkim/anaconda3/envs/kion_venv_mxnet/lib/python3.6/site-packages/mxnet/libmxnet.so(+0x226b868) [0x7f7d77d8c868]\n[bt] (2) /home/kionkim/anaconda3/envs/kion_venv_mxnet/lib/python3.6/site-packages/mxnet/libmxnet.so(+0x24d573f) [0x7f7d77ff673f]\n[bt] (3) /home/kionkim/anaconda3/envs/kion_venv_mxnet/lib/python3.6/site-packages/mxnet/libmxnet.so(+0x24c1be9) [0x7f7d77fe2be9]\n[bt] (4) /home/kionkim/anaconda3/envs/kion_venv_mxnet/lib/python3.6/site-packages/mxnet/libmxnet.so(+0x24026bb) [0x7f7d77f236bb]\n[bt] (5) /home/kionkim/anaconda3/envs/kion_venv_mxnet/lib/python3.6/site-packages/mxnet/libmxnet.so(MXImperativeInvokeEx+0x63) [0x7f7d77f23bf3]\n[bt] (6) /home/kionkim/anaconda3/envs/kion_venv_mxnet/lib/python3.6/lib-dynload/../../libffi.so.6(ffi_call_unix64+0x4c) [0x7f7daf864ec0]\n[bt] (7) /home/kionkim/anaconda3/envs/kion_venv_mxnet/lib/python3.6/lib-dynload/../../libffi.so.6(ffi_call+0x22d) [0x7f7daf86487d]\n[bt] (8) /home/kionkim/anaconda3/envs/kion_venv_mxnet/lib/python3.6/lib-dynload/_ctypes.cpython-36m-x86_64-linux-gnu.so(_ctypes_callproc+0x2ce) [0x7f7dafa7982e]\n[bt] (9) /home/kionkim/anaconda3/envs/kion_venv_mxnet/lib/python3.6/lib-dynload/_ctypes.cpython-36m-x86_64-linux-gnu.so(+0x12265) [0x7f7dafa7a265]\n"
     ]
    }
   ],
   "source": [
    "import matplotlib.pyplot as plt\n",
    "%matplotlib inline\n",
    "\n",
    "test_input = nd.random_normal(loc = 0,scale = 2,shape= LATENT_DIM, ctx = gpu_ctx)\n",
    "t_i = test_input.reshape((-1, LATENT_DIM))\n",
    "test_gen = dec(t_i)\n",
    "t_g = nd.transpose(test_gen, (0, 2, 3, 1))\n",
    "im = nd.transpose(t_g,(1,0,2,3))\n",
    "im = nd.reshape(im,(28, 28,1))\n",
    "imtiles = nd.tile(im, (1,1,3))\n",
    "plt.imshow(imtiles.asnumpy())\n",
    "plt.show()"
   ]
  },
  {
   "cell_type": "code",
   "execution_count": 28,
   "metadata": {
    "ExecuteTime": {
     "end_time": "2018-01-14T03:55:08.487869Z",
     "start_time": "2018-01-14T03:55:08.457055Z"
    }
   },
   "outputs": [
    {
     "data": {
      "text/plain": [
       "\n",
       "[[[[ 0.50028056  0.50006336  0.50001007  0.50009346  0.49996209  0.50000113\n",
       "     0.49992168  0.49999869  0.50012594  0.50015461  0.49982446  0.49991751\n",
       "     0.50012875  0.49998283  0.500054    0.50003207  0.49995345  0.50020087\n",
       "     0.50006247  0.50009751  0.50001132  0.50002122  0.50020128  0.50011408\n",
       "     0.50015682  0.50007886  0.50016648  0.49989346]\n",
       "   [ 0.50011837  0.50011653  0.50027168  0.50032485  0.50028926  0.50001252\n",
       "     0.50006485  0.49996322  0.50024915  0.50002694  0.50019926  0.50000727\n",
       "     0.50022888  0.50010306  0.50001353  0.50021893  0.5002014   0.4999401\n",
       "     0.50021875  0.49995762  0.50036168  0.50027966  0.49988237  0.50007564\n",
       "     0.50023842  0.50001597  0.50022185  0.50012606]\n",
       "   [ 0.50005227  0.49979421  0.50009608  0.49971488  0.50017655  0.50009847\n",
       "     0.5001843   0.49974751  0.50009674  0.49989203  0.50011927  0.49963233\n",
       "     0.50005466  0.50025785  0.49996638  0.49961466  0.49995768  0.49970406\n",
       "     0.50039279  0.49965215  0.50003338  0.50002873  0.50033277  0.49984068\n",
       "     0.50003922  0.50007296  0.50001836  0.50009447]\n",
       "   [ 0.50006235  0.50024301  0.50039572  0.50014114  0.5001747   0.50009507\n",
       "     0.50031072  0.50009489  0.50038058  0.50032836  0.50025034  0.49987289\n",
       "     0.5002054   0.50024503  0.50007218  0.49971768  0.50036728  0.50035596\n",
       "     0.5002737   0.5001545   0.50017071  0.49999452  0.50039792  0.4998872\n",
       "     0.50003654  0.50000119  0.50017905  0.50004572]\n",
       "   [ 0.50035399  0.49978521  0.50010669  0.49967     0.50016695  0.50026405\n",
       "     0.50000536  0.49977717  0.49997258  0.49985364  0.49966767  0.49981576\n",
       "     0.50025159  0.50033194  0.50000763  0.49978957  0.50039321  0.50019783\n",
       "     0.49979433  0.49988738  0.50003093  0.49996573  0.50000042  0.49989006\n",
       "     0.5002355   0.4999727   0.50026888  0.49990788]\n",
       "   [ 0.50019675  0.50040197  0.49979851  0.50036258  0.50006616  0.50013363\n",
       "     0.50007373  0.50038266  0.50041044  0.50033748  0.50030917  0.50017381\n",
       "     0.50031871  0.50029504  0.50005448  0.50014824  0.5003081   0.50015718\n",
       "     0.50002432  0.50027078  0.50036895  0.49999166  0.49993145  0.49994415\n",
       "     0.50019068  0.50008613  0.50003618  0.49988869]\n",
       "   [ 0.50018346  0.50012612  0.49985054  0.49969238  0.50020897  0.50021923\n",
       "     0.50011861  0.49980813  0.49997497  0.49985841  0.5002116   0.4996669\n",
       "     0.50000983  0.50023609  0.50026655  0.49977306  0.49985138  0.50005573\n",
       "     0.499773    0.50001538  0.50004745  0.50005293  0.50025797  0.4996556\n",
       "     0.50000668  0.49993932  0.50001436  0.49991876]\n",
       "   [ 0.50018996  0.50005788  0.50002223  0.49977943  0.50020593  0.50002736\n",
       "     0.50025594  0.49970752  0.50019783  0.5001139   0.50021523  0.49981236\n",
       "     0.50040513  0.50006032  0.50033057  0.49989513  0.50051111  0.50011045\n",
       "     0.50033569  0.50016826  0.50034618  0.50013578  0.50023454  0.50031805\n",
       "     0.50020921  0.49990466  0.50003994  0.49998307]\n",
       "   [ 0.50017321  0.49986604  0.49991906  0.49988917  0.50010717  0.50003129\n",
       "     0.49987599  0.49971864  0.50035053  0.50028372  0.49962619  0.49998248\n",
       "     0.50049549  0.50004745  0.49987808  0.49982023  0.50004154  0.4999401\n",
       "     0.49980101  0.49972484  0.50017738  0.50002152  0.50001615  0.50001502\n",
       "     0.50006276  0.5001356   0.50021476  0.49993134]\n",
       "   [ 0.50025171  0.50022322  0.49991691  0.49996209  0.50048506  0.4999373\n",
       "     0.49989608  0.50006378  0.50040507  0.50029755  0.50020355  0.50043476\n",
       "     0.50050306  0.50018543  0.50009644  0.50031614  0.50057334  0.50025719\n",
       "     0.49977848  0.50003028  0.50022233  0.50012809  0.50029474  0.50017613\n",
       "     0.50012463  0.50015801  0.50022602  0.5000295 ]\n",
       "   [ 0.50010556  0.49986389  0.50027978  0.49960211  0.50017583  0.500256\n",
       "     0.50022328  0.49952975  0.49991775  0.50019056  0.50048727  0.49969709\n",
       "     0.500251    0.50020295  0.50012809  0.49995887  0.49980095  0.49982005\n",
       "     0.49997473  0.49989483  0.50000286  0.49993825  0.5002284   0.49977896\n",
       "     0.49995488  0.50021595  0.50019491  0.49984336]\n",
       "   [ 0.50032407  0.5000363   0.50023729  0.49999714  0.50032514  0.50029403\n",
       "     0.50027817  0.50003952  0.50024414  0.50016147  0.50034094  0.49984103\n",
       "     0.50049222  0.50026494  0.50040555  0.5001086   0.50036132  0.50031096\n",
       "     0.50044382  0.50015795  0.50053596  0.49991301  0.50037134  0.49988833\n",
       "     0.5001424   0.50003606  0.49991947  0.49995321]\n",
       "   [ 0.50037849  0.50011581  0.49978456  0.49954414  0.50036067  0.50011635\n",
       "     0.49979672  0.49971536  0.50040281  0.50014436  0.49971306  0.49982554\n",
       "     0.49996972  0.50032401  0.50012833  0.49983436  0.5003401   0.50004923\n",
       "     0.50035846  0.49979338  0.50035131  0.50005656  0.50008529  0.50000024\n",
       "     0.5002988   0.50000399  0.50022584  0.49985364]\n",
       "   [ 0.5002296   0.50028121  0.50027746  0.5002569   0.50052798  0.5000819\n",
       "     0.50017762  0.50018156  0.50036877  0.5001601   0.50020903  0.50039911\n",
       "     0.50070375  0.4999702   0.49993777  0.50038427  0.50030226  0.50029171\n",
       "     0.5002948   0.50004089  0.50017893  0.50003332  0.49972215  0.49999523\n",
       "     0.5003373   0.50012177  0.50007975  0.50010288]\n",
       "   [ 0.50017077  0.49989358  0.50017917  0.49940848  0.49976504  0.5002529\n",
       "     0.50011498  0.49972454  0.5000385   0.49997938  0.50016797  0.49958372\n",
       "     0.49980387  0.50011593  0.50005275  0.49965501  0.49996305  0.50020838\n",
       "     0.49979576  0.49982673  0.49998939  0.49969244  0.50044239  0.49982446\n",
       "     0.5001418   0.5001083   0.49986246  0.49997413]\n",
       "   [ 0.5004921   0.50025403  0.50049543  0.49980626  0.50047731  0.50036162\n",
       "     0.50028199  0.49996138  0.50035888  0.49988857  0.50032908  0.5000726\n",
       "     0.50029331  0.50029844  0.50031483  0.49971288  0.50038111  0.50011361\n",
       "     0.50000077  0.50028247  0.50042313  0.50027555  0.50030667  0.50001413\n",
       "     0.50023955  0.50001258  0.49995172  0.50000334]\n",
       "   [ 0.50035584  0.49989805  0.49980333  0.50005507  0.50008088  0.49979743\n",
       "     0.50003427  0.49965924  0.50019073  0.49997246  0.49965113  0.49964517\n",
       "     0.50034821  0.50001013  0.49994993  0.49970824  0.49986979  0.50008625\n",
       "     0.49994063  0.49976331  0.49996233  0.50025403  0.49992454  0.49991307\n",
       "     0.50023347  0.50002986  0.50027704  0.49992681]\n",
       "   [ 0.50011176  0.50025064  0.50014442  0.50010031  0.50040567  0.49992037\n",
       "     0.50010133  0.50001287  0.50042301  0.50014609  0.50013649  0.50025767\n",
       "     0.50041741  0.50008893  0.50021845  0.50018102  0.50037289  0.49986508\n",
       "     0.50027651  0.50004303  0.50049603  0.50037444  0.50019026  0.50008291\n",
       "     0.50011927  0.50011581  0.50009286  0.49999487]\n",
       "   [ 0.50011963  0.49985614  0.50018674  0.49967846  0.50008255  0.50004506\n",
       "     0.49992478  0.49961156  0.50004214  0.49996066  0.49993217  0.49994445\n",
       "     0.50020617  0.50005376  0.50043476  0.4997074   0.50030178  0.50023341\n",
       "     0.50025368  0.49978933  0.5001148   0.50000584  0.49968812  0.49985996\n",
       "     0.50007248  0.49999821  0.50006729  0.49984998]\n",
       "   [ 0.50030112  0.50002408  0.50032961  0.50003803  0.50059366  0.50015354\n",
       "     0.50021493  0.49982023  0.50020659  0.50031561  0.50052238  0.49974847\n",
       "     0.50024247  0.50020832  0.50036621  0.49974549  0.50042665  0.49998784\n",
       "     0.50024658  0.49979487  0.50037271  0.49997103  0.50032759  0.49996984\n",
       "     0.50025231  0.5001871   0.5000686   0.49999356]\n",
       "   [ 0.50028354  0.50001067  0.49983245  0.49969244  0.50012887  0.4997212\n",
       "     0.49986419  0.49982899  0.50035673  0.49993157  0.49985883  0.49955288\n",
       "     0.50024426  0.50007153  0.49971655  0.49978319  0.49988714  0.50010395\n",
       "     0.50007492  0.49999475  0.50043988  0.49989691  0.50043017  0.4997701\n",
       "     0.50004888  0.50013047  0.50002331  0.49990162]\n",
       "   [ 0.4999665   0.50018448  0.5001182   0.50025463  0.50026608  0.50016195\n",
       "     0.49977329  0.49994624  0.50050724  0.50019854  0.49991906  0.50029844\n",
       "     0.50002545  0.49998677  0.5000518   0.50056815  0.50039989  0.50032091\n",
       "     0.49969262  0.50004357  0.5002889   0.5003103   0.49994302  0.50020474\n",
       "     0.50001484  0.50001937  0.50007647  0.5001148 ]\n",
       "   [ 0.50025064  0.50009352  0.50008118  0.49980718  0.49999261  0.50001997\n",
       "     0.50039357  0.499695    0.49988499  0.50016707  0.50004423  0.49976999\n",
       "     0.49991584  0.49993312  0.50027519  0.49957782  0.50008935  0.50015932\n",
       "     0.50030982  0.49995947  0.49999148  0.5001753   0.50018042  0.49991411\n",
       "     0.50010955  0.50004625  0.50029117  0.49996722]\n",
       "   [ 0.50035924  0.50012851  0.5001564   0.49982989  0.5003624   0.5000881\n",
       "     0.50045723  0.49996817  0.5002619   0.50026315  0.50028193  0.50011438\n",
       "     0.50006968  0.50025481  0.50030822  0.49988964  0.50024152  0.50009036\n",
       "     0.50030065  0.50000876  0.50052035  0.50014597  0.5003314   0.49991977\n",
       "     0.50016528  0.5000968   0.49995005  0.49995875]\n",
       "   [ 0.50019938  0.50014281  0.50010377  0.49987021  0.50021881  0.49992108\n",
       "     0.50006944  0.49988189  0.49993455  0.49988082  0.49989453  0.49991181\n",
       "     0.50003952  0.50017577  0.49968234  0.49967286  0.50009269  0.49980518\n",
       "     0.5001691   0.50001276  0.50042057  0.50010079  0.50002486  0.49990228\n",
       "     0.50001448  0.49998522  0.50003862  0.49982089]\n",
       "   [ 0.50009346  0.50028682  0.5002405   0.50019217  0.50018293  0.50007784\n",
       "     0.50012064  0.50011951  0.50011647  0.50015646  0.50012511  0.50012702\n",
       "     0.5001452   0.50009775  0.49995852  0.50019079  0.50017941  0.50023407\n",
       "     0.49982029  0.50013846  0.50007874  0.50010276  0.49995488  0.50012392\n",
       "     0.50020355  0.50011492  0.50006187  0.50004864]\n",
       "   [ 0.50007737  0.50001484  0.50025773  0.50002939  0.50027972  0.50012141\n",
       "     0.50013632  0.49985901  0.50002795  0.50004023  0.50003076  0.49981493\n",
       "     0.50007468  0.50019717  0.50008726  0.49985912  0.50010055  0.50010997\n",
       "     0.50004917  0.49994463  0.49986604  0.50011426  0.50012112  0.49999541\n",
       "     0.50007951  0.50010449  0.5000599   0.49997675]\n",
       "   [ 0.50001067  0.50013065  0.50006884  0.50005811  0.50010043  0.50003809\n",
       "     0.50012589  0.50006115  0.49993908  0.5001139   0.50005239  0.50004423\n",
       "     0.50010389  0.50015306  0.50014484  0.50003392  0.50013071  0.500175\n",
       "     0.50017041  0.50003874  0.49993378  0.50002271  0.49997938  0.49998343\n",
       "     0.49999565  0.50011665  0.49998403  0.50004673]]]]\n",
       "<NDArray 1x1x28x28 @gpu(0)>"
      ]
     },
     "execution_count": 28,
     "metadata": {},
     "output_type": "execute_result"
    }
   ],
   "source": [
    "test_gen"
   ]
  },
  {
   "cell_type": "code",
   "execution_count": null,
   "metadata": {
    "ExecuteTime": {
     "start_time": "2018-01-14T02:19:39.997Z"
    },
    "collapsed": true
   },
   "outputs": [],
   "source": [
    "import matplotlib.pyplot as plt\n",
    "%matplotlib inline\n",
    "\n",
    "def model_predict(net,data):\n",
    "    output = dec(data.as_in_context(model_ctx))\n",
    "    return nd.argmax(output, axis=1)\n",
    "\n",
    "NUM_EXAMPLES = 10\n",
    "# let's sample 10 random data points from the test set\n",
    "sample_data = mx.gluon.data.DataLoader(mx.gluon.data.vision.MNIST(train=False, transform=transform),\n",
    "                              NUM_EXAMPLES, shuffle=True)\n",
    "\n",
    "for i, (data, label) in enumerate(sample_data):\n",
    "    data = data.as_in_context(gpu_ctx)\n",
    "    data_t = nd.transpose(data, (0, 2, 3, 1))\n",
    "    im1 = nd.transpose(data,(1, 0, 2, 3))\n",
    "    im1 = nd.reshape(im1,(28, NUM_EXAMPLES * 28,1))\n",
    "    imtiles1 = nd.tile(im1, (1,1,3))\n",
    "    \n",
    "    gen, _, _ = vae(data)\n",
    "    gen_t = nd.transpose(gen, (0, 2, 3, 1))\n",
    "    im2 = nd.transpose(gen_t,(1, 0, 2, 3))\n",
    "    im2 = nd.reshape(im2,(28, NUM_EXAMPLES * 28, 1))\n",
    "    imtiles2 = nd.tile(im2, (1,1,3))\n",
    "    \n",
    "    f, (plt1, plt2) = plt.subplots(2, 1)\n",
    "    plt1.imshow(imtiles1.asnumpy())\n",
    "    plt2.imshow(imtiles2.asnumpy())\n",
    "    f.show()\n",
    "    #pred=model_predict(net,data.reshape((-1,784)))\n",
    "    #print('model predictions are:', pred)\n",
    "    break"
   ]
  },
  {
   "cell_type": "code",
   "execution_count": null,
   "metadata": {
    "collapsed": true
   },
   "outputs": [],
   "source": []
  }
 ],
 "metadata": {
  "anaconda-cloud": {},
  "kernelspec": {
   "display_name": "Python [conda env:kion_venv_mxnet]",
   "language": "python",
   "name": "conda-env-kion_venv_mxnet-py"
  },
  "language_info": {
   "codemirror_mode": {
    "name": "ipython",
    "version": 3
   },
   "file_extension": ".py",
   "mimetype": "text/x-python",
   "name": "python",
   "nbconvert_exporter": "python",
   "pygments_lexer": "ipython3",
   "version": "3.6.3"
  },
  "toc": {
   "nav_menu": {},
   "number_sections": true,
   "sideBar": true,
   "skip_h1_title": false,
   "toc_cell": false,
   "toc_position": {},
   "toc_section_display": "block",
   "toc_window_display": false
  }
 },
 "nbformat": 4,
 "nbformat_minor": 2
}
